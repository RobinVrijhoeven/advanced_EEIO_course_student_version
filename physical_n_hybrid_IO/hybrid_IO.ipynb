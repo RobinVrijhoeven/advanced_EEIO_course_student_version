{
 "cells": [
  {
   "attachments": {},
   "cell_type": "markdown",
   "metadata": {},
   "source": [
    "# Practical 8: Physical and Hybrid Input-Output Tables\n",
    "\n",
    "Objectives\n",
    "- Understand the structure of Hybrid Input-Output Tables (HIOT)\n",
    "- Analyze HIOT data\n",
    "\n",
    "Download the the MR_HIOT data from: https://zenodo.org/record/7244919 (n.b. ignore files that start with MR_HSUT or MR_HUSE )"
   ]
  },
  {
   "cell_type": "code",
   "execution_count": 1,
   "metadata": {},
   "outputs": [],
   "source": [
    "# Import packages\n",
    "import pandas as pd\n",
    "import numpy as np"
   ]
  },
  {
   "attachments": {},
   "cell_type": "markdown",
   "metadata": {},
   "source": [
    "### Exercise 1: Understand data availability in HIOT"
   ]
  },
  {
   "attachments": {},
   "cell_type": "markdown",
   "metadata": {},
   "source": [
    "Import the following data\n",
    "\n",
    "- MR_HIOT_2011_v3_3_18_xx_principal_production.csv indicates the principal production of the productive activities;\n",
    "- MR_HIOT_2011_v3_3_18_xx_by_product_technology.csv indicates the matrix of the uses where by-products are included with a negative sign;\n",
    "- MR_HIOT_2011_v3_3_18_xx_FD.csv includes the consumption of final consumers\n",
    "- MR_HIOT_2011_v3_3_18_xx_stock_to_waste.csv includes the demand of waste treatment services to treat the stock reduction\n",
    "- MR_HIOT_2011_v3_3_18_xx_extensions.csv includes the extensions as reported in the HSUTs. Very minor changes are applied\n",
    "\n",
    "\n",
    "In this practical you will only use a few of the imported datasets, this exercise is to help you understand the variety of the data. If you so wish, you may also perform additional analysis with the imported datasets "
   ]
  },
  {
   "attachments": {},
   "cell_type": "markdown",
   "metadata": {},
   "source": [
    "1.1 Inter-industry matrix"
   ]
  },
  {
   "cell_type": "code",
   "execution_count": 2,
   "metadata": {},
   "outputs": [],
   "source": [
    "Z = pd.read_csv(\"data/MR_HIOT_2011_v3_3_18_by_product_technology.csv\", index_col=[0,1,2,3,4], header=[0,1,2,3])"
   ]
  },
  {
   "attachments": {},
   "cell_type": "markdown",
   "metadata": {},
   "source": [
    "1.2 Final demand"
   ]
  },
  {
   "cell_type": "code",
   "execution_count": 3,
   "metadata": {},
   "outputs": [],
   "source": [
    "Y  = pd.read_csv(\"data/MR_HIOT_2011_v3_3_18_FD.csv\", index_col=[0,1,2,3,4], header=[0,1,2,3])"
   ]
  },
  {
   "attachments": {},
   "cell_type": "markdown",
   "metadata": {},
   "source": [
    "1.3 Extensions"
   ]
  },
  {
   "cell_type": "code",
   "execution_count": 4,
   "metadata": {},
   "outputs": [],
   "source": [
    "extensions = pd.ExcelFile(\"data/MR_HIOT_2011_v3_3_18_extensions.xlsx\")"
   ]
  },
  {
   "cell_type": "code",
   "execution_count": 5,
   "metadata": {},
   "outputs": [
    {
     "data": {
      "text/plain": [
       "['intro',\n",
       " 'resource_act',\n",
       " 'resource_FD',\n",
       " 'Land_act',\n",
       " 'Land_FD',\n",
       " 'Emiss_act',\n",
       " 'Emiss_FD',\n",
       " 'Emis_unreg_w_act',\n",
       " 'Emis_unreg_w_FD',\n",
       " 'waste_sup_act',\n",
       " 'waste_sup_FD',\n",
       " 'waste_use_act',\n",
       " 'waste_use_FD',\n",
       " 'pack_sup_waste_act',\n",
       " 'pack_sup_waste_fd',\n",
       " 'pack_use_waste_act',\n",
       " 'pack_use_waste_fd',\n",
       " 'mach_sup_waste_act',\n",
       " 'mach_sup_waste_fd',\n",
       " 'mach_use_waste_act',\n",
       " 'mach_use_waste_fd',\n",
       " 'waste_from_stocks',\n",
       " 'stock_addition_act',\n",
       " 'stock_addition_fd',\n",
       " 'crop_res_act',\n",
       " 'crop_res_FD',\n",
       " 'VA_act']"
      ]
     },
     "execution_count": 5,
     "metadata": {},
     "output_type": "execute_result"
    }
   ],
   "source": [
    "extensions.sheet_names"
   ]
  },
  {
   "attachments": {},
   "cell_type": "markdown",
   "metadata": {},
   "source": [
    "1.4 Resource extraction"
   ]
  },
  {
   "cell_type": "code",
   "execution_count": 6,
   "metadata": {},
   "outputs": [],
   "source": [
    "# Resource extraction matrix of Z\n",
    "RE = extensions.parse(sheet_name=\"resource_act\", index_col=[0,1], header=[0,1,2,3]) \n",
    "# Resource extraction matrix of Y\n",
    "RE_FD = extensions.parse(sheet_name=\"resource_FD\", index_col=[0,1], header=[0,1,2,3]) "
   ]
  },
  {
   "attachments": {},
   "cell_type": "markdown",
   "metadata": {},
   "source": [
    "1.5 Waste supply and use accounts"
   ]
  },
  {
   "cell_type": "code",
   "execution_count": 7,
   "metadata": {},
   "outputs": [],
   "source": [
    "# Waste supply matrix of Z\n",
    "WS = extensions.parse(sheet_name=\"waste_sup_act\", index_col=[0,1], header=[0,1,2,3]) \n",
    "# Waste supply matrix of Y\n",
    "WS_FD = extensions.parse(sheet_name=\"waste_sup_FD\", index_col=[0,1], header=[0,1,2,3]) \n",
    "\n",
    "# Waste use matrix of Z\n",
    "WU = extensions.parse(sheet_name=\"waste_use_act\", index_col=[0,1], header=[0,1,2,3]) \n",
    "# Waste use matrix of Y => This is all 0's so it can also be ignored\n",
    "WU_FD = extensions.parse(sheet_name=\"waste_use_FD\", index_col=[0,1], header=[0,1,2,3]) "
   ]
  },
  {
   "attachments": {},
   "cell_type": "markdown",
   "metadata": {},
   "source": [
    "1.6 Stock additions"
   ]
  },
  {
   "cell_type": "code",
   "execution_count": 8,
   "metadata": {},
   "outputs": [],
   "source": [
    "# Stock addition matrix of Z\n",
    "SA = extensions.parse(sheet_name=\"stock_addition_act\", index_col=[0,1], header=[0,1,2,3]) \n",
    "# Stock addition matrix of Y\n",
    "SA_FD = extensions.parse(sheet_name=\"stock_addition_fd\", index_col=[0,1], header=[0,1,2,3]) "
   ]
  },
  {
   "attachments": {},
   "cell_type": "markdown",
   "metadata": {},
   "source": [
    "1.7 Stock depletion matrix"
   ]
  },
  {
   "cell_type": "code",
   "execution_count": 9,
   "metadata": {},
   "outputs": [],
   "source": [
    "# Stock depletion matrix\n",
    "SD = extensions.parse(sheet_name=\"waste_from_stocks\", index_col=[0,1], header=[0,1,2,3])"
   ]
  },
  {
   "attachments": {},
   "cell_type": "markdown",
   "metadata": {},
   "source": [
    "1.8 Emissions"
   ]
  },
  {
   "cell_type": "code",
   "execution_count": 10,
   "metadata": {},
   "outputs": [],
   "source": [
    "EM = extensions.parse(sheet_name=\"Emiss_act\", index_col=[0,1,2], header=[0,1,2,3])\n",
    "EM_FD = extensions.parse(sheet_name=\"Emiss_FD\", index_col=[0,1,2], header=[0,1,2,3])"
   ]
  },
  {
   "attachments": {},
   "cell_type": "markdown",
   "metadata": {},
   "source": [
    "## Exercise 2: Calculate the global circularity gap\n",
    "\n",
    "Circularity gap in absolute terms\n",
    "\n",
    "$ CG = W_{sup} + S_{dep} - W_{rec}$\n",
    "\n",
    "Where:\n",
    "- $CG$ is the circularity gap\n",
    "- $W_{sup}$ is the global waste supply\n",
    "- $S_{dep}$ is the global stock depletation \n",
    "- $W_{rec}$ is the global waste use/recovery \n",
    "\n",
    "\n",
    "Circularity gap index\n",
    "\n",
    "$ CGI = \\frac{CG}{W_{sup} + S_{dep}} \\times 100$\n",
    "\n",
    "\n",
    "\n",
    "Methods from:\n",
    " \n",
    "Aguilar-Hernandez, G. A., Sigüenza-Sanchez, C. P., Donati, F., Merciai, S., Schmidt, J., Rodrigues, J. F., & Tukker, A. (2019). The circularity gap of nations: A multiregional analysis of waste generation, recovery, and stock depletion in 2011. Resources, Conservation and Recycling, 151, 104452."
   ]
  },
  {
   "attachments": {},
   "cell_type": "markdown",
   "metadata": {},
   "source": [
    "### 2.1: Calculate the global total waste generation"
   ]
  },
  {
   "cell_type": "code",
   "execution_count": 11,
   "metadata": {},
   "outputs": [
    {
     "data": {
      "text/plain": [
       "14577617331.961227"
      ]
     },
     "execution_count": 11,
     "metadata": {},
     "output_type": "execute_result"
    }
   ],
   "source": [
    "WS_tot = WS.sum().sum() + WS_FD.sum().sum()\n",
    "WS_tot"
   ]
  },
  {
   "attachments": {},
   "cell_type": "markdown",
   "metadata": {},
   "source": [
    "### 2.2: Calculate global total waste use (i.e., recovery)"
   ]
  },
  {
   "cell_type": "code",
   "execution_count": 12,
   "metadata": {},
   "outputs": [
    {
     "data": {
      "text/plain": [
       "16712487923.123253"
      ]
     },
     "execution_count": 12,
     "metadata": {},
     "output_type": "execute_result"
    }
   ],
   "source": [
    "WU_tot = WU.sum().sum() + WU_FD.sum().sum()\n",
    "WU_tot"
   ]
  },
  {
   "attachments": {},
   "cell_type": "markdown",
   "metadata": {},
   "source": [
    "### 2.3: Calculate global total stock degradation"
   ]
  },
  {
   "cell_type": "code",
   "execution_count": 13,
   "metadata": {},
   "outputs": [
    {
     "data": {
      "text/plain": [
       "4736719890.900244"
      ]
     },
     "execution_count": 13,
     "metadata": {},
     "output_type": "execute_result"
    }
   ],
   "source": [
    "SD_tot = SD.sum().sum()\n",
    "\n",
    "SD_tot"
   ]
  },
  {
   "attachments": {},
   "cell_type": "markdown",
   "metadata": {},
   "source": [
    "### 2.4: Circularity gap calculations\n"
   ]
  },
  {
   "cell_type": "code",
   "execution_count": 14,
   "metadata": {},
   "outputs": [
    {
     "name": "stdout",
     "output_type": "stream",
     "text": [
      "Global Circularity Gap: 13.5 %\n"
     ]
    }
   ],
   "source": [
    "# CIRCULARITY GAP CALCULATION\n",
    "circularity_gap = WS_tot + SD_tot - WU_tot\n",
    "\n",
    "print(f\"Global Circularity Gap: {round(circularity_gap/(WS_tot + SD_tot)*100, 1)} %\")"
   ]
  },
  {
   "attachments": {},
   "cell_type": "markdown",
   "metadata": {},
   "source": [
    "## Exercise 3: Sankey Diagram of global material flows\n",
    "\n",
    "In this exercise you will use precalculate global material flows obtained from an earlier version of exiobase MRHIOT (v3.3.15)\n",
    "\n",
    "Please, ensure that floweaver and ipysankeywidget are installed in your environment"
   ]
  },
  {
   "cell_type": "code",
   "execution_count": 15,
   "metadata": {},
   "outputs": [],
   "source": [
    "import floweaver as fw\n",
    "from ipysankeywidget import SankeyWidget"
   ]
  },
  {
   "attachments": {},
   "cell_type": "markdown",
   "metadata": {},
   "source": [
    "We want to create a Sankey diagram of the global material inputs and outputs. Figure 1 shows a diagram of the inputs and outputs of an economy. \n",
    "\n",
    "<image src=\"figures/figure1.jpg\" width=\"60%\"></image>\n",
    "\n",
    "\n",
    "Figure 1. System definition of the input-output material flows of a country. Solid blocks indicate economic activities of: \n",
    "- I&C = Intermediate sectors and final demand; \n",
    "- T = waste treatment activities; \n",
    "- RoW = Rest of the world.  Solid circles indicate resource stocks of:  \n",
    "    - N = Natural resources; \n",
    "    - S = Material in-use stocks; \n",
    "    - DPO = Domestic processed output. \n",
    "- Solid and dashed lines indicate flows of: \n",
    "    - m = imports; \n",
    "    - r = resource extraction domestically; \n",
    "    - w_rec = waste recovery; \n",
    "    - e = exports; \n",
    "    - s_add  = stock additions; \n",
    "    - s_dep = stock depletion, \n",
    "    - w_sup = waste generation; \n",
    "    - b_(I&C) = dissipative emissions, others combustion and biomass residues from intermediate activities and final demand; \n",
    "    - and b_T   = dissipative emissions and others combustion and biomass residues from waste treatment.\n",
    "\n",
    "\n",
    "The input and outputs are balanced as:\n",
    "\n",
    "$ m + r + w_{rec}= e + b_{I\\&C} + w_{sup} + S_{add} $\n",
    "\n",
    "When considering the global inputs and outputs, imports and exports are zero. Thus, for global inputs and outputs:\n",
    "\n",
    "$ r + w_{rec} = b_{I\\&C} + w_{sup} + S_{add} $\n",
    "\n"
   ]
  },
  {
   "cell_type": "code",
   "execution_count": 16,
   "metadata": {},
   "outputs": [
    {
     "data": {
      "text/plain": [
       "Material extraction     73.475\n",
       "Emissions               40.529\n",
       "Waste                    6.438\n",
       "Inflows-to-Stocks       29.624\n",
       "Outflows-from-Stock      2.268\n",
       "Waste-from-treatment     5.590\n",
       "Waste-recovery           3.116\n",
       "dtype: float64"
      ]
     },
     "execution_count": 16,
     "metadata": {},
     "output_type": "execute_result"
    }
   ],
   "source": [
    "# Use this data for you calculations\n",
    "material_flows = {'Gigatonnes (Gt)': {'Material extraction': 73.475,\n",
    "                                      'Emissions': 40.529,\n",
    "                                      'Waste': 6.438,\n",
    "                                      'Inflows-to-Stocks': 29.624,\n",
    "                                      'Outflows-from-Stock': 2.268,\n",
    "                                      'Waste-from-treatment': 5.590,\n",
    "                                      'Waste-recovery': 3.116}}\n",
    "\n",
    "material_flows = pd.Series(material_flows['Gigatonnes (Gt)'])\n",
    "material_flows"
   ]
  },
  {
   "attachments": {},
   "cell_type": "markdown",
   "metadata": {},
   "source": [
    "### 3.1 Based on Figure 1, create a new dataframe with the Floweaver structure. \n",
    "\n",
    "Floweaver requires a pd.dataframe with four columns\n",
    "\n",
    "| Source |\tTarget  | Type  | Value |\n",
    "|--------|----------|-------|-------|\n",
    "| [Initial node]    | [Final node]  |\t[Name of flow]  | [Value of flow]| \n",
    "\n",
    "For example, in figure 1, material extraction (N) is an initial node, demand (I&C) is a final node, with flow type called “material”, and a value of 73.4 Gt (which is allocated in material_flows.iloc[0,0]]). \n",
    "\n"
   ]
  },
  {
   "cell_type": "code",
   "execution_count": 17,
   "metadata": {},
   "outputs": [
    {
     "data": {
      "text/html": [
       "<div>\n",
       "<style scoped>\n",
       "    .dataframe tbody tr th:only-of-type {\n",
       "        vertical-align: middle;\n",
       "    }\n",
       "\n",
       "    .dataframe tbody tr th {\n",
       "        vertical-align: top;\n",
       "    }\n",
       "\n",
       "    .dataframe thead th {\n",
       "        text-align: right;\n",
       "    }\n",
       "</style>\n",
       "<table border=\"1\" class=\"dataframe\">\n",
       "  <thead>\n",
       "    <tr style=\"text-align: right;\">\n",
       "      <th></th>\n",
       "      <th>source</th>\n",
       "      <th>target</th>\n",
       "      <th>type</th>\n",
       "      <th>value</th>\n",
       "    </tr>\n",
       "  </thead>\n",
       "  <tbody>\n",
       "    <tr>\n",
       "      <th>0</th>\n",
       "      <td>N</td>\n",
       "      <td>I&amp;C</td>\n",
       "      <td>all_mat</td>\n",
       "      <td>73.475</td>\n",
       "    </tr>\n",
       "    <tr>\n",
       "      <th>1</th>\n",
       "      <td>I&amp;C</td>\n",
       "      <td>E</td>\n",
       "      <td>all_mat</td>\n",
       "      <td>40.529</td>\n",
       "    </tr>\n",
       "    <tr>\n",
       "      <th>2</th>\n",
       "      <td>I&amp;C</td>\n",
       "      <td>T</td>\n",
       "      <td>all_mat</td>\n",
       "      <td>6.438</td>\n",
       "    </tr>\n",
       "    <tr>\n",
       "      <th>3</th>\n",
       "      <td>I&amp;C</td>\n",
       "      <td>S</td>\n",
       "      <td>all_mat</td>\n",
       "      <td>29.624</td>\n",
       "    </tr>\n",
       "    <tr>\n",
       "      <th>4</th>\n",
       "      <td>S</td>\n",
       "      <td>T</td>\n",
       "      <td>fossil</td>\n",
       "      <td>2.268</td>\n",
       "    </tr>\n",
       "    <tr>\n",
       "      <th>5</th>\n",
       "      <td>T</td>\n",
       "      <td>W</td>\n",
       "      <td>all_mat</td>\n",
       "      <td>5.590</td>\n",
       "    </tr>\n",
       "    <tr>\n",
       "      <th>6</th>\n",
       "      <td>T</td>\n",
       "      <td>I&amp;C</td>\n",
       "      <td>all_mat</td>\n",
       "      <td>3.116</td>\n",
       "    </tr>\n",
       "  </tbody>\n",
       "</table>\n",
       "</div>"
      ],
      "text/plain": [
       "  source target     type   value\n",
       "0      N    I&C  all_mat  73.475\n",
       "1    I&C      E  all_mat  40.529\n",
       "2    I&C      T  all_mat   6.438\n",
       "3    I&C      S  all_mat  29.624\n",
       "4      S      T   fossil   2.268\n",
       "5      T      W  all_mat   5.590\n",
       "6      T    I&C  all_mat   3.116"
      ]
     },
     "execution_count": 17,
     "metadata": {},
     "output_type": "execute_result"
    }
   ],
   "source": [
    "flows = pd.DataFrame([['N', 'I&C', 'all_mat', material_flows.iloc[0]],\n",
    "                      ['I&C', 'E', 'all_mat', material_flows.iloc[1]],\n",
    "                      ['I&C', 'T', 'all_mat', material_flows.iloc[2]],\n",
    "                      ['I&C', 'S', 'all_mat', material_flows.iloc[3]],\n",
    "                      ['S', 'T', 'fossil', material_flows.iloc[4]],\n",
    "                      ['T', 'W', 'all_mat', material_flows.iloc[5]],\n",
    "                      ['T', 'I&C', 'all_mat', material_flows.iloc[6]]]) # Dataframe in structure required by Floweaver\n",
    "flows.columns = ['source', 'target', 'type', 'value']\n",
    "\n",
    "flows"
   ]
  },
  {
   "attachments": {},
   "cell_type": "markdown",
   "metadata": {},
   "source": [
    "### 3.2 Create Floweaver settings (nodes, ordering, and bundle)"
   ]
  },
  {
   "cell_type": "code",
   "execution_count": 18,
   "metadata": {},
   "outputs": [],
   "source": [
    "# Nodes = Group of processes from the underlying dataset\n",
    "nodes = {'N': fw.ProcessGroup(['N']),\n",
    "        'I&C': fw.ProcessGroup(['I&C']),\n",
    "         'S': fw.ProcessGroup(['S']),\n",
    "         'T': fw.ProcessGroup(['T']),\n",
    "         'DPO': fw.ProcessGroup(['E', 'W']),\n",
    "         'rec': fw.Waypoint(direction='L'), } \n",
    "\n",
    "# Ordering = The order of processes in the diagram\n",
    "ordering = [[['N'], []],\n",
    "           [['I&C'], ['rec']],\n",
    "           [['S'], []],\n",
    "           [['T'], []],\n",
    "           [['DPO'], []]] \n",
    "\n",
    "# Bundle = a set of flows between two processes\n",
    "bundles = [fw.Bundle('N', 'I&C'),\n",
    "           fw.Bundle('I&C', 'T'),\n",
    "           fw.Bundle('I&C', 'S'),\n",
    "           fw.Bundle('I&C', 'DPO'),\n",
    "           fw.Bundle('S', 'T'),\n",
    "           fw.Bundle('T', 'DPO'),\n",
    "           fw.Bundle('T', 'I&C'), ] "
   ]
  },
  {
   "attachments": {},
   "cell_type": "markdown",
   "metadata": {},
   "source": [
    "### 3.3 Create Sankey diagram with the following code"
   ]
  },
  {
   "cell_type": "code",
   "execution_count": 19,
   "metadata": {},
   "outputs": [
    {
     "data": {
      "application/vnd.jupyter.widget-view+json": {
       "model_id": "778b6697802a4eb2b8edc2579854d7e2",
       "version_major": 2,
       "version_minor": 0
      },
      "text/plain": [
       "SankeyWidget(groups=[{'id': '__T_I&C_1', 'type': 'group', 'title': '', 'nodes': ['__T_I&C_1^*']}, {'id': '__I&…"
      ]
     },
     "metadata": {},
     "output_type": "display_data"
    }
   ],
   "source": [
    "sdd = fw.SankeyDefinition(nodes, bundles, ordering) # Connect all settings\n",
    "size = dict(width=750, height=300)  # Adjust diagram size\n",
    "fw.weave(sdd, flows, palette=['green']).to_widget(**size) # Display Sankey diagram"
   ]
  }
 ],
 "metadata": {
  "kernelspec": {
   "display_name": "env_advanced_eeio",
   "language": "python",
   "name": "python3"
  },
  "language_info": {
   "codemirror_mode": {
    "name": "ipython",
    "version": 3
   },
   "file_extension": ".py",
   "mimetype": "text/x-python",
   "name": "python",
   "nbconvert_exporter": "python",
   "pygments_lexer": "ipython3",
   "version": "3.9.16"
  },
  "orig_nbformat": 4
 },
 "nbformat": 4,
 "nbformat_minor": 2
}
