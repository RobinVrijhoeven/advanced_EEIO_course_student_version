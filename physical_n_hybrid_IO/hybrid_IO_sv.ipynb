{
 "cells": [
  {
   "attachments": {},
   "cell_type": "markdown",
   "metadata": {},
   "source": [
    "# Practical 8: Physical and Hybrid Input-Output Tables\n",
    "\n",
    "Objectives\n",
    "- Understand the structure of Hybrid Input-Output Tables (HIOT)\n",
    "- Analyze HIOT data\n",
    "\n",
    "Download the the MR_HIOT data from: https://zenodo.org/record/7244919 (n.b. ignore files that start with MR_HSUT or MR_HUSE )"
   ]
  },
  {
   "cell_type": "code",
   "execution_count": null,
   "metadata": {},
   "outputs": [],
   "source": [
    "# Import packages\n",
    "import pandas as pd\n",
    "import numpy as np"
   ]
  },
  {
   "attachments": {},
   "cell_type": "markdown",
   "metadata": {},
   "source": [
    "### Exercise 1: Understand data availability in HIOT"
   ]
  },
  {
   "attachments": {},
   "cell_type": "markdown",
   "metadata": {},
   "source": [
    "Import the following data\n",
    "\n",
    "- MR_HIOT_2011_v3_3_18_xx_principal_production.csv indicates the principal production of the productive activities;\n",
    "- MR_HIOT_2011_v3_3_18_xx_by_product_technology.csv indicates the matrix of the uses where by-products are included with a negative sign;\n",
    "- MR_HIOT_2011_v3_3_18_xx_FD.csv includes the consumption of final consumers\n",
    "- MR_HIOT_2011_v3_3_18_xx_stock_to_waste.csv includes the demand of waste treatment services to treat the stock reduction\n",
    "- MR_HIOT_2011_v3_3_18_xx_extensions.csv includes the extensions as reported in the HSUTs. Very minor changes are applied\n",
    "\n",
    "\n",
    "In this practical you will only use a few of the imported datasets, this exercise is to help you understand the variety of the data. If you so wish, you may also perform additional analysis with the imported datasets "
   ]
  },
  {
   "attachments": {},
   "cell_type": "markdown",
   "metadata": {},
   "source": [
    "1.1 Inter-industry matrix"
   ]
  },
  {
   "cell_type": "code",
   "execution_count": null,
   "metadata": {},
   "outputs": [],
   "source": [
    "Z = None"
   ]
  },
  {
   "attachments": {},
   "cell_type": "markdown",
   "metadata": {},
   "source": [
    "1.2 Final demand"
   ]
  },
  {
   "cell_type": "code",
   "execution_count": null,
   "metadata": {},
   "outputs": [],
   "source": [
    "Y  = None"
   ]
  },
  {
   "attachments": {},
   "cell_type": "markdown",
   "metadata": {},
   "source": [
    "1.3 Extensions"
   ]
  },
  {
   "cell_type": "code",
   "execution_count": null,
   "metadata": {},
   "outputs": [],
   "source": [
    "extensions = None"
   ]
  },
  {
   "cell_type": "code",
   "execution_count": null,
   "metadata": {},
   "outputs": [],
   "source": [
    "extensions.sheet_names"
   ]
  },
  {
   "attachments": {},
   "cell_type": "markdown",
   "metadata": {},
   "source": [
    "1.4 Resource extraction"
   ]
  },
  {
   "cell_type": "code",
   "execution_count": null,
   "metadata": {},
   "outputs": [],
   "source": [
    "# Resource extraction matrix of Z\n",
    "RE = None\n",
    "# Resource extraction matrix of Y\n",
    "RE_FD = None"
   ]
  },
  {
   "attachments": {},
   "cell_type": "markdown",
   "metadata": {},
   "source": [
    "1.5 Waste supply and use accounts"
   ]
  },
  {
   "cell_type": "code",
   "execution_count": null,
   "metadata": {},
   "outputs": [],
   "source": [
    "# Waste supply matrix of Z\n",
    "WS = None\n",
    "# Waste supply matrix of Y\n",
    "WS_FD = None\n",
    "\n",
    "# Waste use matrix of Z\n",
    "WU = None\n",
    "# Waste use matrix of Y => This is all 0's so it can also be ignored\n",
    "WU_FD = None"
   ]
  },
  {
   "attachments": {},
   "cell_type": "markdown",
   "metadata": {},
   "source": [
    "1.6 Stock additions"
   ]
  },
  {
   "cell_type": "code",
   "execution_count": null,
   "metadata": {},
   "outputs": [],
   "source": [
    "# Stock addition matrix of Z\n",
    "SA = None\n",
    "# Stock addition matrix of Y\n",
    "SA_FD = None"
   ]
  },
  {
   "attachments": {},
   "cell_type": "markdown",
   "metadata": {},
   "source": [
    "1.7 Stock depletion matrix"
   ]
  },
  {
   "cell_type": "code",
   "execution_count": null,
   "metadata": {},
   "outputs": [],
   "source": [
    "# Stock depletion matrix\n",
    "SD = None"
   ]
  },
  {
   "attachments": {},
   "cell_type": "markdown",
   "metadata": {},
   "source": [
    "1.8 Emissions"
   ]
  },
  {
   "cell_type": "code",
   "execution_count": null,
   "metadata": {},
   "outputs": [],
   "source": [
    "EM = None\n",
    "EM_FD = None"
   ]
  },
  {
   "attachments": {},
   "cell_type": "markdown",
   "metadata": {},
   "source": [
    "## Exercise 2: Calculate the global circularity gap\n",
    "\n",
    "Circularity gap in absolute terms\n",
    "\n",
    "$ CG = W_{sup} + S_{dep} - W_{rec}$\n",
    "\n",
    "Where:\n",
    "- $CG$ is the circularity gap\n",
    "- $W_{sup}$ is the global waste supply\n",
    "- $S_{dep}$ is the global stock depletation \n",
    "- $W_{rec}$ is the global waste use/recovery \n",
    "\n",
    "\n",
    "Circularity gap index\n",
    "\n",
    "$ CGI = \\frac{CG}{W_{sup} + S_{dep}} \\times 100$\n",
    "\n",
    "\n",
    "\n",
    "Methods from:\n",
    " \n",
    "Aguilar-Hernandez, G. A., Sigüenza-Sanchez, C. P., Donati, F., Merciai, S., Schmidt, J., Rodrigues, J. F., & Tukker, A. (2019). The circularity gap of nations: A multiregional analysis of waste generation, recovery, and stock depletion in 2011. Resources, Conservation and Recycling, 151, 104452."
   ]
  },
  {
   "attachments": {},
   "cell_type": "markdown",
   "metadata": {},
   "source": [
    "### 2.1: Calculate the global total waste generation"
   ]
  },
  {
   "cell_type": "code",
   "execution_count": null,
   "metadata": {},
   "outputs": [],
   "source": [
    "WS_tot = None\n",
    "WS_tot"
   ]
  },
  {
   "attachments": {},
   "cell_type": "markdown",
   "metadata": {},
   "source": [
    "### 2.2: Calculate global total waste use (i.e., recovery)"
   ]
  },
  {
   "cell_type": "code",
   "execution_count": null,
   "metadata": {},
   "outputs": [],
   "source": [
    "WU_tot = None\n",
    "WU_tot"
   ]
  },
  {
   "attachments": {},
   "cell_type": "markdown",
   "metadata": {},
   "source": [
    "### 2.3: Calculate global total stock degradation"
   ]
  },
  {
   "cell_type": "code",
   "execution_count": null,
   "metadata": {},
   "outputs": [],
   "source": [
    "SD_tot = None\n",
    "\n",
    "SD_tot"
   ]
  },
  {
   "attachments": {},
   "cell_type": "markdown",
   "metadata": {},
   "source": [
    "### 2.4: Circularity gap calculations\n"
   ]
  },
  {
   "cell_type": "code",
   "execution_count": null,
   "metadata": {},
   "outputs": [],
   "source": [
    "# CIRCULARITY GAP CALCULATION\n",
    "circularity_gap = None\n"
   ]
  },
  {
   "attachments": {},
   "cell_type": "markdown",
   "metadata": {},
   "source": [
    "## Exercise 3: Sankey Diagram of global material flows\n",
    "\n",
    "In this exercise you will use precalculate global material flows obtained from an earlier version of exiobase MRHIOT (v3.3.15)\n",
    "\n",
    "Please, ensure that floweaver and ipysankeywidget are installed in your environment"
   ]
  },
  {
   "cell_type": "code",
   "execution_count": null,
   "metadata": {},
   "outputs": [],
   "source": [
    "import floweaver as fw\n",
    "from ipysankeywidget import SankeyWidget"
   ]
  },
  {
   "attachments": {},
   "cell_type": "markdown",
   "metadata": {},
   "source": [
    "We want to create a Sankey diagram of the global material inputs and outputs. Figure 1 shows a diagram of the inputs and outputs of an economy. \n",
    "\n",
    "<image src=\"figures/figure1.jpg\" width=\"60%\"></image>\n",
    "\n",
    "\n",
    "Figure 1. System definition of the input-output material flows of a country. Solid blocks indicate economic activities of: \n",
    "- I&C = Intermediate sectors and final demand; \n",
    "- T = waste treatment activities; \n",
    "- RoW = Rest of the world.  Solid circles indicate resource stocks of:  \n",
    "    - N = Natural resources; \n",
    "    - S = Material in-use stocks; \n",
    "    - DPO = Domestic processed output. \n",
    "- Solid and dashed lines indicate flows of: \n",
    "    - m = imports; \n",
    "    - r = resource extraction domestically; \n",
    "    - w_rec = waste recovery; \n",
    "    - e = exports; \n",
    "    - s_add  = stock additions; \n",
    "    - s_dep = stock depletion, \n",
    "    - w_sup = waste generation; \n",
    "    - b_(I&C) = dissipative emissions, others combustion and biomass residues from intermediate activities and final demand; \n",
    "    - and b_T   = dissipative emissions and others combustion and biomass residues from waste treatment.\n",
    "\n",
    "\n",
    "The input and outputs are balanced as:\n",
    "\n",
    "$ m + r + w_{rec}= e + b_{I\\&C} + w_{sup} + S_{add} $\n",
    "\n",
    "When considering the global inputs and outputs, imports and exports are zero. Thus, for global inputs and outputs:\n",
    "\n",
    "$ r + w_{rec} = b_{I\\&C} + w_{sup} + S_{add} $\n",
    "\n"
   ]
  },
  {
   "cell_type": "code",
   "execution_count": null,
   "metadata": {},
   "outputs": [],
   "source": [
    "# Use this data for you calculations\n",
    "material_flows = {'Gigatonnes (Gt)': {'Material extraction': 73.475,\n",
    "                                      'Emissions': 40.529,\n",
    "                                      'Waste': 6.438,\n",
    "                                      'Inflows-to-Stocks': 29.624,\n",
    "                                      'Outflows-from-Stock': 2.268,\n",
    "                                      'Waste-from-treatment': 5.590,\n",
    "                                      'Waste-recovery': 3.116}}\n",
    "\n",
    "material_flows = pd.Series(material_flows['Gigatonnes (Gt)'])\n",
    "material_flows"
   ]
  },
  {
   "attachments": {},
   "cell_type": "markdown",
   "metadata": {},
   "source": [
    "### 3.1 Based on Figure 1, create a new dataframe with the Floweaver structure. \n",
    "\n",
    "Floweaver requires a pd.dataframe with four columns\n",
    "\n",
    "| Source |\tTarget  | Type  | Value |\n",
    "|--------|----------|-------|-------|\n",
    "| [Initial node]    | [Final node]  |\t[Name of flow]  | [Value of flow]| \n",
    "\n",
    "For example, in figure 1, material extraction (N) is an initial node, demand (I&C) is a final node, with flow type called “material”, and a value of 73.4 Gt (which is allocated in material_flows.iloc[0,0]]). \n",
    "\n"
   ]
  },
  {
   "cell_type": "code",
   "execution_count": null,
   "metadata": {},
   "outputs": [],
   "source": [
    "flows = None # Dataframe in structure required by Floweaver\n",
    "flows.columns = None\n",
    "\n",
    "flows"
   ]
  },
  {
   "attachments": {},
   "cell_type": "markdown",
   "metadata": {},
   "source": [
    "### 3.2 Create Floweaver settings (nodes, ordering, and bundle)"
   ]
  },
  {
   "cell_type": "code",
   "execution_count": null,
   "metadata": {},
   "outputs": [],
   "source": [
    "# Nodes = Group of processes from the underlying dataset\n",
    "nodes = None\n",
    "# Ordering = The order of processes in the diagram\n",
    "ordering = None \n",
    "\n",
    "# Bundle = a set of flows between two processes\n",
    "bundles = None"
   ]
  },
  {
   "attachments": {},
   "cell_type": "markdown",
   "metadata": {},
   "source": [
    "### 3.3 Create Sankey diagram with the following code"
   ]
  },
  {
   "cell_type": "code",
   "execution_count": null,
   "metadata": {},
   "outputs": [],
   "source": [
    "sdd = fw.SankeyDefinition(nodes, bundles, ordering) # Connect all settings\n",
    "size = dict(width=750, height=300)  # Adjust diagram size\n",
    "fw.weave(sdd, flows, palette=['green']).to_widget(**size) # Display Sankey diagram"
   ]
  }
 ],
 "metadata": {
  "kernelspec": {
   "display_name": "env_advanced_eeio",
   "language": "python",
   "name": "python3"
  },
  "language_info": {
   "codemirror_mode": {
    "name": "ipython",
    "version": 3
   },
   "file_extension": ".py",
   "mimetype": "text/x-python",
   "name": "python",
   "nbconvert_exporter": "python",
   "pygments_lexer": "ipython3",
   "version": "3.9.16"
  },
  "orig_nbformat": 4
 },
 "nbformat": 4,
 "nbformat_minor": 2
}
