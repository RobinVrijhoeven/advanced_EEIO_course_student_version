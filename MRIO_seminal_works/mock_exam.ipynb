{
 "cells": [
  {
   "cell_type": "markdown",
   "metadata": {},
   "source": [
    "# Mock mid-term exam: April 2023\n",
    "\n",
    "The objectives of this mock mid-term exam are:\n",
    "- to gain acquaintance with the type of programming questions that you will be asked during the mid-term exam\n",
    "- Becoming more comfortable in performing Input-Output analysis calculations\n",
    "\n",
    "We are accounting that you will need around 100-120 minutes to complete the assignment\n",
    "\n",
    "Please ensure that you run each cell (ctrl+enter) so that your inputs are saved \n",
    "\n",
    "All questions have either coding cell or a text cell, or a combination of the two. \n",
    "\n",
    "You are allowed to create additional cells for each answer to facilitate your work  "
   ]
  },
  {
   "cell_type": "markdown",
   "metadata": {},
   "source": [
    "## Data preparation: Download and import exiobase data - year 2015, industry-by-industry format"
   ]
  },
  {
   "cell_type": "code",
   "execution_count": 2,
   "metadata": {},
   "outputs": [],
   "source": [
    "# Import modules\n",
    "import pandas as pd \n",
    "import numpy as np\n",
    "\n",
    "# Import here your data\n",
    "A = pd.read_csv('data/IOT_2019_pxp/IOT_2019_pxp/A.txt', sep='\\t',\n",
    "                index_col=[0, 1], header=[0, 1])  # A matrix\n",
    "Y = pd.read_csv('data/IOT_2019_pxp/IOT_2019_pxp/Y.txt', sep='\\t',\n",
    "                index_col=[0, 1], header=[0, 1])  # Y matrix\n",
    "F = pd.read_csv('data/IOT_2019_pxp/IOT_2019_pxp/satellite/F.txt', sep='\\t',\n",
    "                index_col=[0], header=[0, 1])  # impacts matrix\n",
    "F_hh = pd.read_csv('data/IOT_2019_pxp/IOT_2019_pxp/impacts/F_y.txt', sep='\\t',\n",
    "                index_col=[0], header=[0, 1])\n"
   ]
  },
  {
   "cell_type": "markdown",
   "metadata": {},
   "source": [
    "## Question 1: Carbon footprint of the nations (18 points)"
   ]
  },
  {
   "cell_type": "markdown",
   "metadata": {},
   "source": [
    "#### 1.1 What were the per capita carbon footprint of each of the 49 exiobase regions when considering only CO2 emissions in 2015? (8 points)"
   ]
  },
  {
   "cell_type": "code",
   "execution_count": 8,
   "metadata": {
    "scrolled": false
   },
   "outputs": [
    {
     "name": "stdout",
     "output_type": "stream",
     "text": [
      "region  sector                                           \n",
      "AT      Paddy rice                                               0.000000\n",
      "        Wheat                                                  151.894903\n",
      "        Cereal grains nec                                      235.082097\n",
      "        Vegetables, fruit, nuts                               1281.332714\n",
      "        Oil seeds                                               34.464130\n",
      "                                                                 ...     \n",
      "WM      Membership organisation services n.e.c. (91)         19939.515621\n",
      "        Recreational, cultural and sporting services (92)    45246.056106\n",
      "        Other services (93)                                  30433.800808\n",
      "        Private households with employed persons (95)         3811.617298\n",
      "        Extra-territorial organizations and bodies               0.000000\n",
      "Length: 9800, dtype: float64\n"
     ]
    }
   ],
   "source": [
    "# Write here your code\n",
    "I = np.identity(A.shape[0])\n",
    "L = np.linalg.inv(I-A)\n",
    "Y_total = Y.sum(axis=1)\n",
    "x = L @ Y_total\n",
    "#how am i supposed to get the per capita?\n",
    "# You may use multiple cells "
   ]
  },
  {
   "cell_type": "code",
   "execution_count": 42,
   "metadata": {},
   "outputs": [],
   "source": [
    "#Calculation of CO2 multiplier\n",
    "F_co2 = F.loc[\"CO2 - combustion - air\"]\n",
    "x_ = x.copy()\n",
    "x_[x_!=0] = 1/x_[x_!=0]\n",
    "x_diag = np.diag(x_)\n",
    "f_ = F_co2 @ x_diag\n",
    "#Calculation of CO2 emissions per industry \n",
    "CF = np.diag(f_) @ L @ Y_total\n",
    "#for per capita CF/Population size per country "
   ]
  },
  {
   "cell_type": "code",
   "execution_count": 43,
   "metadata": {},
   "outputs": [
    {
     "name": "stdout",
     "output_type": "stream",
     "text": [
      "[0.00000000e+00 2.29860338e+08 2.28239803e+08 ... 4.29919417e+09\n",
      " 6.24781289e+07 0.00000000e+00]\n"
     ]
    }
   ],
   "source": []
  },
  {
   "cell_type": "code",
   "execution_count": 44,
   "metadata": {},
   "outputs": [
    {
     "data": {
      "text/plain": [
       "(49,)"
      ]
     },
     "execution_count": 44,
     "metadata": {},
     "output_type": "execute_result"
    }
   ],
   "source": [
    "#Format to represent each countries footprint \n",
    "CF = np.array(CF).reshape(200,49)\n",
    "CF = CF.sum(axis=0)"
   ]
  },
  {
   "cell_type": "code",
   "execution_count": 47,
   "metadata": {},
   "outputs": [
    {
     "name": "stdout",
     "output_type": "stream",
     "text": [
      "[4.60516129e+11 3.24913329e+11 3.02095862e+12 2.24443192e+11\n",
      " 2.69415423e+11 5.67900348e+11 2.55215917e+11 3.01273994e+11\n",
      " 2.49304019e+11 3.97386250e+11 7.58765373e+11 3.76190007e+11\n",
      " 2.35990987e+11 1.02286683e+12 4.22940321e+11 2.30871752e+11\n",
      " 2.80876740e+11 3.03741356e+11 1.27477588e+12 3.52796114e+11\n",
      " 4.33293245e+11 4.27759458e+11 9.17180804e+11 4.41287133e+11\n",
      " 6.85901620e+11 4.20405868e+11 1.10512033e+12 1.58863724e+12\n",
      " 3.97768881e+11 4.09850657e+11 7.47274124e+11 4.46075592e+11\n",
      " 2.64524796e+11 2.31159117e+11 3.99803955e+11 5.61060065e+11\n",
      " 5.33705846e+11 3.18548292e+11 3.13785835e+11 5.15534814e+11\n",
      " 5.44018742e+11 2.86713956e+11 3.47275788e+11 1.70179536e+12\n",
      " 7.27260134e+11 2.07982732e+11 6.71706183e+11 4.94621687e+11\n",
      " 4.20315683e+11]\n"
     ]
    }
   ],
   "source": [
    "print(CF)"
   ]
  },
  {
   "cell_type": "markdown",
   "metadata": {},
   "source": [
    "#### 1.2 What were the per capita carbon footprint of each of the 49 regions in CO2e when considering CH4, N2O, and CO2? (6 points)\n",
    "Instruction: Please use 29.8 and 273 for GWP100 of CH4 and N2O, respectively."
   ]
  },
  {
   "cell_type": "code",
   "execution_count": 48,
   "metadata": {},
   "outputs": [],
   "source": [
    "# Write here your code\n",
    "#how does it really show all indexes? \n",
    "F_ = F.loc[\"CH4 - combustion - air\"]\n",
    "f_CH4 = F_ @ x_diag\n",
    "#Calculation of CO2e \n",
    "CH4 = np.diag(f_) @ L @ Y_total\n",
    "CO2e_CH4 = CH4 * 29.8\n",
    "#reshape\n",
    "CO2e_CH4 = np.array(CO2e_CH4).reshape(200,49)\n",
    "CO2e_CH4 = CO2e_CH4.sum(axis=0) "
   ]
  },
  {
   "cell_type": "code",
   "execution_count": 52,
   "metadata": {},
   "outputs": [],
   "source": [
    "F_ = F.loc[\"N2O - combustion - air\"]\n",
    "f_N2O = F_ @ x_diag\n",
    "#Calculation of CO2e \n",
    "N2O = np.diag(f_) @ L @ Y_total\n",
    "CO2e_N2O= N2O * 273\n",
    "#reshape\n",
    "CO2e_N2O = np.array(CO2e_N2O).reshape(200,49)\n",
    "CO2e_N2O = CO2e_N2O.sum(axis=0)"
   ]
  },
  {
   "cell_type": "code",
   "execution_count": 75,
   "metadata": {},
   "outputs": [
    {
     "name": "stdout",
     "output_type": "stream",
     "text": [
      "[1.39904800e+14 9.87086693e+13 9.17767228e+14 6.81858416e+13\n",
      " 8.18484056e+13 1.72528126e+14 7.75345956e+13 9.15270395e+13\n",
      " 7.57385609e+13 1.20725943e+14 2.30512920e+14 1.14286524e+14\n",
      " 7.16940620e+13 3.10746943e+14 1.28489270e+14 7.01388383e+13\n",
      " 8.53303537e+13 9.22766239e+13 3.87276912e+14 1.07179460e+14\n",
      " 1.31634488e+14 1.29953323e+14 2.78639528e+14 1.34063031e+14\n",
      " 2.08376912e+14 1.27719303e+14 3.35735557e+14 4.82627994e+14\n",
      " 1.20842186e+14 1.24512630e+14 2.27021879e+14 1.35517765e+14\n",
      " 8.03626329e+13 7.02261397e+13 1.21460442e+14 1.70450048e+14\n",
      " 1.62139836e+14 9.67749710e+13 9.53281366e+13 1.56619476e+14\n",
      " 1.65272894e+14 8.71037000e+13 1.05502384e+14 5.17005432e+14\n",
      " 2.20941629e+14 6.31851541e+13 2.04064338e+14 1.50266068e+14\n",
      " 1.27691905e+14]\n"
     ]
    }
   ],
   "source": [
    "#adding up CO2e to get total \n",
    "GWP_per_region = CF + CO2e_CH4 + CO2e_N2O"
   ]
  },
  {
   "cell_type": "code",
   "execution_count": null,
   "metadata": {},
   "outputs": [],
   "source": [
    "#how to add labels \n",
    "labels = Y.index\n",
    "labels = labels.to_frame(index=None)\n",
    "labels.loc[:, \"region\"]\n",
    "labels = labels.region.drop_duplicates().reset_index(drop=True)\n",
    "GWP_per_region.set_index(labels)"
   ]
  },
  {
   "cell_type": "markdown",
   "metadata": {},
   "source": [
    "#### 1.3 What is the proportion of CO2 emissions in CO2e in each region's carbon footprint measured in CO2e? (4 points)"
   ]
  },
  {
   "cell_type": "code",
   "execution_count": 1,
   "metadata": {
    "scrolled": true
   },
   "outputs": [
    {
     "ename": "NameError",
     "evalue": "name 'CF' is not defined",
     "output_type": "error",
     "traceback": [
      "\u001b[1;31m---------------------------------------------------------------------------\u001b[0m",
      "\u001b[1;31mNameError\u001b[0m                                 Traceback (most recent call last)",
      "Cell \u001b[1;32mIn[1], line 2\u001b[0m\n\u001b[0;32m      1\u001b[0m \u001b[38;5;66;03m# Write here your code\u001b[39;00m\n\u001b[1;32m----> 2\u001b[0m CFratio \u001b[38;5;241m=\u001b[39m (\u001b[43mCF\u001b[49m\u001b[38;5;241m/\u001b[39mGWP_per_region)\n\u001b[0;32m      3\u001b[0m CFratio\n",
      "\u001b[1;31mNameError\u001b[0m: name 'CF' is not defined"
     ]
    }
   ],
   "source": [
    "# Write here your code\n",
    "CFratio = (CF/GWP_per_region)\n",
    "CFratio\n",
    "#all the same probably wrong\n",
    "# You may use multiple cells "
   ]
  },
  {
   "cell_type": "markdown",
   "metadata": {},
   "source": [
    "Double click on this cell to write your answer. Run the cell (ctrl+enter) once you are done writing so that it saves your input\n",
    "0,33 percent\n"
   ]
  },
  {
   "cell_type": "markdown",
   "metadata": {},
   "source": [
    "## Question 2: Territorial emissions (6 points)"
   ]
  },
  {
   "cell_type": "markdown",
   "metadata": {},
   "source": [
    "#### 2.1 What were the per capita territorial emissions of the US and China, respectively, in 2015? Only consider CO2 emissions here. (6 points)"
   ]
  },
  {
   "cell_type": "code",
   "execution_count": 93,
   "metadata": {},
   "outputs": [
    {
     "name": "stdout",
     "output_type": "stream",
     "text": [
      "9025922104714.61 3551850336354.183\n"
     ]
    }
   ],
   "source": [
    "# Write here your code\n",
    "F_co2CN = F_co2.loc[\"US\"]\n",
    "F_co2US = F_co2US.sum()\n",
    "F_co2CN = F_co2.loc[\"CN\"]\n",
    "F_co2CN = F_co2CN.sum()\n",
    "print(F_co2CN, F_co2US)\n",
    "# You may use multiple cells "
   ]
  },
  {
   "cell_type": "markdown",
   "metadata": {},
   "source": [
    "## Question 3: Emissions embodied in trade (20 points)"
   ]
  },
  {
   "cell_type": "markdown",
   "metadata": {},
   "source": [
    "#### 3.1 Were the US and China net importers or exporters of CO2 emissions in 2015? (4 points)"
   ]
  },
  {
   "cell_type": "code",
   "execution_count": 6,
   "metadata": {},
   "outputs": [],
   "source": [
    "# Write here your code\n",
    "# You may use multiple cells "
   ]
  },
  {
   "cell_type": "markdown",
   "metadata": {},
   "source": [
    "Double click on this cell to write your answer. Run the cell (ctrl+enter) once you are done writing so that it saves your input"
   ]
  },
  {
   "cell_type": "markdown",
   "metadata": {},
   "source": [
    "#### 3.2 Which were the top three regional contributers of US' and China's carbon footprints (only consider CO2 emissions), respectively, in 2015? (12 points)"
   ]
  },
  {
   "cell_type": "code",
   "execution_count": 7,
   "metadata": {},
   "outputs": [],
   "source": [
    "# Write here your code\n",
    "# You may use multiple cells "
   ]
  },
  {
   "cell_type": "markdown",
   "metadata": {},
   "source": [
    "#### 3.3 By conducting emissions emoboided in trade calculations, how much CO2 emissions did the US outsourced to China in 2015? (4 points)"
   ]
  },
  {
   "cell_type": "code",
   "execution_count": 8,
   "metadata": {},
   "outputs": [],
   "source": [
    "# Write here your code\n",
    "# You may use multiple cells "
   ]
  },
  {
   "cell_type": "markdown",
   "metadata": {},
   "source": [
    "Double click on this cell to write your answer. Run the cell (ctrl+enter) once you are done writing so that it saves your input"
   ]
  },
  {
   "cell_type": "markdown",
   "metadata": {},
   "source": [
    "## Question 4 Environmental vs Economic Footprints Analysis (16 points)"
   ]
  },
  {
   "cell_type": "markdown",
   "metadata": {},
   "source": [
    "#### 4.1 Using the \"impact\" accounts, what were the value added footrpints of the US and China, respectively, in 2015? (8 points)"
   ]
  },
  {
   "cell_type": "code",
   "execution_count": 9,
   "metadata": {},
   "outputs": [],
   "source": [
    "# Write here your code\n",
    "# You may use multiple cells "
   ]
  },
  {
   "cell_type": "markdown",
   "metadata": {},
   "source": [
    "#### 4.2 Make two main observations on the carbon vs value added footprint results regarding the relationships between the US and China? Please refer to the carbon footprint results obtained in Question 1 (8 points)"
   ]
  },
  {
   "cell_type": "markdown",
   "metadata": {},
   "source": [
    "Double click on this cell to write your answer. Run the cell (ctrl+enter) once you are done writing so that it saves your input"
   ]
  }
 ],
 "metadata": {
  "kernelspec": {
   "display_name": "Python 3 (ipykernel)",
   "language": "python",
   "name": "python3"
  },
  "language_info": {
   "codemirror_mode": {
    "name": "ipython",
    "version": 3
   },
   "file_extension": ".py",
   "mimetype": "text/x-python",
   "name": "python",
   "nbconvert_exporter": "python",
   "pygments_lexer": "ipython3",
   "version": "3.9.16"
  }
 },
 "nbformat": 4,
 "nbformat_minor": 4
}
