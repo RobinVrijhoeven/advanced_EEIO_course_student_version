{
 "cells": [
  {
   "cell_type": "markdown",
   "metadata": {},
   "source": [
    "# Practical 6: MRIO seminal works\n",
    "\n",
    "#### Objectives\n",
    "- Learn how to replicate the methods and results from a few studies. \n",
    "- Understand and explain main results from EEIOA studies using MRIO seminal works"
   ]
  },
  {
   "cell_type": "markdown",
   "metadata": {},
   "source": [
    "### Exercise 1\n",
    "Hertwich and Peters (2009) developed an analysis of the carbon footprint of multiple countries in 2001. Their results show the carbon footprint of different final demand categories per product.\n",
    "\n",
    "In this exercise you will reproduce these results using EXIOBASE and compare any changes between 2001 and 2011"
   ]
  },
  {
   "cell_type": "markdown",
   "metadata": {},
   "source": [
    "<img src=\"figures/global_CO2_footprint.png\" width=\"70%\" />\n",
    "\n",
    "Figure 1. Global CO2 footprint for different consumption categories and users retrieved from Hertwich and Peters (2009)"
   ]
  },
  {
   "cell_type": "markdown",
   "metadata": {},
   "source": [
    "##### Steps in this exercise:\n",
    "- Import data\n",
    "- Calculate Leontief inverse and environmental intesity matrix\n",
    "- Final demand contribution to environmental footprint"
   ]
  },
  {
   "cell_type": "code",
   "execution_count": 1,
   "metadata": {
    "tags": []
   },
   "outputs": [],
   "source": [
    "# Import modules\n",
    "import pandas as pd \n",
    "import numpy as np"
   ]
  },
  {
   "cell_type": "code",
   "execution_count": 3,
   "metadata": {},
   "outputs": [],
   "source": [
    "# Import exiobase\n",
    "A = pd.read_csv('data/IOT_2019_pxp/IOT_2019_pxp/A.txt', sep='\\t',\n",
    "                index_col=[0, 1], header=[0, 1])  # A matrix\n",
    "Y = pd.read_csv('data/IOT_2019_pxp/IOT_2019_pxp/Y.txt', sep='\\t',\n",
    "                index_col=[0, 1], header=[0, 1])  # Y matrix\n",
    "F = pd.read_csv('data/IOT_2019_pxp/IOT_2019_pxp/satellite/F.txt', sep='\\t',\n",
    "                index_col=[0], header=[0, 1])  # impacts matrix\n",
    "F_hh = pd.read_csv('data/IOT_2019_pxp/IOT_2019_pxp/impacts/F_y.txt', sep='\\t',\n",
    "                index_col=[0], header=[0, 1])"
   ]
  },
  {
   "cell_type": "markdown",
   "metadata": {},
   "source": [
    "### Import modules and data"
   ]
  },
  {
   "cell_type": "markdown",
   "metadata": {},
   "source": [
    "### Calculate the Leontief inverse"
   ]
  },
  {
   "cell_type": "code",
   "execution_count": 6,
   "metadata": {},
   "outputs": [],
   "source": [
    "# An identy matrix of the size as A-matrix\n",
    "I = np.identity(A.shape[0])\n",
    "#can also use np.identity(len(A))\n",
    "\n",
    "## Leontief inverse matrix\n",
    "L = np.linalg.inv(I-A)"
   ]
  },
  {
   "cell_type": "code",
   "execution_count": 8,
   "metadata": {},
   "outputs": [],
   "source": [
    "## Calculate total output vector (x)\n",
    "\n",
    "# Sum of all final demand categories\n",
    "Y_total = Y.sum(axis=1)\n",
    "\n",
    "# Total outputs\n",
    "x = L @ Y"
   ]
  },
  {
   "cell_type": "markdown",
   "metadata": {},
   "source": [
    "### Calculate environmental intensity matrix\n",
    "From satellite matrix (F), select row for CO2 (i.e., F_co2). This can be done using pd.loc"
   ]
  },
  {
   "cell_type": "code",
   "execution_count": 16,
   "metadata": {},
   "outputs": [],
   "source": [
    "indicator = \"Carbon dioxide (CO2) Fuel combustion\"\n",
    "# select CO2 vector\n",
    "F_co2 = F.loc[indicator, :] \n",
    "#Lables that you can select are found by F.index"
   ]
  },
  {
   "cell_type": "code",
   "execution_count": 26,
   "metadata": {},
   "outputs": [
    {
     "data": {
      "text/plain": [
       "(9800, 343)"
      ]
     },
     "execution_count": 26,
     "metadata": {},
     "output_type": "execute_result"
    }
   ],
   "source": [
    "# make a copy of the product output vector\n",
    "x_copy = x.copy()\n",
    "\n",
    "# divide 1 by the values that are non-0\n",
    "x[x!=0] = 1/x[x!=0]\n",
    "# Needed when diagnolisation has 0 on the diagonal, cannot use linalg \n",
    "\n",
    "# diagonalize the resulting vector\n",
    "x_diag = np.diag(x)\n"
   ]
  },
  {
   "cell_type": "code",
   "execution_count": 28,
   "metadata": {},
   "outputs": [
    {
     "ename": "ValueError",
     "evalue": "shapes (343,) and (126, 9800) not aligned",
     "output_type": "error",
     "traceback": [
      "\u001b[1;31m---------------------------------------------------------------------------\u001b[0m",
      "\u001b[1;31mValueError\u001b[0m                                Traceback (most recent call last)",
      "File \u001b[1;32m~\\anaconda\\envs\\EEIO\\lib\\site-packages\\pandas\\core\\frame.py:1640\u001b[0m, in \u001b[0;36mDataFrame.__rmatmul__\u001b[1;34m(self, other)\u001b[0m\n\u001b[0;32m   1639\u001b[0m \u001b[38;5;28;01mtry\u001b[39;00m:\n\u001b[1;32m-> 1640\u001b[0m     \u001b[38;5;28;01mreturn\u001b[39;00m \u001b[38;5;28;43mself\u001b[39;49m\u001b[38;5;241;43m.\u001b[39;49m\u001b[43mT\u001b[49m\u001b[38;5;241;43m.\u001b[39;49m\u001b[43mdot\u001b[49m\u001b[43m(\u001b[49m\u001b[43mnp\u001b[49m\u001b[38;5;241;43m.\u001b[39;49m\u001b[43mtranspose\u001b[49m\u001b[43m(\u001b[49m\u001b[43mother\u001b[49m\u001b[43m)\u001b[49m\u001b[43m)\u001b[49m\u001b[38;5;241m.\u001b[39mT\n\u001b[0;32m   1641\u001b[0m \u001b[38;5;28;01mexcept\u001b[39;00m \u001b[38;5;167;01mValueError\u001b[39;00m \u001b[38;5;28;01mas\u001b[39;00m err:\n",
      "File \u001b[1;32m~\\anaconda\\envs\\EEIO\\lib\\site-packages\\pandas\\core\\frame.py:1602\u001b[0m, in \u001b[0;36mDataFrame.dot\u001b[1;34m(self, other)\u001b[0m\n\u001b[0;32m   1601\u001b[0m     \u001b[38;5;28;01mif\u001b[39;00m lvals\u001b[38;5;241m.\u001b[39mshape[\u001b[38;5;241m1\u001b[39m] \u001b[38;5;241m!=\u001b[39m rvals\u001b[38;5;241m.\u001b[39mshape[\u001b[38;5;241m0\u001b[39m]:\n\u001b[1;32m-> 1602\u001b[0m         \u001b[38;5;28;01mraise\u001b[39;00m \u001b[38;5;167;01mValueError\u001b[39;00m(\n\u001b[0;32m   1603\u001b[0m             \u001b[38;5;124mf\u001b[39m\u001b[38;5;124m\"\u001b[39m\u001b[38;5;124mDot product shape mismatch, \u001b[39m\u001b[38;5;132;01m{\u001b[39;00mlvals\u001b[38;5;241m.\u001b[39mshape\u001b[38;5;132;01m}\u001b[39;00m\u001b[38;5;124m vs \u001b[39m\u001b[38;5;132;01m{\u001b[39;00mrvals\u001b[38;5;241m.\u001b[39mshape\u001b[38;5;132;01m}\u001b[39;00m\u001b[38;5;124m\"\u001b[39m\n\u001b[0;32m   1604\u001b[0m         )\n\u001b[0;32m   1606\u001b[0m \u001b[38;5;28;01mif\u001b[39;00m \u001b[38;5;28misinstance\u001b[39m(other, DataFrame):\n",
      "\u001b[1;31mValueError\u001b[0m: Dot product shape mismatch, (9800, 126) vs (343,)",
      "\nThe above exception was the direct cause of the following exception:\n",
      "\u001b[1;31mValueError\u001b[0m                                Traceback (most recent call last)",
      "Cell \u001b[1;32mIn[28], line 2\u001b[0m\n\u001b[0;32m      1\u001b[0m \u001b[38;5;66;03m# Calculate the intensity\u001b[39;00m\n\u001b[1;32m----> 2\u001b[0m f_ \u001b[38;5;241m=\u001b[39m  \u001b[43mx_diag\u001b[49m\u001b[43m \u001b[49m\u001b[38;5;241;43m@\u001b[39;49m\u001b[43m \u001b[49m\u001b[43mF\u001b[49m\n",
      "File \u001b[1;32m~\\anaconda\\envs\\EEIO\\lib\\site-packages\\pandas\\core\\generic.py:2113\u001b[0m, in \u001b[0;36mNDFrame.__array_ufunc__\u001b[1;34m(self, ufunc, method, *inputs, **kwargs)\u001b[0m\n\u001b[0;32m   2109\u001b[0m \u001b[38;5;129m@final\u001b[39m\n\u001b[0;32m   2110\u001b[0m \u001b[38;5;28;01mdef\u001b[39;00m \u001b[38;5;21m__array_ufunc__\u001b[39m(\n\u001b[0;32m   2111\u001b[0m     \u001b[38;5;28mself\u001b[39m, ufunc: np\u001b[38;5;241m.\u001b[39mufunc, method: \u001b[38;5;28mstr\u001b[39m, \u001b[38;5;241m*\u001b[39minputs: Any, \u001b[38;5;241m*\u001b[39m\u001b[38;5;241m*\u001b[39mkwargs: Any\n\u001b[0;32m   2112\u001b[0m ):\n\u001b[1;32m-> 2113\u001b[0m     \u001b[38;5;28;01mreturn\u001b[39;00m arraylike\u001b[38;5;241m.\u001b[39marray_ufunc(\u001b[38;5;28mself\u001b[39m, ufunc, method, \u001b[38;5;241m*\u001b[39minputs, \u001b[38;5;241m*\u001b[39m\u001b[38;5;241m*\u001b[39mkwargs)\n",
      "File \u001b[1;32m~\\anaconda\\envs\\EEIO\\lib\\site-packages\\pandas\\core\\arraylike.py:265\u001b[0m, in \u001b[0;36marray_ufunc\u001b[1;34m(self, ufunc, method, *inputs, **kwargs)\u001b[0m\n\u001b[0;32m    262\u001b[0m     \u001b[38;5;28;01mreturn\u001b[39;00m result\n\u001b[0;32m    264\u001b[0m \u001b[38;5;66;03m# for binary ops, use our custom dunder methods\u001b[39;00m\n\u001b[1;32m--> 265\u001b[0m result \u001b[38;5;241m=\u001b[39m maybe_dispatch_ufunc_to_dunder_op(\u001b[38;5;28mself\u001b[39m, ufunc, method, \u001b[38;5;241m*\u001b[39minputs, \u001b[38;5;241m*\u001b[39m\u001b[38;5;241m*\u001b[39mkwargs)\n\u001b[0;32m    266\u001b[0m \u001b[38;5;28;01mif\u001b[39;00m result \u001b[38;5;129;01mis\u001b[39;00m \u001b[38;5;129;01mnot\u001b[39;00m \u001b[38;5;28mNotImplemented\u001b[39m:\n\u001b[0;32m    267\u001b[0m     \u001b[38;5;28;01mreturn\u001b[39;00m result\n",
      "File \u001b[1;32m~\\anaconda\\envs\\EEIO\\lib\\site-packages\\pandas\\_libs\\ops_dispatch.pyx:113\u001b[0m, in \u001b[0;36mpandas._libs.ops_dispatch.maybe_dispatch_ufunc_to_dunder_op\u001b[1;34m()\u001b[0m\n",
      "File \u001b[1;32m~\\anaconda\\envs\\EEIO\\lib\\site-packages\\pandas\\core\\frame.py:1646\u001b[0m, in \u001b[0;36mDataFrame.__rmatmul__\u001b[1;34m(self, other)\u001b[0m\n\u001b[0;32m   1644\u001b[0m \u001b[38;5;66;03m# GH#21581 give exception message for original shapes\u001b[39;00m\n\u001b[0;32m   1645\u001b[0m msg \u001b[38;5;241m=\u001b[39m \u001b[38;5;124mf\u001b[39m\u001b[38;5;124m\"\u001b[39m\u001b[38;5;124mshapes \u001b[39m\u001b[38;5;132;01m{\u001b[39;00mnp\u001b[38;5;241m.\u001b[39mshape(other)\u001b[38;5;132;01m}\u001b[39;00m\u001b[38;5;124m and \u001b[39m\u001b[38;5;132;01m{\u001b[39;00m\u001b[38;5;28mself\u001b[39m\u001b[38;5;241m.\u001b[39mshape\u001b[38;5;132;01m}\u001b[39;00m\u001b[38;5;124m not aligned\u001b[39m\u001b[38;5;124m\"\u001b[39m\n\u001b[1;32m-> 1646\u001b[0m \u001b[38;5;28;01mraise\u001b[39;00m \u001b[38;5;167;01mValueError\u001b[39;00m(msg) \u001b[38;5;28;01mfrom\u001b[39;00m \u001b[38;5;21;01merr\u001b[39;00m\n",
      "\u001b[1;31mValueError\u001b[0m: shapes (343,) and (126, 9800) not aligned"
     ]
    }
   ],
   "source": [
    "# Calculate the intensity\n",
    "f_ =  "
   ]
  },
  {
   "cell_type": "markdown",
   "metadata": {},
   "source": [
    "As mentioned in the previous lecture the other option you have is to divide the extension vector by the total product output and then replace inf and nan values by 0's."
   ]
  },
  {
   "cell_type": "code",
   "execution_count": null,
   "metadata": {},
   "outputs": [],
   "source": [
    "f_ = F_/x.transpose() # co2 intensity vector\n",
    "f_ = f_.replace([np.inf, -np.inf], np.nan).replace(np.nan, 0)  # replacing inf, -inf, and nan with zeros"
   ]
  },
  {
   "cell_type": "markdown",
   "metadata": {},
   "source": [
    "### Contribution of Final Demand to the CO2 footprint\n",
    "From the final demand matrix (Y), calculate the global final demand of households (y_hh), government expenditures (y_gov) and gross capital formation (y_cap)."
   ]
  },
  {
   "cell_type": "code",
   "execution_count": null,
   "metadata": {},
   "outputs": [],
   "source": [
    "## Calculation y_hh, y_gov, and y_cap\n",
    "\n",
    "# Select final demand categories\n",
    "\n",
    "\n",
    "# selecting hh columns for all countries/regions\n",
    "# Y.loc[:, pd.indexslice[:, hh_lab]]\n",
    "\n",
    "# global final expenditure by household \n",
    "\n",
    "# global final expenditure by government\n",
    "\n",
    "# global capital formation "
   ]
  },
  {
   "cell_type": "markdown",
   "metadata": {},
   "source": [
    "In the previous lectures you have used the method df.loc[pd.IndexSlice[level_0, level_1], :] to slice dataframes with multi-index labels\n",
    "\n",
    "If you find it more practical you can also use the df.xs(label, axis, level, drop_level) method instead\n",
    "\n",
    "- the first argument is the label you want to select\n",
    "- the second argument axis is the axis (rows=0 or columns=1)\n",
    "- the third agument is the level (e.g., level=0 is the region)\n",
    "- the forth argument drop_level allows you to specify whether you want to keep the level of the multiindex you sliced or not"
   ]
  },
  {
   "cell_type": "code",
   "execution_count": null,
   "metadata": {},
   "outputs": [],
   "source": []
  },
  {
   "cell_type": "markdown",
   "metadata": {},
   "source": [
    "### Calculation CO2 footprint per final demand category per product"
   ]
  },
  {
   "cell_type": "code",
   "execution_count": null,
   "metadata": {},
   "outputs": [],
   "source": [
    "# CO2 footprint by household expenditures\n",
    "\n",
    "# CO2 footprint by goverment expenditures \n",
    "\n",
    "# CO2 footprint by capital formation "
   ]
  },
  {
   "cell_type": "code",
   "execution_count": 5,
   "metadata": {},
   "outputs": [],
   "source": [
    "# Check the shape of the resulting vectors"
   ]
  },
  {
   "cell_type": "markdown",
   "metadata": {},
   "source": [
    "At this point, it should be 3 vectors (for each final demand category from point 2) of 1 row with 9800 columns (i.e., 49 regions x 200 products)\n",
    "\n",
    "Now reshape each vector using np.reshape so that you have 3 matrices with 49 rows (for each country/region) and 200 columns (for each product)"
   ]
  },
  {
   "cell_type": "code",
   "execution_count": null,
   "metadata": {},
   "outputs": [],
   "source": [
    "## Reshape vectors\n",
    "\n",
    "# reshape to 49 countries/regions and 200 products\n",
    "#np.array or .values\n",
    "\n",
    "# sum per product category\n",
    "\n",
    "\n",
    "# reshape to 49 countries/regions and 200 products\n",
    "\n",
    "# sum per product category\n",
    "\n",
    "\n",
    "# reshape to 49 countries/regions and 200 products\n",
    "\n",
    "# sum per product category"
   ]
  },
  {
   "cell_type": "code",
   "execution_count": null,
   "metadata": {},
   "outputs": [],
   "source": [
    "## Build new pandas dataframe by concatenating the 3 vectors together"
   ]
  },
  {
   "cell_type": "markdown",
   "metadata": {},
   "source": [
    "### Separate results by sectors\n",
    "\n",
    "- Extraction\n",
    "- Manufacturing\n",
    "- Construction\n",
    "- Services"
   ]
  },
  {
   "cell_type": "code",
   "execution_count": null,
   "metadata": {},
   "outputs": [],
   "source": [
    "### Index product categories\n",
    "\n",
    "# extraction categories (including agriculture, and mining)\n",
    "\n",
    "# manufacturing (including food, clothing, other products)\n",
    "\n",
    "# construction categories\n",
    "\n",
    "# services categories"
   ]
  },
  {
   "cell_type": "code",
   "execution_count": null,
   "metadata": {},
   "outputs": [],
   "source": [
    "## Sum per product group"
   ]
  },
  {
   "cell_type": "code",
   "execution_count": null,
   "metadata": {},
   "outputs": [],
   "source": [
    "## Re-group dataframe and add labels\n",
    "\n",
    "df_new = None\n",
    "df_new.index = ['Households', 'Goverment', 'Investment']\n",
    "df_new.columns = ['Agriculture and Mining', 'Manufacturing', 'Construction', 'Services']"
   ]
  },
  {
   "cell_type": "markdown",
   "metadata": {},
   "source": [
    "### Visualize the results\n",
    "Create a bar graph showing the final contribution per product category to the CO2 footprint\n",
    "\n",
    "Note: This can be done by using:\n",
    "df_new.plot.barh(stacked=True)"
   ]
  },
  {
   "cell_type": "code",
   "execution_count": null,
   "metadata": {},
   "outputs": [],
   "source": [
    "## Create a vertical bar chart"
   ]
  },
  {
   "cell_type": "markdown",
   "metadata": {},
   "source": [
    "### Replicate these steps for 2011 data"
   ]
  },
  {
   "cell_type": "markdown",
   "metadata": {},
   "source": [
    "## References\n",
    "Hertwich, E. G., & Peters, G. P. (2009). Carbon footprint of nations: A global, trade-linked analysis. Environmental Science and Technology, 43(16), 6414–6420. https://doi.org/10.1021/es803496a\n",
    "\n",
    "Wood, R., Stadler, K., Simas, M., Bulavskaya, T., Giljum, S., Lutter, S., & Tukker, A. (2018). Growth in Environmental Footprints and Environmental Impacts Embodied in Trade: Resource Efficiency Indicators from EXIOBASE3. Journal of Industrial Ecology, 22(3), 553–562. https://doi.org/10.1111/jiec.12735"
   ]
  }
 ],
 "metadata": {
  "kernelspec": {
   "display_name": "Python 3 (ipykernel)",
   "language": "python",
   "name": "python3"
  },
  "language_info": {
   "codemirror_mode": {
    "name": "ipython",
    "version": 3
   },
   "file_extension": ".py",
   "mimetype": "text/x-python",
   "name": "python",
   "nbconvert_exporter": "python",
   "pygments_lexer": "ipython3",
   "version": "3.9.16"
  },
  "vscode": {
   "interpreter": {
    "hash": "e7370f93d1d0cde622a1f8e1c04877d8463912d04d973331ad4851f04de6915a"
   }
  }
 },
 "nbformat": 4,
 "nbformat_minor": 4
}
