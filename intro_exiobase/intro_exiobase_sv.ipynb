{
 "cells": [
  {
   "cell_type": "markdown",
   "metadata": {
    "slideshow": {
     "slide_type": "slide"
    }
   },
   "source": [
    "# Practical 5: Introduction to exiobase\n",
    "\n",
    "In this practical, you will learn how to load and work with exiobase\n",
    "\n",
    "You can download exiobase through this link https://exiobase.eu/index.php/data-download/exiobase3mon?limit=20&limitstart=20\n",
    " \n",
    "We will work with: EXIOBASE 3.4 - IOT - 2011 - pxp\n",
    "\n",
    "The objectives of the practical are:\n",
    "- See the data available within exiobase\n",
    "- Calculate footprints using exiobase\n",
    "- Make a visualization"
   ]
  },
  {
   "cell_type": "markdown",
   "metadata": {
    "slideshow": {
     "slide_type": "subslide"
    }
   },
   "source": [
    "## Exercise 1: Load the data\n",
    "\n",
    "Import the IO exiobase data for the year 2011 in product-by-product format"
   ]
  },
  {
   "cell_type": "code",
   "execution_count": 1,
   "metadata": {
    "slideshow": {
     "slide_type": "fragment"
    }
   },
   "outputs": [],
   "source": [
    "# Import modules\n",
    "import pandas as pd\n",
    "import numpy as np"
   ]
  },
  {
   "cell_type": "markdown",
   "metadata": {
    "slideshow": {
     "slide_type": "subslide"
    }
   },
   "source": [
    "#### 1.1 Import exiobase\n",
    "\n",
    "Beware: exiobase is composed by large datasets so it may take some time to load and process"
   ]
  },
  {
   "cell_type": "code",
   "execution_count": 2,
   "metadata": {
    "slideshow": {
     "slide_type": "fragment"
    }
   },
   "outputs": [],
   "source": [
    "A = pd.read_csv(\"data/IOT_2019_pxp/IOT_2019_pxp/A.txt\", delimiter=\"\\t\", index_col=[0, 1], header=[0, 1]) # Z matrix\n",
    "Y = pd.read_csv(\"data/IOT_2019_pxp/IOT_2019_pxp/Y.txt\", delimiter=\"\\t\", index_col=[0,1], header=[0,1])  # y matrix\n",
    "F = pd.read_csv(\"data/IOT_2019_pxp/IOT_2019_pxp/impacts/F.txt\", delimiter=\"\\t\", index_col=[0], header=[0,1])  # satellite matrix\n",
    "F_hh = pd.read_csv(\"data/IOT_2019_pxp/IOT_2019_pxp/impacts/F_Y.txt\", delimiter=\"\\t\", index_col=[0], header=[0,1]) # satellite for FD matrix"
   ]
  },
  {
   "cell_type": "markdown",
   "metadata": {
    "slideshow": {
     "slide_type": "subslide"
    }
   },
   "source": [
    "#### 1.2 Look at the available labels in exiobase\n",
    "You may do this by printing the labels of your imported matrices or by opening the following files in your data folder:\n",
    "- finaldemands.txt\n",
    "- products.txt\n",
    "- satellite/unit.txt"
   ]
  },
  {
   "cell_type": "markdown",
   "metadata": {
    "slideshow": {
     "slide_type": "fragment"
    }
   },
   "source": [
    "Since we don't have a file showing all individual regions. \n",
    "Here is a code example of how you can get a list of all the regions within exiobase"
   ]
  },
  {
   "cell_type": "code",
   "execution_count": 3,
   "metadata": {},
   "outputs": [
    {
     "data": {
      "text/plain": [
       "MultiIndex([('AT',                                          'Paddy rice'),\n",
       "            ('AT',                                               'Wheat'),\n",
       "            ('AT',                                   'Cereal grains nec'),\n",
       "            ('AT',                             'Vegetables, fruit, nuts'),\n",
       "            ('AT',                                           'Oil seeds'),\n",
       "            ('AT',                              'Sugar cane, sugar beet'),\n",
       "            ('AT',                                  'Plant-based fibers'),\n",
       "            ('AT',                                           'Crops nec'),\n",
       "            ('AT',                                              'Cattle'),\n",
       "            ('AT',                                                'Pigs'),\n",
       "            ...\n",
       "            ('WM',                       'Paper for treatment: landfill'),\n",
       "            ('WM',               'Plastic waste for treatment: landfill'),\n",
       "            ('WM', 'Inert/metal/hazardous waste for treatment: landfill'),\n",
       "            ('WM',              'Textiles waste for treatment: landfill'),\n",
       "            ('WM',                  'Wood waste for treatment: landfill'),\n",
       "            ('WM',        'Membership organisation services n.e.c. (91)'),\n",
       "            ('WM',   'Recreational, cultural and sporting services (92)'),\n",
       "            ('WM',                                 'Other services (93)'),\n",
       "            ('WM',       'Private households with employed persons (95)'),\n",
       "            ('WM',          'Extra-territorial organizations and bodies')],\n",
       "           names=['region', 'sector'], length=9800)"
      ]
     },
     "execution_count": 3,
     "metadata": {},
     "output_type": "execute_result"
    }
   ],
   "source": [
    "# First we collect all labels from A\n",
    "A_labels = A.index\n",
    "A_labels"
   ]
  },
  {
   "cell_type": "code",
   "execution_count": 4,
   "metadata": {
    "slideshow": {
     "slide_type": "subslide"
    }
   },
   "outputs": [
    {
     "data": {
      "text/html": [
       "<div>\n",
       "<style scoped>\n",
       "    .dataframe tbody tr th:only-of-type {\n",
       "        vertical-align: middle;\n",
       "    }\n",
       "\n",
       "    .dataframe tbody tr th {\n",
       "        vertical-align: top;\n",
       "    }\n",
       "\n",
       "    .dataframe thead th {\n",
       "        text-align: right;\n",
       "    }\n",
       "</style>\n",
       "<table border=\"1\" class=\"dataframe\">\n",
       "  <thead>\n",
       "    <tr style=\"text-align: right;\">\n",
       "      <th></th>\n",
       "      <th>region</th>\n",
       "      <th>sector</th>\n",
       "    </tr>\n",
       "  </thead>\n",
       "  <tbody>\n",
       "    <tr>\n",
       "      <th>0</th>\n",
       "      <td>AT</td>\n",
       "      <td>Paddy rice</td>\n",
       "    </tr>\n",
       "    <tr>\n",
       "      <th>1</th>\n",
       "      <td>AT</td>\n",
       "      <td>Wheat</td>\n",
       "    </tr>\n",
       "    <tr>\n",
       "      <th>2</th>\n",
       "      <td>AT</td>\n",
       "      <td>Cereal grains nec</td>\n",
       "    </tr>\n",
       "    <tr>\n",
       "      <th>3</th>\n",
       "      <td>AT</td>\n",
       "      <td>Vegetables, fruit, nuts</td>\n",
       "    </tr>\n",
       "    <tr>\n",
       "      <th>4</th>\n",
       "      <td>AT</td>\n",
       "      <td>Oil seeds</td>\n",
       "    </tr>\n",
       "    <tr>\n",
       "      <th>...</th>\n",
       "      <td>...</td>\n",
       "      <td>...</td>\n",
       "    </tr>\n",
       "    <tr>\n",
       "      <th>9795</th>\n",
       "      <td>WM</td>\n",
       "      <td>Membership organisation services n.e.c. (91)</td>\n",
       "    </tr>\n",
       "    <tr>\n",
       "      <th>9796</th>\n",
       "      <td>WM</td>\n",
       "      <td>Recreational, cultural and sporting services (92)</td>\n",
       "    </tr>\n",
       "    <tr>\n",
       "      <th>9797</th>\n",
       "      <td>WM</td>\n",
       "      <td>Other services (93)</td>\n",
       "    </tr>\n",
       "    <tr>\n",
       "      <th>9798</th>\n",
       "      <td>WM</td>\n",
       "      <td>Private households with employed persons (95)</td>\n",
       "    </tr>\n",
       "    <tr>\n",
       "      <th>9799</th>\n",
       "      <td>WM</td>\n",
       "      <td>Extra-territorial organizations and bodies</td>\n",
       "    </tr>\n",
       "  </tbody>\n",
       "</table>\n",
       "<p>9800 rows × 2 columns</p>\n",
       "</div>"
      ],
      "text/plain": [
       "     region                                             sector\n",
       "0        AT                                         Paddy rice\n",
       "1        AT                                              Wheat\n",
       "2        AT                                  Cereal grains nec\n",
       "3        AT                            Vegetables, fruit, nuts\n",
       "4        AT                                          Oil seeds\n",
       "...     ...                                                ...\n",
       "9795     WM       Membership organisation services n.e.c. (91)\n",
       "9796     WM  Recreational, cultural and sporting services (92)\n",
       "9797     WM                                Other services (93)\n",
       "9798     WM      Private households with employed persons (95)\n",
       "9799     WM         Extra-territorial organizations and bodies\n",
       "\n",
       "[9800 rows x 2 columns]"
      ]
     },
     "execution_count": 4,
     "metadata": {},
     "output_type": "execute_result"
    }
   ],
   "source": [
    "# .to_frame() to turn the collected labels into a dataframe\n",
    "A_labels = A_labels.to_frame(index=None)\n",
    "A_labels"
   ]
  },
  {
   "cell_type": "markdown",
   "metadata": {
    "slideshow": {
     "slide_type": "subslide"
    }
   },
   "source": [
    "A_labels is composed by two columns \"region\" and \"sector\"\n",
    "by doing \n",
    "\n",
    "> A_labels.region \n",
    "\n",
    "or \n",
    "\n",
    "> A_labels.sector \n",
    "\n",
    "you can access the specific columns \n",
    "\n",
    "N.b.\n",
    "it is the equivalent of doing \n",
    "\n",
    "> A_labels.loc[:, \"region\"]"
   ]
  },
  {
   "cell_type": "markdown",
   "metadata": {
    "slideshow": {
     "slide_type": "slide"
    }
   },
   "source": [
    "How do we know how many regions, sectors or categories do we have available?"
   ]
  },
  {
   "cell_type": "code",
   "execution_count": 5,
   "metadata": {
    "slideshow": {
     "slide_type": "fragment"
    }
   },
   "outputs": [
    {
     "data": {
      "text/plain": [
       "49"
      ]
     },
     "execution_count": 5,
     "metadata": {},
     "output_type": "execute_result"
    }
   ],
   "source": [
    "# Then we extract region column and eliminate any duplicate labels\n",
    "# We do this because the labels are replicated for each sectoral category in each region\n",
    "regions_labels = A_labels.region.unique()\n",
    "\n",
    "# We print the regional labels so that we can see the regions we have to work with\n",
    "regions_labels.size"
   ]
  },
  {
   "cell_type": "code",
   "execution_count": 6,
   "metadata": {
    "slideshow": {
     "slide_type": "subslide"
    }
   },
   "outputs": [
    {
     "data": {
      "text/plain": [
       "200"
      ]
     },
     "execution_count": 6,
     "metadata": {},
     "output_type": "execute_result"
    }
   ],
   "source": [
    "sectors_labels = A_labels.sector.unique()\n",
    "\n",
    "# Print the sectoral labels\n",
    "sectors_labels.size"
   ]
  },
  {
   "cell_type": "markdown",
   "metadata": {
    "slideshow": {
     "slide_type": "slide"
    }
   },
   "source": [
    "## Exercise 2: Calculate the rest of the IO variables (I, L, x)"
   ]
  },
  {
   "cell_type": "markdown",
   "metadata": {
    "slideshow": {
     "slide_type": "subslide"
    }
   },
   "source": [
    "#### 2.1 First we calculate the Leontief inverse"
   ]
  },
  {
   "cell_type": "code",
   "execution_count": 7,
   "metadata": {
    "slideshow": {
     "slide_type": "fragment"
    }
   },
   "outputs": [
    {
     "data": {
      "text/plain": [
       "array([[1.00000000e+00, 0.00000000e+00, 0.00000000e+00, ...,\n",
       "        0.00000000e+00, 0.00000000e+00, 0.00000000e+00],\n",
       "       [0.00000000e+00, 1.03428586e+00, 1.25597428e-05, ...,\n",
       "        7.92387971e-07, 3.20440448e-07, 0.00000000e+00],\n",
       "       [0.00000000e+00, 3.69204131e-05, 1.01458483e+00, ...,\n",
       "        2.46470027e-06, 5.24856750e-07, 0.00000000e+00],\n",
       "       ...,\n",
       "       [0.00000000e+00, 4.62181987e-06, 4.13319935e-06, ...,\n",
       "        1.01367267e+00, 2.84431457e-04, 0.00000000e+00],\n",
       "       [0.00000000e+00, 8.40582312e-06, 7.91799006e-06, ...,\n",
       "        3.67771108e-04, 1.00416733e+00, 0.00000000e+00],\n",
       "       [0.00000000e+00, 0.00000000e+00, 0.00000000e+00, ...,\n",
       "        0.00000000e+00, 0.00000000e+00, 1.00000000e+00]])"
      ]
     },
     "execution_count": 7,
     "metadata": {},
     "output_type": "execute_result"
    }
   ],
   "source": [
    "\n",
    "I = np.identity(A.shape[0]) # A.shape[0] is the total number of columns in the A matrix\n",
    "L = np.linalg.inv(I-A)\n",
    "L"
   ]
  },
  {
   "cell_type": "markdown",
   "metadata": {
    "slideshow": {
     "slide_type": "subslide"
    }
   },
   "source": [
    "#### 2.2 We calculate our product output x"
   ]
  },
  {
   "cell_type": "code",
   "execution_count": 8,
   "metadata": {
    "slideshow": {
     "slide_type": "fragment"
    }
   },
   "outputs": [
    {
     "name": "stdout",
     "output_type": "stream",
     "text": [
      "(9800,)\n",
      "[    0.           359.79773658   864.54809943 ... 35533.35519031\n",
      "  6245.82863651     0.        ]\n"
     ]
    }
   ],
   "source": [
    "x = L@Y.sum(axis=1)\n",
    "\n",
    "# A check to see whether the resulting x is right\n",
    "print(x.shape)\n",
    "print(x)"
   ]
  },
  {
   "cell_type": "markdown",
   "metadata": {
    "slideshow": {
     "slide_type": "slide"
    }
   },
   "source": [
    "## Exercise 3: Create a matrix of extension intensities \n",
    "\n",
    "When working with real data, you will find cases in which the produt output vector x contains 0's \n",
    "\n",
    "If you try to invert the diagonalized product output, it will tell you that you cannot invert a Singular matrix.\n",
    "\n",
    "There are various reasons why a matrix may be singular but in our case it is due to the fact that not all values are non-zeros\n",
    "\n",
    "You may then be tempted to perform 1/x, however, this may results in several divisions by 0's and the resulting matrix will be filled with NaN values or inf values.\n",
    "\n",
    "One way to get around this: Divide 1 by the values that are non-0 as shown in the following example"
   ]
  },
  {
   "cell_type": "code",
   "execution_count": 9,
   "metadata": {
    "scrolled": true,
    "slideshow": {
     "slide_type": "subslide"
    }
   },
   "outputs": [
    {
     "name": "stdout",
     "output_type": "stream",
     "text": [
      "[0.00000000e+00 2.77933933e-03 1.15667364e-03 ... 2.81425718e-05\n",
      " 1.60106858e-04 0.00000000e+00]\n",
      "(126, 9800)\n"
     ]
    },
    {
     "data": {
      "text/html": [
       "<div>\n",
       "<style scoped>\n",
       "    .dataframe tbody tr th:only-of-type {\n",
       "        vertical-align: middle;\n",
       "    }\n",
       "\n",
       "    .dataframe tbody tr th {\n",
       "        vertical-align: top;\n",
       "    }\n",
       "\n",
       "    .dataframe thead th {\n",
       "        text-align: right;\n",
       "    }\n",
       "</style>\n",
       "<table border=\"1\" class=\"dataframe\">\n",
       "  <thead>\n",
       "    <tr style=\"text-align: right;\">\n",
       "      <th></th>\n",
       "      <th>0</th>\n",
       "      <th>1</th>\n",
       "      <th>2</th>\n",
       "      <th>3</th>\n",
       "      <th>4</th>\n",
       "      <th>5</th>\n",
       "      <th>6</th>\n",
       "      <th>7</th>\n",
       "      <th>8</th>\n",
       "      <th>9</th>\n",
       "      <th>...</th>\n",
       "      <th>9790</th>\n",
       "      <th>9791</th>\n",
       "      <th>9792</th>\n",
       "      <th>9793</th>\n",
       "      <th>9794</th>\n",
       "      <th>9795</th>\n",
       "      <th>9796</th>\n",
       "      <th>9797</th>\n",
       "      <th>9798</th>\n",
       "      <th>9799</th>\n",
       "    </tr>\n",
       "    <tr>\n",
       "      <th>impact</th>\n",
       "      <th></th>\n",
       "      <th></th>\n",
       "      <th></th>\n",
       "      <th></th>\n",
       "      <th></th>\n",
       "      <th></th>\n",
       "      <th></th>\n",
       "      <th></th>\n",
       "      <th></th>\n",
       "      <th></th>\n",
       "      <th></th>\n",
       "      <th></th>\n",
       "      <th></th>\n",
       "      <th></th>\n",
       "      <th></th>\n",
       "      <th></th>\n",
       "      <th></th>\n",
       "      <th></th>\n",
       "      <th></th>\n",
       "      <th></th>\n",
       "      <th></th>\n",
       "    </tr>\n",
       "  </thead>\n",
       "  <tbody>\n",
       "    <tr>\n",
       "      <th>Value Added</th>\n",
       "      <td>0.0</td>\n",
       "      <td>6.758705e-01</td>\n",
       "      <td>0.742589</td>\n",
       "      <td>0.690073</td>\n",
       "      <td>8.318040e-01</td>\n",
       "      <td>5.240212e-01</td>\n",
       "      <td>0.931297</td>\n",
       "      <td>0.548421</td>\n",
       "      <td>3.762497e-03</td>\n",
       "      <td>0.471794</td>\n",
       "      <td>...</td>\n",
       "      <td>3.764269e-01</td>\n",
       "      <td>3.512124e-01</td>\n",
       "      <td>0.389520</td>\n",
       "      <td>3.828206e-01</td>\n",
       "      <td>3.538083e-01</td>\n",
       "      <td>0.479711</td>\n",
       "      <td>0.535663</td>\n",
       "      <td>0.550831</td>\n",
       "      <td>0.717995</td>\n",
       "      <td>0.0</td>\n",
       "    </tr>\n",
       "    <tr>\n",
       "      <th>Employment</th>\n",
       "      <td>0.0</td>\n",
       "      <td>2.162651e-02</td>\n",
       "      <td>0.016105</td>\n",
       "      <td>0.022381</td>\n",
       "      <td>2.495181e-02</td>\n",
       "      <td>2.528435e-02</td>\n",
       "      <td>0.000603</td>\n",
       "      <td>0.003960</td>\n",
       "      <td>3.848932e-02</td>\n",
       "      <td>0.024352</td>\n",
       "      <td>...</td>\n",
       "      <td>5.706826e-03</td>\n",
       "      <td>7.018623e-03</td>\n",
       "      <td>0.005744</td>\n",
       "      <td>8.103717e-03</td>\n",
       "      <td>7.628601e-03</td>\n",
       "      <td>0.007756</td>\n",
       "      <td>0.006710</td>\n",
       "      <td>0.005708</td>\n",
       "      <td>0.014335</td>\n",
       "      <td>0.0</td>\n",
       "    </tr>\n",
       "    <tr>\n",
       "      <th>Employment hour</th>\n",
       "      <td>0.0</td>\n",
       "      <td>4.759831e+04</td>\n",
       "      <td>36782.612201</td>\n",
       "      <td>50517.645427</td>\n",
       "      <td>5.897691e+04</td>\n",
       "      <td>6.203679e+04</td>\n",
       "      <td>1484.470666</td>\n",
       "      <td>8962.473079</td>\n",
       "      <td>9.796496e+04</td>\n",
       "      <td>59816.871185</td>\n",
       "      <td>...</td>\n",
       "      <td>1.532442e+04</td>\n",
       "      <td>1.884651e+04</td>\n",
       "      <td>15059.926003</td>\n",
       "      <td>2.116965e+04</td>\n",
       "      <td>1.957432e+04</td>\n",
       "      <td>21628.179545</td>\n",
       "      <td>18372.663175</td>\n",
       "      <td>15610.512899</td>\n",
       "      <td>40895.270100</td>\n",
       "      <td>0.0</td>\n",
       "    </tr>\n",
       "    <tr>\n",
       "      <th>GHG emissions (GWP100) | Problem oriented approach: baseline (CML, 2001) | GWP100 (IPCC, 2007)</th>\n",
       "      <td>0.0</td>\n",
       "      <td>1.690932e+06</td>\n",
       "      <td>935119.414396</td>\n",
       "      <td>181589.602023</td>\n",
       "      <td>1.301896e+06</td>\n",
       "      <td>1.649214e+06</td>\n",
       "      <td>347941.086195</td>\n",
       "      <td>957782.044611</td>\n",
       "      <td>4.970012e+06</td>\n",
       "      <td>465137.987386</td>\n",
       "      <td>...</td>\n",
       "      <td>2.023481e+07</td>\n",
       "      <td>1.390853e+06</td>\n",
       "      <td>172467.064319</td>\n",
       "      <td>8.445838e+06</td>\n",
       "      <td>1.851824e+06</td>\n",
       "      <td>24267.534015</td>\n",
       "      <td>57159.204690</td>\n",
       "      <td>147562.200164</td>\n",
       "      <td>10687.150229</td>\n",
       "      <td>0.0</td>\n",
       "    </tr>\n",
       "    <tr>\n",
       "      <th>Human toxicity (USEtox) | USEtox2008 | CTUh (Rosenbaum et al., 2008)</th>\n",
       "      <td>0.0</td>\n",
       "      <td>6.446307e-03</td>\n",
       "      <td>0.002427</td>\n",
       "      <td>0.000605</td>\n",
       "      <td>3.198484e-03</td>\n",
       "      <td>1.566391e-03</td>\n",
       "      <td>0.000049</td>\n",
       "      <td>0.000911</td>\n",
       "      <td>2.602296e-03</td>\n",
       "      <td>0.001573</td>\n",
       "      <td>...</td>\n",
       "      <td>8.941858e-02</td>\n",
       "      <td>9.517493e-02</td>\n",
       "      <td>0.141794</td>\n",
       "      <td>1.236203e-01</td>\n",
       "      <td>1.049235e-01</td>\n",
       "      <td>0.008565</td>\n",
       "      <td>0.008359</td>\n",
       "      <td>0.021177</td>\n",
       "      <td>0.000168</td>\n",
       "      <td>0.0</td>\n",
       "    </tr>\n",
       "    <tr>\n",
       "      <th>...</th>\n",
       "      <td>...</td>\n",
       "      <td>...</td>\n",
       "      <td>...</td>\n",
       "      <td>...</td>\n",
       "      <td>...</td>\n",
       "      <td>...</td>\n",
       "      <td>...</td>\n",
       "      <td>...</td>\n",
       "      <td>...</td>\n",
       "      <td>...</td>\n",
       "      <td>...</td>\n",
       "      <td>...</td>\n",
       "      <td>...</td>\n",
       "      <td>...</td>\n",
       "      <td>...</td>\n",
       "      <td>...</td>\n",
       "      <td>...</td>\n",
       "      <td>...</td>\n",
       "      <td>...</td>\n",
       "      <td>...</td>\n",
       "      <td>...</td>\n",
       "    </tr>\n",
       "    <tr>\n",
       "      <th>Unused Domestic Extraction - Oil and Gas</th>\n",
       "      <td>0.0</td>\n",
       "      <td>0.000000e+00</td>\n",
       "      <td>0.000000</td>\n",
       "      <td>0.000000</td>\n",
       "      <td>0.000000e+00</td>\n",
       "      <td>0.000000e+00</td>\n",
       "      <td>0.000000</td>\n",
       "      <td>0.000000</td>\n",
       "      <td>0.000000e+00</td>\n",
       "      <td>0.000000</td>\n",
       "      <td>...</td>\n",
       "      <td>0.000000e+00</td>\n",
       "      <td>0.000000e+00</td>\n",
       "      <td>0.000000</td>\n",
       "      <td>0.000000e+00</td>\n",
       "      <td>0.000000e+00</td>\n",
       "      <td>0.000000</td>\n",
       "      <td>0.000000</td>\n",
       "      <td>0.000000</td>\n",
       "      <td>0.000000</td>\n",
       "      <td>0.0</td>\n",
       "    </tr>\n",
       "    <tr>\n",
       "      <th>Unused Domestic Extraction - Non-metalic Minerals</th>\n",
       "      <td>0.0</td>\n",
       "      <td>0.000000e+00</td>\n",
       "      <td>0.000000</td>\n",
       "      <td>0.000000</td>\n",
       "      <td>0.000000e+00</td>\n",
       "      <td>0.000000e+00</td>\n",
       "      <td>0.000000</td>\n",
       "      <td>0.000000</td>\n",
       "      <td>0.000000e+00</td>\n",
       "      <td>0.000000</td>\n",
       "      <td>...</td>\n",
       "      <td>0.000000e+00</td>\n",
       "      <td>0.000000e+00</td>\n",
       "      <td>0.000000</td>\n",
       "      <td>0.000000e+00</td>\n",
       "      <td>0.000000e+00</td>\n",
       "      <td>0.000000</td>\n",
       "      <td>0.000000</td>\n",
       "      <td>0.000000</td>\n",
       "      <td>0.000000</td>\n",
       "      <td>0.0</td>\n",
       "    </tr>\n",
       "    <tr>\n",
       "      <th>Unused Domestic Extraction - Iron Ore</th>\n",
       "      <td>0.0</td>\n",
       "      <td>0.000000e+00</td>\n",
       "      <td>0.000000</td>\n",
       "      <td>0.000000</td>\n",
       "      <td>0.000000e+00</td>\n",
       "      <td>0.000000e+00</td>\n",
       "      <td>0.000000</td>\n",
       "      <td>0.000000</td>\n",
       "      <td>0.000000e+00</td>\n",
       "      <td>0.000000</td>\n",
       "      <td>...</td>\n",
       "      <td>0.000000e+00</td>\n",
       "      <td>0.000000e+00</td>\n",
       "      <td>0.000000</td>\n",
       "      <td>0.000000e+00</td>\n",
       "      <td>0.000000e+00</td>\n",
       "      <td>0.000000</td>\n",
       "      <td>0.000000</td>\n",
       "      <td>0.000000</td>\n",
       "      <td>0.000000</td>\n",
       "      <td>0.0</td>\n",
       "    </tr>\n",
       "    <tr>\n",
       "      <th>Unused Domestic Extraction - Non-ferous metal ores</th>\n",
       "      <td>0.0</td>\n",
       "      <td>0.000000e+00</td>\n",
       "      <td>0.000000</td>\n",
       "      <td>0.000000</td>\n",
       "      <td>0.000000e+00</td>\n",
       "      <td>0.000000e+00</td>\n",
       "      <td>0.000000</td>\n",
       "      <td>0.000000</td>\n",
       "      <td>0.000000e+00</td>\n",
       "      <td>0.000000</td>\n",
       "      <td>...</td>\n",
       "      <td>0.000000e+00</td>\n",
       "      <td>0.000000e+00</td>\n",
       "      <td>0.000000</td>\n",
       "      <td>0.000000e+00</td>\n",
       "      <td>0.000000e+00</td>\n",
       "      <td>0.000000</td>\n",
       "      <td>0.000000</td>\n",
       "      <td>0.000000</td>\n",
       "      <td>0.000000</td>\n",
       "      <td>0.0</td>\n",
       "    </tr>\n",
       "    <tr>\n",
       "      <th>Land use Crop, Forest, Pasture</th>\n",
       "      <td>0.0</td>\n",
       "      <td>7.079127e+00</td>\n",
       "      <td>4.918618</td>\n",
       "      <td>0.926486</td>\n",
       "      <td>9.350419e+00</td>\n",
       "      <td>3.322742e+00</td>\n",
       "      <td>1.669279</td>\n",
       "      <td>0.336450</td>\n",
       "      <td>1.905738e+01</td>\n",
       "      <td>0.120546</td>\n",
       "      <td>...</td>\n",
       "      <td>0.000000e+00</td>\n",
       "      <td>0.000000e+00</td>\n",
       "      <td>0.000000</td>\n",
       "      <td>0.000000e+00</td>\n",
       "      <td>0.000000e+00</td>\n",
       "      <td>0.000000</td>\n",
       "      <td>0.000000</td>\n",
       "      <td>0.000000</td>\n",
       "      <td>0.000000</td>\n",
       "      <td>0.0</td>\n",
       "    </tr>\n",
       "  </tbody>\n",
       "</table>\n",
       "<p>126 rows × 9800 columns</p>\n",
       "</div>"
      ],
      "text/plain": [
       "                                                    0             1     \\\n",
       "impact                                                                   \n",
       "Value Added                                          0.0  6.758705e-01   \n",
       "Employment                                           0.0  2.162651e-02   \n",
       "Employment hour                                      0.0  4.759831e+04   \n",
       "GHG emissions (GWP100) | Problem oriented appro...   0.0  1.690932e+06   \n",
       "Human toxicity (USEtox) | USEtox2008 | CTUh (Ro...   0.0  6.446307e-03   \n",
       "...                                                  ...           ...   \n",
       "Unused Domestic Extraction - Oil and Gas             0.0  0.000000e+00   \n",
       "Unused Domestic Extraction - Non-metalic Minerals    0.0  0.000000e+00   \n",
       "Unused Domestic Extraction - Iron Ore                0.0  0.000000e+00   \n",
       "Unused Domestic Extraction - Non-ferous metal ores   0.0  0.000000e+00   \n",
       "Land use Crop, Forest, Pasture                       0.0  7.079127e+00   \n",
       "\n",
       "                                                             2     \\\n",
       "impact                                                              \n",
       "Value Added                                              0.742589   \n",
       "Employment                                               0.016105   \n",
       "Employment hour                                      36782.612201   \n",
       "GHG emissions (GWP100) | Problem oriented appro...  935119.414396   \n",
       "Human toxicity (USEtox) | USEtox2008 | CTUh (Ro...       0.002427   \n",
       "...                                                           ...   \n",
       "Unused Domestic Extraction - Oil and Gas                 0.000000   \n",
       "Unused Domestic Extraction - Non-metalic Minerals        0.000000   \n",
       "Unused Domestic Extraction - Iron Ore                    0.000000   \n",
       "Unused Domestic Extraction - Non-ferous metal ores       0.000000   \n",
       "Land use Crop, Forest, Pasture                           4.918618   \n",
       "\n",
       "                                                             3     \\\n",
       "impact                                                              \n",
       "Value Added                                              0.690073   \n",
       "Employment                                               0.022381   \n",
       "Employment hour                                      50517.645427   \n",
       "GHG emissions (GWP100) | Problem oriented appro...  181589.602023   \n",
       "Human toxicity (USEtox) | USEtox2008 | CTUh (Ro...       0.000605   \n",
       "...                                                           ...   \n",
       "Unused Domestic Extraction - Oil and Gas                 0.000000   \n",
       "Unused Domestic Extraction - Non-metalic Minerals        0.000000   \n",
       "Unused Domestic Extraction - Iron Ore                    0.000000   \n",
       "Unused Domestic Extraction - Non-ferous metal ores       0.000000   \n",
       "Land use Crop, Forest, Pasture                           0.926486   \n",
       "\n",
       "                                                            4     \\\n",
       "impact                                                             \n",
       "Value Added                                         8.318040e-01   \n",
       "Employment                                          2.495181e-02   \n",
       "Employment hour                                     5.897691e+04   \n",
       "GHG emissions (GWP100) | Problem oriented appro...  1.301896e+06   \n",
       "Human toxicity (USEtox) | USEtox2008 | CTUh (Ro...  3.198484e-03   \n",
       "...                                                          ...   \n",
       "Unused Domestic Extraction - Oil and Gas            0.000000e+00   \n",
       "Unused Domestic Extraction - Non-metalic Minerals   0.000000e+00   \n",
       "Unused Domestic Extraction - Iron Ore               0.000000e+00   \n",
       "Unused Domestic Extraction - Non-ferous metal ores  0.000000e+00   \n",
       "Land use Crop, Forest, Pasture                      9.350419e+00   \n",
       "\n",
       "                                                            5     \\\n",
       "impact                                                             \n",
       "Value Added                                         5.240212e-01   \n",
       "Employment                                          2.528435e-02   \n",
       "Employment hour                                     6.203679e+04   \n",
       "GHG emissions (GWP100) | Problem oriented appro...  1.649214e+06   \n",
       "Human toxicity (USEtox) | USEtox2008 | CTUh (Ro...  1.566391e-03   \n",
       "...                                                          ...   \n",
       "Unused Domestic Extraction - Oil and Gas            0.000000e+00   \n",
       "Unused Domestic Extraction - Non-metalic Minerals   0.000000e+00   \n",
       "Unused Domestic Extraction - Iron Ore               0.000000e+00   \n",
       "Unused Domestic Extraction - Non-ferous metal ores  0.000000e+00   \n",
       "Land use Crop, Forest, Pasture                      3.322742e+00   \n",
       "\n",
       "                                                             6     \\\n",
       "impact                                                              \n",
       "Value Added                                              0.931297   \n",
       "Employment                                               0.000603   \n",
       "Employment hour                                       1484.470666   \n",
       "GHG emissions (GWP100) | Problem oriented appro...  347941.086195   \n",
       "Human toxicity (USEtox) | USEtox2008 | CTUh (Ro...       0.000049   \n",
       "...                                                           ...   \n",
       "Unused Domestic Extraction - Oil and Gas                 0.000000   \n",
       "Unused Domestic Extraction - Non-metalic Minerals        0.000000   \n",
       "Unused Domestic Extraction - Iron Ore                    0.000000   \n",
       "Unused Domestic Extraction - Non-ferous metal ores       0.000000   \n",
       "Land use Crop, Forest, Pasture                           1.669279   \n",
       "\n",
       "                                                             7     \\\n",
       "impact                                                              \n",
       "Value Added                                              0.548421   \n",
       "Employment                                               0.003960   \n",
       "Employment hour                                       8962.473079   \n",
       "GHG emissions (GWP100) | Problem oriented appro...  957782.044611   \n",
       "Human toxicity (USEtox) | USEtox2008 | CTUh (Ro...       0.000911   \n",
       "...                                                           ...   \n",
       "Unused Domestic Extraction - Oil and Gas                 0.000000   \n",
       "Unused Domestic Extraction - Non-metalic Minerals        0.000000   \n",
       "Unused Domestic Extraction - Iron Ore                    0.000000   \n",
       "Unused Domestic Extraction - Non-ferous metal ores       0.000000   \n",
       "Land use Crop, Forest, Pasture                           0.336450   \n",
       "\n",
       "                                                            8     \\\n",
       "impact                                                             \n",
       "Value Added                                         3.762497e-03   \n",
       "Employment                                          3.848932e-02   \n",
       "Employment hour                                     9.796496e+04   \n",
       "GHG emissions (GWP100) | Problem oriented appro...  4.970012e+06   \n",
       "Human toxicity (USEtox) | USEtox2008 | CTUh (Ro...  2.602296e-03   \n",
       "...                                                          ...   \n",
       "Unused Domestic Extraction - Oil and Gas            0.000000e+00   \n",
       "Unused Domestic Extraction - Non-metalic Minerals   0.000000e+00   \n",
       "Unused Domestic Extraction - Iron Ore               0.000000e+00   \n",
       "Unused Domestic Extraction - Non-ferous metal ores  0.000000e+00   \n",
       "Land use Crop, Forest, Pasture                      1.905738e+01   \n",
       "\n",
       "                                                             9     ...  \\\n",
       "impact                                                             ...   \n",
       "Value Added                                              0.471794  ...   \n",
       "Employment                                               0.024352  ...   \n",
       "Employment hour                                      59816.871185  ...   \n",
       "GHG emissions (GWP100) | Problem oriented appro...  465137.987386  ...   \n",
       "Human toxicity (USEtox) | USEtox2008 | CTUh (Ro...       0.001573  ...   \n",
       "...                                                           ...  ...   \n",
       "Unused Domestic Extraction - Oil and Gas                 0.000000  ...   \n",
       "Unused Domestic Extraction - Non-metalic Minerals        0.000000  ...   \n",
       "Unused Domestic Extraction - Iron Ore                    0.000000  ...   \n",
       "Unused Domestic Extraction - Non-ferous metal ores       0.000000  ...   \n",
       "Land use Crop, Forest, Pasture                           0.120546  ...   \n",
       "\n",
       "                                                            9790  \\\n",
       "impact                                                             \n",
       "Value Added                                         3.764269e-01   \n",
       "Employment                                          5.706826e-03   \n",
       "Employment hour                                     1.532442e+04   \n",
       "GHG emissions (GWP100) | Problem oriented appro...  2.023481e+07   \n",
       "Human toxicity (USEtox) | USEtox2008 | CTUh (Ro...  8.941858e-02   \n",
       "...                                                          ...   \n",
       "Unused Domestic Extraction - Oil and Gas            0.000000e+00   \n",
       "Unused Domestic Extraction - Non-metalic Minerals   0.000000e+00   \n",
       "Unused Domestic Extraction - Iron Ore               0.000000e+00   \n",
       "Unused Domestic Extraction - Non-ferous metal ores  0.000000e+00   \n",
       "Land use Crop, Forest, Pasture                      0.000000e+00   \n",
       "\n",
       "                                                            9791  \\\n",
       "impact                                                             \n",
       "Value Added                                         3.512124e-01   \n",
       "Employment                                          7.018623e-03   \n",
       "Employment hour                                     1.884651e+04   \n",
       "GHG emissions (GWP100) | Problem oriented appro...  1.390853e+06   \n",
       "Human toxicity (USEtox) | USEtox2008 | CTUh (Ro...  9.517493e-02   \n",
       "...                                                          ...   \n",
       "Unused Domestic Extraction - Oil and Gas            0.000000e+00   \n",
       "Unused Domestic Extraction - Non-metalic Minerals   0.000000e+00   \n",
       "Unused Domestic Extraction - Iron Ore               0.000000e+00   \n",
       "Unused Domestic Extraction - Non-ferous metal ores  0.000000e+00   \n",
       "Land use Crop, Forest, Pasture                      0.000000e+00   \n",
       "\n",
       "                                                             9792  \\\n",
       "impact                                                              \n",
       "Value Added                                              0.389520   \n",
       "Employment                                               0.005744   \n",
       "Employment hour                                      15059.926003   \n",
       "GHG emissions (GWP100) | Problem oriented appro...  172467.064319   \n",
       "Human toxicity (USEtox) | USEtox2008 | CTUh (Ro...       0.141794   \n",
       "...                                                           ...   \n",
       "Unused Domestic Extraction - Oil and Gas                 0.000000   \n",
       "Unused Domestic Extraction - Non-metalic Minerals        0.000000   \n",
       "Unused Domestic Extraction - Iron Ore                    0.000000   \n",
       "Unused Domestic Extraction - Non-ferous metal ores       0.000000   \n",
       "Land use Crop, Forest, Pasture                           0.000000   \n",
       "\n",
       "                                                            9793  \\\n",
       "impact                                                             \n",
       "Value Added                                         3.828206e-01   \n",
       "Employment                                          8.103717e-03   \n",
       "Employment hour                                     2.116965e+04   \n",
       "GHG emissions (GWP100) | Problem oriented appro...  8.445838e+06   \n",
       "Human toxicity (USEtox) | USEtox2008 | CTUh (Ro...  1.236203e-01   \n",
       "...                                                          ...   \n",
       "Unused Domestic Extraction - Oil and Gas            0.000000e+00   \n",
       "Unused Domestic Extraction - Non-metalic Minerals   0.000000e+00   \n",
       "Unused Domestic Extraction - Iron Ore               0.000000e+00   \n",
       "Unused Domestic Extraction - Non-ferous metal ores  0.000000e+00   \n",
       "Land use Crop, Forest, Pasture                      0.000000e+00   \n",
       "\n",
       "                                                            9794  \\\n",
       "impact                                                             \n",
       "Value Added                                         3.538083e-01   \n",
       "Employment                                          7.628601e-03   \n",
       "Employment hour                                     1.957432e+04   \n",
       "GHG emissions (GWP100) | Problem oriented appro...  1.851824e+06   \n",
       "Human toxicity (USEtox) | USEtox2008 | CTUh (Ro...  1.049235e-01   \n",
       "...                                                          ...   \n",
       "Unused Domestic Extraction - Oil and Gas            0.000000e+00   \n",
       "Unused Domestic Extraction - Non-metalic Minerals   0.000000e+00   \n",
       "Unused Domestic Extraction - Iron Ore               0.000000e+00   \n",
       "Unused Domestic Extraction - Non-ferous metal ores  0.000000e+00   \n",
       "Land use Crop, Forest, Pasture                      0.000000e+00   \n",
       "\n",
       "                                                            9795  \\\n",
       "impact                                                             \n",
       "Value Added                                             0.479711   \n",
       "Employment                                              0.007756   \n",
       "Employment hour                                     21628.179545   \n",
       "GHG emissions (GWP100) | Problem oriented appro...  24267.534015   \n",
       "Human toxicity (USEtox) | USEtox2008 | CTUh (Ro...      0.008565   \n",
       "...                                                          ...   \n",
       "Unused Domestic Extraction - Oil and Gas                0.000000   \n",
       "Unused Domestic Extraction - Non-metalic Minerals       0.000000   \n",
       "Unused Domestic Extraction - Iron Ore                   0.000000   \n",
       "Unused Domestic Extraction - Non-ferous metal ores      0.000000   \n",
       "Land use Crop, Forest, Pasture                          0.000000   \n",
       "\n",
       "                                                            9796  \\\n",
       "impact                                                             \n",
       "Value Added                                             0.535663   \n",
       "Employment                                              0.006710   \n",
       "Employment hour                                     18372.663175   \n",
       "GHG emissions (GWP100) | Problem oriented appro...  57159.204690   \n",
       "Human toxicity (USEtox) | USEtox2008 | CTUh (Ro...      0.008359   \n",
       "...                                                          ...   \n",
       "Unused Domestic Extraction - Oil and Gas                0.000000   \n",
       "Unused Domestic Extraction - Non-metalic Minerals       0.000000   \n",
       "Unused Domestic Extraction - Iron Ore                   0.000000   \n",
       "Unused Domestic Extraction - Non-ferous metal ores      0.000000   \n",
       "Land use Crop, Forest, Pasture                          0.000000   \n",
       "\n",
       "                                                             9797  \\\n",
       "impact                                                              \n",
       "Value Added                                              0.550831   \n",
       "Employment                                               0.005708   \n",
       "Employment hour                                      15610.512899   \n",
       "GHG emissions (GWP100) | Problem oriented appro...  147562.200164   \n",
       "Human toxicity (USEtox) | USEtox2008 | CTUh (Ro...       0.021177   \n",
       "...                                                           ...   \n",
       "Unused Domestic Extraction - Oil and Gas                 0.000000   \n",
       "Unused Domestic Extraction - Non-metalic Minerals        0.000000   \n",
       "Unused Domestic Extraction - Iron Ore                    0.000000   \n",
       "Unused Domestic Extraction - Non-ferous metal ores       0.000000   \n",
       "Land use Crop, Forest, Pasture                           0.000000   \n",
       "\n",
       "                                                            9798  9799  \n",
       "impact                                                                  \n",
       "Value Added                                             0.717995   0.0  \n",
       "Employment                                              0.014335   0.0  \n",
       "Employment hour                                     40895.270100   0.0  \n",
       "GHG emissions (GWP100) | Problem oriented appro...  10687.150229   0.0  \n",
       "Human toxicity (USEtox) | USEtox2008 | CTUh (Ro...      0.000168   0.0  \n",
       "...                                                          ...   ...  \n",
       "Unused Domestic Extraction - Oil and Gas                0.000000   0.0  \n",
       "Unused Domestic Extraction - Non-metalic Minerals       0.000000   0.0  \n",
       "Unused Domestic Extraction - Iron Ore                   0.000000   0.0  \n",
       "Unused Domestic Extraction - Non-ferous metal ores      0.000000   0.0  \n",
       "Land use Crop, Forest, Pasture                          0.000000   0.0  \n",
       "\n",
       "[126 rows x 9800 columns]"
      ]
     },
     "execution_count": 9,
     "metadata": {},
     "output_type": "execute_result"
    }
   ],
   "source": [
    "# we make a copy of our product output vector\n",
    "x_ = x\n",
    "# we divide 1 by the values that are non-0\n",
    "#x_ = 1/x_, then replace inf values\n",
    "x_[x_!=0]= 1/x_[x_!=0] #calculates 1/x only for the number that are  not zero \n",
    "print(x_)\n",
    "# We diagolize the resulting vector\n",
    "inv_diag_x = np.diag(x_)\n",
    "print(F.shape)\n",
    "# We are essentially dividing the total extension by the product output\n",
    "# This gives us coefficients of extension by unit of output (e.g., kg/euro)\n",
    "f = F @ inv_diag_x\n",
    "\n",
    "f"
   ]
  },
  {
   "cell_type": "markdown",
   "metadata": {
    "slideshow": {
     "slide_type": "fragment"
    }
   },
   "source": [
    "N.b. inverting a matrix is a more complex operation than just dividing 1 by the values in your matrix. \n",
    "\n",
    "However, in the case of a diagonalized vector with non-zero values along the diagonal 1/diag(x) and inv(diag(x)) output the same results. \n",
    "\n",
    "If you have zero's in x vector to be diagonalized then you will not be able to perform the inversion.    "
   ]
  },
  {
   "cell_type": "markdown",
   "metadata": {
    "slideshow": {
     "slide_type": "slide"
    }
   },
   "source": [
    "## Exercise 4: Total footprint of the Netherlands\n",
    "\n",
    "\n",
    "- *What is the total carbon footprint of the Netherlands?*\n",
    "\n",
    "\n",
    "$\\text{F} = \\text{f} \\mathbf{L}\\text{Y} + \\text{F}_{hh}$"
   ]
  },
  {
   "cell_type": "markdown",
   "metadata": {
    "slideshow": {
     "slide_type": "slide"
    }
   },
   "source": [
    "#### 4.1 We first create a (modified) final demand matrix"
   ]
  },
  {
   "cell_type": "markdown",
   "metadata": {
    "slideshow": {
     "slide_type": "subslide"
    }
   },
   "source": [
    "4.1.1 Lets identify the range of the Y columns concerning the Netherlands"
   ]
  },
  {
   "cell_type": "code",
   "execution_count": 10,
   "metadata": {
    "slideshow": {
     "slide_type": "fragment"
    }
   },
   "outputs": [],
   "source": [
    "# we know NL is the 20th country (python counting starting from 0) in the list of countries \n",
    "# and that we have 7 final demand categories, therefore\n",
    "\n",
    "start_NL = 140\n",
    "end_NL = 147\n"
   ]
  },
  {
   "cell_type": "markdown",
   "metadata": {
    "slideshow": {
     "slide_type": "subslide"
    }
   },
   "source": [
    "4.1.2 We calculate the modified Y"
   ]
  },
  {
   "cell_type": "markdown",
   "metadata": {
    "slideshow": {
     "slide_type": "subslide"
    }
   },
   "source": [
    "You can slice your Y by using pandas iloc method \n",
    "\n",
    "> Y.iloc[:,start_NL:end_NL]"
   ]
  },
  {
   "cell_type": "code",
   "execution_count": 11,
   "metadata": {
    "slideshow": {
     "slide_type": "fragment"
    }
   },
   "outputs": [
    {
     "data": {
      "text/html": [
       "<div>\n",
       "<style scoped>\n",
       "    .dataframe tbody tr th:only-of-type {\n",
       "        vertical-align: middle;\n",
       "    }\n",
       "\n",
       "    .dataframe tbody tr th {\n",
       "        vertical-align: top;\n",
       "    }\n",
       "\n",
       "    .dataframe thead tr th {\n",
       "        text-align: left;\n",
       "    }\n",
       "\n",
       "    .dataframe thead tr:last-of-type th {\n",
       "        text-align: right;\n",
       "    }\n",
       "</style>\n",
       "<table border=\"1\" class=\"dataframe\">\n",
       "  <thead>\n",
       "    <tr>\n",
       "      <th></th>\n",
       "      <th>region</th>\n",
       "      <th colspan=\"7\" halign=\"left\">NL</th>\n",
       "    </tr>\n",
       "    <tr>\n",
       "      <th></th>\n",
       "      <th>category</th>\n",
       "      <th>Final consumption expenditure by households</th>\n",
       "      <th>Final consumption expenditure by non-profit organisations serving households (NPISH)</th>\n",
       "      <th>Final consumption expenditure by government</th>\n",
       "      <th>Gross fixed capital formation</th>\n",
       "      <th>Changes in inventories</th>\n",
       "      <th>Changes in valuables</th>\n",
       "      <th>Exports: Total (fob)</th>\n",
       "    </tr>\n",
       "    <tr>\n",
       "      <th>region</th>\n",
       "      <th>sector</th>\n",
       "      <th></th>\n",
       "      <th></th>\n",
       "      <th></th>\n",
       "      <th></th>\n",
       "      <th></th>\n",
       "      <th></th>\n",
       "      <th></th>\n",
       "    </tr>\n",
       "  </thead>\n",
       "  <tbody>\n",
       "    <tr>\n",
       "      <th rowspan=\"5\" valign=\"top\">AT</th>\n",
       "      <th>Paddy rice</th>\n",
       "      <td>0.000000e+00</td>\n",
       "      <td>0.000000</td>\n",
       "      <td>0.000000</td>\n",
       "      <td>0.0</td>\n",
       "      <td>0.000000e+00</td>\n",
       "      <td>0</td>\n",
       "      <td>0</td>\n",
       "    </tr>\n",
       "    <tr>\n",
       "      <th>Wheat</th>\n",
       "      <td>8.109941e-01</td>\n",
       "      <td>0.000000</td>\n",
       "      <td>0.000000</td>\n",
       "      <td>0.0</td>\n",
       "      <td>6.153646e-03</td>\n",
       "      <td>0</td>\n",
       "      <td>0</td>\n",
       "    </tr>\n",
       "    <tr>\n",
       "      <th>Cereal grains nec</th>\n",
       "      <td>7.538257e-01</td>\n",
       "      <td>0.000000</td>\n",
       "      <td>0.000000</td>\n",
       "      <td>0.0</td>\n",
       "      <td>2.300348e-03</td>\n",
       "      <td>0</td>\n",
       "      <td>0</td>\n",
       "    </tr>\n",
       "    <tr>\n",
       "      <th>Vegetables, fruit, nuts</th>\n",
       "      <td>3.635396e+00</td>\n",
       "      <td>0.000000</td>\n",
       "      <td>0.000000</td>\n",
       "      <td>0.0</td>\n",
       "      <td>0.000000e+00</td>\n",
       "      <td>0</td>\n",
       "      <td>0</td>\n",
       "    </tr>\n",
       "    <tr>\n",
       "      <th>Oil seeds</th>\n",
       "      <td>3.967363e-09</td>\n",
       "      <td>0.000000</td>\n",
       "      <td>0.000000</td>\n",
       "      <td>0.0</td>\n",
       "      <td>2.376648e-10</td>\n",
       "      <td>0</td>\n",
       "      <td>0</td>\n",
       "    </tr>\n",
       "    <tr>\n",
       "      <th>...</th>\n",
       "      <th>...</th>\n",
       "      <td>...</td>\n",
       "      <td>...</td>\n",
       "      <td>...</td>\n",
       "      <td>...</td>\n",
       "      <td>...</td>\n",
       "      <td>...</td>\n",
       "      <td>...</td>\n",
       "    </tr>\n",
       "    <tr>\n",
       "      <th rowspan=\"5\" valign=\"top\">WM</th>\n",
       "      <th>Membership organisation services n.e.c. (91)</th>\n",
       "      <td>1.313962e-03</td>\n",
       "      <td>0.252829</td>\n",
       "      <td>0.001086</td>\n",
       "      <td>0.0</td>\n",
       "      <td>0.000000e+00</td>\n",
       "      <td>0</td>\n",
       "      <td>0</td>\n",
       "    </tr>\n",
       "    <tr>\n",
       "      <th>Recreational, cultural and sporting services (92)</th>\n",
       "      <td>0.000000e+00</td>\n",
       "      <td>0.747362</td>\n",
       "      <td>0.000000</td>\n",
       "      <td>0.0</td>\n",
       "      <td>4.507680e-03</td>\n",
       "      <td>0</td>\n",
       "      <td>0</td>\n",
       "    </tr>\n",
       "    <tr>\n",
       "      <th>Other services (93)</th>\n",
       "      <td>1.449982e+00</td>\n",
       "      <td>0.000000</td>\n",
       "      <td>0.000000</td>\n",
       "      <td>0.0</td>\n",
       "      <td>0.000000e+00</td>\n",
       "      <td>0</td>\n",
       "      <td>0</td>\n",
       "    </tr>\n",
       "    <tr>\n",
       "      <th>Private households with employed persons (95)</th>\n",
       "      <td>0.000000e+00</td>\n",
       "      <td>0.000000</td>\n",
       "      <td>0.000000</td>\n",
       "      <td>0.0</td>\n",
       "      <td>0.000000e+00</td>\n",
       "      <td>0</td>\n",
       "      <td>0</td>\n",
       "    </tr>\n",
       "    <tr>\n",
       "      <th>Extra-territorial organizations and bodies</th>\n",
       "      <td>0.000000e+00</td>\n",
       "      <td>0.000000</td>\n",
       "      <td>0.000000</td>\n",
       "      <td>0.0</td>\n",
       "      <td>0.000000e+00</td>\n",
       "      <td>0</td>\n",
       "      <td>0</td>\n",
       "    </tr>\n",
       "  </tbody>\n",
       "</table>\n",
       "<p>9800 rows × 7 columns</p>\n",
       "</div>"
      ],
      "text/plain": [
       "region                                                                                            NL  \\\n",
       "category                                                 Final consumption expenditure by households   \n",
       "region sector                                                                                          \n",
       "AT     Paddy rice                                                                       0.000000e+00   \n",
       "       Wheat                                                                            8.109941e-01   \n",
       "       Cereal grains nec                                                                7.538257e-01   \n",
       "       Vegetables, fruit, nuts                                                          3.635396e+00   \n",
       "       Oil seeds                                                                        3.967363e-09   \n",
       "...                                                                                              ...   \n",
       "WM     Membership organisation services n.e.c. (91)                                     1.313962e-03   \n",
       "       Recreational, cultural and sporting services (92)                                0.000000e+00   \n",
       "       Other services (93)                                                              1.449982e+00   \n",
       "       Private households with employed persons (95)                                    0.000000e+00   \n",
       "       Extra-territorial organizations and bodies                                       0.000000e+00   \n",
       "\n",
       "region                                                                                                                                         \\\n",
       "category                                                 Final consumption expenditure by non-profit organisations serving households (NPISH)   \n",
       "region sector                                                                                                                                   \n",
       "AT     Paddy rice                                                                                  0.000000                                     \n",
       "       Wheat                                                                                       0.000000                                     \n",
       "       Cereal grains nec                                                                           0.000000                                     \n",
       "       Vegetables, fruit, nuts                                                                     0.000000                                     \n",
       "       Oil seeds                                                                                   0.000000                                     \n",
       "...                                                                                                     ...                                     \n",
       "WM     Membership organisation services n.e.c. (91)                                                0.252829                                     \n",
       "       Recreational, cultural and sporting services (92)                                           0.747362                                     \n",
       "       Other services (93)                                                                         0.000000                                     \n",
       "       Private households with employed persons (95)                                               0.000000                                     \n",
       "       Extra-territorial organizations and bodies                                                  0.000000                                     \n",
       "\n",
       "region                                                                                                \\\n",
       "category                                                 Final consumption expenditure by government   \n",
       "region sector                                                                                          \n",
       "AT     Paddy rice                                                                           0.000000   \n",
       "       Wheat                                                                                0.000000   \n",
       "       Cereal grains nec                                                                    0.000000   \n",
       "       Vegetables, fruit, nuts                                                              0.000000   \n",
       "       Oil seeds                                                                            0.000000   \n",
       "...                                                                                              ...   \n",
       "WM     Membership organisation services n.e.c. (91)                                         0.001086   \n",
       "       Recreational, cultural and sporting services (92)                                    0.000000   \n",
       "       Other services (93)                                                                  0.000000   \n",
       "       Private households with employed persons (95)                                        0.000000   \n",
       "       Extra-territorial organizations and bodies                                           0.000000   \n",
       "\n",
       "region                                                                                  \\\n",
       "category                                                 Gross fixed capital formation   \n",
       "region sector                                                                            \n",
       "AT     Paddy rice                                                                  0.0   \n",
       "       Wheat                                                                       0.0   \n",
       "       Cereal grains nec                                                           0.0   \n",
       "       Vegetables, fruit, nuts                                                     0.0   \n",
       "       Oil seeds                                                                   0.0   \n",
       "...                                                                                ...   \n",
       "WM     Membership organisation services n.e.c. (91)                                0.0   \n",
       "       Recreational, cultural and sporting services (92)                           0.0   \n",
       "       Other services (93)                                                         0.0   \n",
       "       Private households with employed persons (95)                               0.0   \n",
       "       Extra-territorial organizations and bodies                                  0.0   \n",
       "\n",
       "region                                                                           \\\n",
       "category                                                 Changes in inventories   \n",
       "region sector                                                                     \n",
       "AT     Paddy rice                                                  0.000000e+00   \n",
       "       Wheat                                                       6.153646e-03   \n",
       "       Cereal grains nec                                           2.300348e-03   \n",
       "       Vegetables, fruit, nuts                                     0.000000e+00   \n",
       "       Oil seeds                                                   2.376648e-10   \n",
       "...                                                                         ...   \n",
       "WM     Membership organisation services n.e.c. (91)                0.000000e+00   \n",
       "       Recreational, cultural and sporting services (92)           4.507680e-03   \n",
       "       Other services (93)                                         0.000000e+00   \n",
       "       Private households with employed persons (95)               0.000000e+00   \n",
       "       Extra-territorial organizations and bodies                  0.000000e+00   \n",
       "\n",
       "region                                                                         \\\n",
       "category                                                 Changes in valuables   \n",
       "region sector                                                                   \n",
       "AT     Paddy rice                                                           0   \n",
       "       Wheat                                                                0   \n",
       "       Cereal grains nec                                                    0   \n",
       "       Vegetables, fruit, nuts                                              0   \n",
       "       Oil seeds                                                            0   \n",
       "...                                                                       ...   \n",
       "WM     Membership organisation services n.e.c. (91)                         0   \n",
       "       Recreational, cultural and sporting services (92)                    0   \n",
       "       Other services (93)                                                  0   \n",
       "       Private households with employed persons (95)                        0   \n",
       "       Extra-territorial organizations and bodies                           0   \n",
       "\n",
       "region                                                                         \n",
       "category                                                 Exports: Total (fob)  \n",
       "region sector                                                                  \n",
       "AT     Paddy rice                                                           0  \n",
       "       Wheat                                                                0  \n",
       "       Cereal grains nec                                                    0  \n",
       "       Vegetables, fruit, nuts                                              0  \n",
       "       Oil seeds                                                            0  \n",
       "...                                                                       ...  \n",
       "WM     Membership organisation services n.e.c. (91)                         0  \n",
       "       Recreational, cultural and sporting services (92)                    0  \n",
       "       Other services (93)                                                  0  \n",
       "       Private households with employed persons (95)                        0  \n",
       "       Extra-territorial organizations and bodies                           0  \n",
       "\n",
       "[9800 rows x 7 columns]"
      ]
     },
     "execution_count": 11,
     "metadata": {},
     "output_type": "execute_result"
    }
   ],
   "source": [
    "Y.iloc[: , 140:147]"
   ]
  },
  {
   "cell_type": "markdown",
   "metadata": {
    "slideshow": {
     "slide_type": "subslide"
    }
   },
   "source": [
    "Or by using the labels through pandas loc method\n",
    "\n",
    "> Y.loc[:, \"NL\"]"
   ]
  },
  {
   "cell_type": "code",
   "execution_count": 29,
   "metadata": {
    "slideshow": {
     "slide_type": "fragment"
    }
   },
   "outputs": [
    {
     "data": {
      "text/html": [
       "<div>\n",
       "<style scoped>\n",
       "    .dataframe tbody tr th:only-of-type {\n",
       "        vertical-align: middle;\n",
       "    }\n",
       "\n",
       "    .dataframe tbody tr th {\n",
       "        vertical-align: top;\n",
       "    }\n",
       "\n",
       "    .dataframe thead th {\n",
       "        text-align: right;\n",
       "    }\n",
       "</style>\n",
       "<table border=\"1\" class=\"dataframe\">\n",
       "  <thead>\n",
       "    <tr style=\"text-align: right;\">\n",
       "      <th></th>\n",
       "      <th>category</th>\n",
       "      <th>Final consumption expenditure by households</th>\n",
       "      <th>Final consumption expenditure by non-profit organisations serving households (NPISH)</th>\n",
       "      <th>Final consumption expenditure by government</th>\n",
       "      <th>Gross fixed capital formation</th>\n",
       "      <th>Changes in inventories</th>\n",
       "      <th>Changes in valuables</th>\n",
       "      <th>Exports: Total (fob)</th>\n",
       "    </tr>\n",
       "    <tr>\n",
       "      <th>region</th>\n",
       "      <th>sector</th>\n",
       "      <th></th>\n",
       "      <th></th>\n",
       "      <th></th>\n",
       "      <th></th>\n",
       "      <th></th>\n",
       "      <th></th>\n",
       "      <th></th>\n",
       "    </tr>\n",
       "  </thead>\n",
       "  <tbody>\n",
       "    <tr>\n",
       "      <th rowspan=\"5\" valign=\"top\">AT</th>\n",
       "      <th>Paddy rice</th>\n",
       "      <td>0.000000e+00</td>\n",
       "      <td>0.000000</td>\n",
       "      <td>0.000000</td>\n",
       "      <td>0.0</td>\n",
       "      <td>0.000000e+00</td>\n",
       "      <td>0</td>\n",
       "      <td>0</td>\n",
       "    </tr>\n",
       "    <tr>\n",
       "      <th>Wheat</th>\n",
       "      <td>8.109941e-01</td>\n",
       "      <td>0.000000</td>\n",
       "      <td>0.000000</td>\n",
       "      <td>0.0</td>\n",
       "      <td>6.153646e-03</td>\n",
       "      <td>0</td>\n",
       "      <td>0</td>\n",
       "    </tr>\n",
       "    <tr>\n",
       "      <th>Cereal grains nec</th>\n",
       "      <td>7.538257e-01</td>\n",
       "      <td>0.000000</td>\n",
       "      <td>0.000000</td>\n",
       "      <td>0.0</td>\n",
       "      <td>2.300348e-03</td>\n",
       "      <td>0</td>\n",
       "      <td>0</td>\n",
       "    </tr>\n",
       "    <tr>\n",
       "      <th>Vegetables, fruit, nuts</th>\n",
       "      <td>3.635396e+00</td>\n",
       "      <td>0.000000</td>\n",
       "      <td>0.000000</td>\n",
       "      <td>0.0</td>\n",
       "      <td>0.000000e+00</td>\n",
       "      <td>0</td>\n",
       "      <td>0</td>\n",
       "    </tr>\n",
       "    <tr>\n",
       "      <th>Oil seeds</th>\n",
       "      <td>3.967363e-09</td>\n",
       "      <td>0.000000</td>\n",
       "      <td>0.000000</td>\n",
       "      <td>0.0</td>\n",
       "      <td>2.376648e-10</td>\n",
       "      <td>0</td>\n",
       "      <td>0</td>\n",
       "    </tr>\n",
       "    <tr>\n",
       "      <th>...</th>\n",
       "      <th>...</th>\n",
       "      <td>...</td>\n",
       "      <td>...</td>\n",
       "      <td>...</td>\n",
       "      <td>...</td>\n",
       "      <td>...</td>\n",
       "      <td>...</td>\n",
       "      <td>...</td>\n",
       "    </tr>\n",
       "    <tr>\n",
       "      <th rowspan=\"5\" valign=\"top\">WM</th>\n",
       "      <th>Membership organisation services n.e.c. (91)</th>\n",
       "      <td>1.313962e-03</td>\n",
       "      <td>0.252829</td>\n",
       "      <td>0.001086</td>\n",
       "      <td>0.0</td>\n",
       "      <td>0.000000e+00</td>\n",
       "      <td>0</td>\n",
       "      <td>0</td>\n",
       "    </tr>\n",
       "    <tr>\n",
       "      <th>Recreational, cultural and sporting services (92)</th>\n",
       "      <td>0.000000e+00</td>\n",
       "      <td>0.747362</td>\n",
       "      <td>0.000000</td>\n",
       "      <td>0.0</td>\n",
       "      <td>4.507680e-03</td>\n",
       "      <td>0</td>\n",
       "      <td>0</td>\n",
       "    </tr>\n",
       "    <tr>\n",
       "      <th>Other services (93)</th>\n",
       "      <td>1.449982e+00</td>\n",
       "      <td>0.000000</td>\n",
       "      <td>0.000000</td>\n",
       "      <td>0.0</td>\n",
       "      <td>0.000000e+00</td>\n",
       "      <td>0</td>\n",
       "      <td>0</td>\n",
       "    </tr>\n",
       "    <tr>\n",
       "      <th>Private households with employed persons (95)</th>\n",
       "      <td>0.000000e+00</td>\n",
       "      <td>0.000000</td>\n",
       "      <td>0.000000</td>\n",
       "      <td>0.0</td>\n",
       "      <td>0.000000e+00</td>\n",
       "      <td>0</td>\n",
       "      <td>0</td>\n",
       "    </tr>\n",
       "    <tr>\n",
       "      <th>Extra-territorial organizations and bodies</th>\n",
       "      <td>0.000000e+00</td>\n",
       "      <td>0.000000</td>\n",
       "      <td>0.000000</td>\n",
       "      <td>0.0</td>\n",
       "      <td>0.000000e+00</td>\n",
       "      <td>0</td>\n",
       "      <td>0</td>\n",
       "    </tr>\n",
       "  </tbody>\n",
       "</table>\n",
       "<p>9800 rows × 7 columns</p>\n",
       "</div>"
      ],
      "text/plain": [
       "category                                                  Final consumption expenditure by households  \\\n",
       "region sector                                                                                           \n",
       "AT     Paddy rice                                                                        0.000000e+00   \n",
       "       Wheat                                                                             8.109941e-01   \n",
       "       Cereal grains nec                                                                 7.538257e-01   \n",
       "       Vegetables, fruit, nuts                                                           3.635396e+00   \n",
       "       Oil seeds                                                                         3.967363e-09   \n",
       "...                                                                                               ...   \n",
       "WM     Membership organisation services n.e.c. (91)                                      1.313962e-03   \n",
       "       Recreational, cultural and sporting services (92)                                 0.000000e+00   \n",
       "       Other services (93)                                                               1.449982e+00   \n",
       "       Private households with employed persons (95)                                     0.000000e+00   \n",
       "       Extra-territorial organizations and bodies                                        0.000000e+00   \n",
       "\n",
       "category                                                  Final consumption expenditure by non-profit organisations serving households (NPISH)  \\\n",
       "region sector                                                                                                                                    \n",
       "AT     Paddy rice                                                                                  0.000000                                      \n",
       "       Wheat                                                                                       0.000000                                      \n",
       "       Cereal grains nec                                                                           0.000000                                      \n",
       "       Vegetables, fruit, nuts                                                                     0.000000                                      \n",
       "       Oil seeds                                                                                   0.000000                                      \n",
       "...                                                                                                     ...                                      \n",
       "WM     Membership organisation services n.e.c. (91)                                                0.252829                                      \n",
       "       Recreational, cultural and sporting services (92)                                           0.747362                                      \n",
       "       Other services (93)                                                                         0.000000                                      \n",
       "       Private households with employed persons (95)                                               0.000000                                      \n",
       "       Extra-territorial organizations and bodies                                                  0.000000                                      \n",
       "\n",
       "category                                                  Final consumption expenditure by government  \\\n",
       "region sector                                                                                           \n",
       "AT     Paddy rice                                                                            0.000000   \n",
       "       Wheat                                                                                 0.000000   \n",
       "       Cereal grains nec                                                                     0.000000   \n",
       "       Vegetables, fruit, nuts                                                               0.000000   \n",
       "       Oil seeds                                                                             0.000000   \n",
       "...                                                                                               ...   \n",
       "WM     Membership organisation services n.e.c. (91)                                          0.001086   \n",
       "       Recreational, cultural and sporting services (92)                                     0.000000   \n",
       "       Other services (93)                                                                   0.000000   \n",
       "       Private households with employed persons (95)                                         0.000000   \n",
       "       Extra-territorial organizations and bodies                                            0.000000   \n",
       "\n",
       "category                                                  Gross fixed capital formation  \\\n",
       "region sector                                                                             \n",
       "AT     Paddy rice                                                                   0.0   \n",
       "       Wheat                                                                        0.0   \n",
       "       Cereal grains nec                                                            0.0   \n",
       "       Vegetables, fruit, nuts                                                      0.0   \n",
       "       Oil seeds                                                                    0.0   \n",
       "...                                                                                 ...   \n",
       "WM     Membership organisation services n.e.c. (91)                                 0.0   \n",
       "       Recreational, cultural and sporting services (92)                            0.0   \n",
       "       Other services (93)                                                          0.0   \n",
       "       Private households with employed persons (95)                                0.0   \n",
       "       Extra-territorial organizations and bodies                                   0.0   \n",
       "\n",
       "category                                                  Changes in inventories  \\\n",
       "region sector                                                                      \n",
       "AT     Paddy rice                                                   0.000000e+00   \n",
       "       Wheat                                                        6.153646e-03   \n",
       "       Cereal grains nec                                            2.300348e-03   \n",
       "       Vegetables, fruit, nuts                                      0.000000e+00   \n",
       "       Oil seeds                                                    2.376648e-10   \n",
       "...                                                                          ...   \n",
       "WM     Membership organisation services n.e.c. (91)                 0.000000e+00   \n",
       "       Recreational, cultural and sporting services (92)            4.507680e-03   \n",
       "       Other services (93)                                          0.000000e+00   \n",
       "       Private households with employed persons (95)                0.000000e+00   \n",
       "       Extra-territorial organizations and bodies                   0.000000e+00   \n",
       "\n",
       "category                                                  Changes in valuables  \\\n",
       "region sector                                                                    \n",
       "AT     Paddy rice                                                            0   \n",
       "       Wheat                                                                 0   \n",
       "       Cereal grains nec                                                     0   \n",
       "       Vegetables, fruit, nuts                                               0   \n",
       "       Oil seeds                                                             0   \n",
       "...                                                                        ...   \n",
       "WM     Membership organisation services n.e.c. (91)                          0   \n",
       "       Recreational, cultural and sporting services (92)                     0   \n",
       "       Other services (93)                                                   0   \n",
       "       Private households with employed persons (95)                         0   \n",
       "       Extra-territorial organizations and bodies                            0   \n",
       "\n",
       "category                                                  Exports: Total (fob)  \n",
       "region sector                                                                   \n",
       "AT     Paddy rice                                                            0  \n",
       "       Wheat                                                                 0  \n",
       "       Cereal grains nec                                                     0  \n",
       "       Vegetables, fruit, nuts                                               0  \n",
       "       Oil seeds                                                             0  \n",
       "...                                                                        ...  \n",
       "WM     Membership organisation services n.e.c. (91)                          0  \n",
       "       Recreational, cultural and sporting services (92)                     0  \n",
       "       Other services (93)                                                   0  \n",
       "       Private households with employed persons (95)                         0  \n",
       "       Extra-territorial organizations and bodies                            0  \n",
       "\n",
       "[9800 rows x 7 columns]"
      ]
     },
     "execution_count": 29,
     "metadata": {},
     "output_type": "execute_result"
    }
   ],
   "source": [
    "Y_mod = Y.loc[:, \"NL\"]\n",
    "Y_mod"
   ]
  },
  {
   "cell_type": "markdown",
   "metadata": {
    "slideshow": {
     "slide_type": "subslide"
    }
   },
   "source": [
    "#### 5.1 First we isolate the extension in which we are interested"
   ]
  },
  {
   "cell_type": "markdown",
   "metadata": {
    "slideshow": {
     "slide_type": "fragment"
    }
   },
   "source": [
    "For this exercise we only focus on one component of the carbon fooprint\n",
    "\n",
    "*\"CO2 - combustion - air\"* in kg"
   ]
  },
  {
   "cell_type": "code",
   "execution_count": 13,
   "metadata": {
    "slideshow": {
     "slide_type": "fragment"
    }
   },
   "outputs": [
    {
     "data": {
      "text/plain": [
       "0       0.000000e+00\n",
       "1       1.690932e+06\n",
       "2       9.351194e+05\n",
       "3       1.815896e+05\n",
       "4       1.301896e+06\n",
       "            ...     \n",
       "9795    2.426753e+04\n",
       "9796    5.715920e+04\n",
       "9797    1.475622e+05\n",
       "9798    1.068715e+04\n",
       "9799    0.000000e+00\n",
       "Name: GHG emissions (GWP100) | Problem oriented approach: baseline (CML, 2001) | GWP100 (IPCC, 2007), Length: 9800, dtype: float64"
      ]
     },
     "execution_count": 13,
     "metadata": {},
     "output_type": "execute_result"
    }
   ],
   "source": [
    "# the intensity vector in which we are interested\n",
    "indicator = \"GHG emissions (GWP100) | Problem oriented approach: baseline (CML, 2001) | GWP100 (IPCC, 2007)\"\n",
    "f_ = f.loc[indicator]\n",
    "f_"
   ]
  },
  {
   "cell_type": "code",
   "execution_count": 16,
   "metadata": {
    "slideshow": {
     "slide_type": "fragment"
    }
   },
   "outputs": [],
   "source": [
    "# the final demand CO2 emissions\n",
    "\n",
    "F_hh_ = F_hh.loc[indicator]"
   ]
  },
  {
   "cell_type": "markdown",
   "metadata": {
    "slideshow": {
     "slide_type": "subslide"
    }
   },
   "source": [
    "#### 5.2 We calculate the total footprint of the region"
   ]
  },
  {
   "cell_type": "code",
   "execution_count": 31,
   "metadata": {
    "slideshow": {
     "slide_type": "fragment"
    }
   },
   "outputs": [
    {
     "data": {
      "text/plain": [
       "68600"
      ]
     },
     "execution_count": 31,
     "metadata": {},
     "output_type": "execute_result"
    }
   ],
   "source": [
    "# Calculate the total global footprint\n",
    "# I cannot add + F_hh_\n",
    "F_total = np.diag(f_) @ L @ Y_mod \n",
    "F_total.size"
   ]
  },
  {
   "cell_type": "markdown",
   "metadata": {
    "slideshow": {
     "slide_type": "slide"
    }
   },
   "source": [
    "## Exercise 5: Which regions emit the most CO2 as a result of final consumption in the Netherlands?"
   ]
  },
  {
   "cell_type": "markdown",
   "metadata": {
    "slideshow": {
     "slide_type": "subslide"
    }
   },
   "source": [
    "#### 5.3 Let's analyse in which regions CO2 is emitted the most as a result of NL consumption"
   ]
  },
  {
   "cell_type": "code",
   "execution_count": null,
   "metadata": {
    "slideshow": {
     "slide_type": "fragment"
    }
   },
   "outputs": [],
   "source": [
    "# In this case we diagonalize the emission intensity vector \n",
    "F_breakdown = None\n",
    "F_breakdown"
   ]
  },
  {
   "cell_type": "code",
   "execution_count": null,
   "metadata": {
    "slideshow": {
     "slide_type": "subslide"
    }
   },
   "outputs": [],
   "source": [
    "# we apply the sectoral labels\n",
    "F_breakdown = None\n",
    "\n",
    "# we print the results\n",
    "F_breakdown"
   ]
  },
  {
   "cell_type": "markdown",
   "metadata": {
    "slideshow": {
     "slide_type": "subslide"
    }
   },
   "source": [
    "We then sum the results by using the groupby and sum methods in combination in the following manner"
   ]
  },
  {
   "cell_type": "code",
   "execution_count": null,
   "metadata": {
    "slideshow": {
     "slide_type": "fragment"
    }
   },
   "outputs": [],
   "source": [
    "# we sum the results by regions\n",
    "F_regional_breakdown = None\n",
    "\n",
    "# We sort the results from largest to smallest\n",
    "F_rb_sorted = None\n",
    "\n",
    "F_rb_sorted"
   ]
  },
  {
   "cell_type": "markdown",
   "metadata": {
    "slideshow": {
     "slide_type": "slide"
    }
   },
   "source": [
    "## Exercise 6: Let's plot the results for the top 15 emitters \n",
    "\n",
    "Using pandas you can make simple visualizations directly from dataframes and series\n",
    "\n",
    "see more here: https://pandas.pydata.org/pandas-docs/stable/reference/api/pandas.DataFrame.plot.html"
   ]
  },
  {
   "cell_type": "markdown",
   "metadata": {
    "slideshow": {
     "slide_type": "subslide"
    }
   },
   "source": [
    "#### 6.1 Totals of the top 15 emitters"
   ]
  },
  {
   "cell_type": "code",
   "execution_count": null,
   "metadata": {
    "slideshow": {
     "slide_type": "fragment"
    }
   },
   "outputs": [],
   "source": [
    "# plot your results with plot.bar()"
   ]
  },
  {
   "cell_type": "markdown",
   "metadata": {
    "slideshow": {
     "slide_type": "subslide"
    }
   },
   "source": [
    "#### 6.2 Let's normalize results by the total footprint of NL consumption"
   ]
  },
  {
   "cell_type": "code",
   "execution_count": null,
   "metadata": {
    "slideshow": {
     "slide_type": "fragment"
    }
   },
   "outputs": [],
   "source": [
    "# Normalize your results\n",
    "F_rb_sorted_norm = None\n",
    "\n",
    "# Plot top 15 regions\n"
   ]
  }
 ],
 "metadata": {
  "celltoolbar": "Slideshow",
  "kernelspec": {
   "display_name": "Python 3 (ipykernel)",
   "language": "python",
   "name": "python3"
  },
  "language_info": {
   "codemirror_mode": {
    "name": "ipython",
    "version": 3
   },
   "file_extension": ".py",
   "mimetype": "text/x-python",
   "name": "python",
   "nbconvert_exporter": "python",
   "pygments_lexer": "ipython3",
   "version": "3.9.16"
  },
  "vscode": {
   "interpreter": {
    "hash": "a0de1fb450ee5e26d734f0aa5b4c4b29e20575809e5e66472467df7627fd957d"
   }
  }
 },
 "nbformat": 4,
 "nbformat_minor": 2
}
