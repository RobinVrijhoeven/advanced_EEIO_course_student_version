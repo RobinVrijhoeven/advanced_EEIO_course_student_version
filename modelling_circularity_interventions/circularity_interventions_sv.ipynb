{
 "cells": [
  {
   "attachments": {},
   "cell_type": "markdown",
   "metadata": {
    "slideshow": {
     "slide_type": "slide"
    }
   },
   "source": [
    "# Practical 9: Circularity Intervetions\n",
    "\n",
    "Objectives\n",
    "- Learn how to create scenarios in IO \n",
    "- Assess the impacts of circularity interventions\n",
    "- Conduct a novel analysis \n",
    "\n",
    "Download the the MR_HIOT data from: https://zenodo.org/record/7244919 (n.b. ignore files that start with MR_HSUT or MR_HUSE )"
   ]
  },
  {
   "cell_type": "code",
   "execution_count": null,
   "metadata": {
    "slideshow": {
     "slide_type": "slide"
    }
   },
   "outputs": [],
   "source": [
    "# Import packages\n",
    "import pandas as pd\n",
    "import numpy as np"
   ]
  },
  {
   "attachments": {},
   "cell_type": "markdown",
   "metadata": {
    "slideshow": {
     "slide_type": "slide"
    }
   },
   "source": [
    "### 1 Import the data"
   ]
  },
  {
   "cell_type": "markdown",
   "metadata": {
    "slideshow": {
     "slide_type": "slide"
    }
   },
   "source": [
    "Import the following data\n",
    "\n",
    "- MR_HIOT_2011_v3_3_18_xx_principal_production.csv indicates the principal production of the productive activities;\n",
    "- MR_HIOT_2011_v3_3_18_xx_by_product_technology.csv indicates the matrix of the uses where by-products are included with a negative sign;\n",
    "- MR_HIOT_2011_v3_3_18_xx_FD.csv includes the consumption of final consumers\n",
    "- MR_HIOT_2011_v3_3_18_xx_stock_to_waste.csv includes the demand of waste treatment services to treat the stock reduction\n",
    "- MR_HIOT_2011_v3_3_18_xx_extensions.csv includes the extensions as reported in the HSUTs. Very minor changes are applied\n",
    "\n",
    "\n",
    "In this practical you will only use a few of the imported datasets, this exercise is to help you understand the variety of the data. If you so wish, you may also perform additional analysis with the imported datasets "
   ]
  },
  {
   "cell_type": "markdown",
   "metadata": {
    "slideshow": {
     "slide_type": "subslide"
    }
   },
   "source": [
    "1.1 Inter-industry matrix"
   ]
  },
  {
   "cell_type": "code",
   "execution_count": null,
   "metadata": {
    "slideshow": {
     "slide_type": "fragment"
    }
   },
   "outputs": [],
   "source": [
    "Z = pd.read_csv(\"data/MR_HIOT_2011_v3_3_18_by_product_technology.csv\", index_col=[0,1,2,3,4], header=[0,1,2,3])"
   ]
  },
  {
   "cell_type": "markdown",
   "metadata": {
    "slideshow": {
     "slide_type": "subslide"
    }
   },
   "source": [
    "1.2 Final demand"
   ]
  },
  {
   "cell_type": "code",
   "execution_count": null,
   "metadata": {
    "slideshow": {
     "slide_type": "fragment"
    }
   },
   "outputs": [],
   "source": [
    "Y  = pd.read_csv(\"data/MR_HIOT_2011_v3_3_18_FD.csv\", index_col=[0,1,2,3,4], header=[0,1,2,3])"
   ]
  },
  {
   "cell_type": "markdown",
   "metadata": {
    "slideshow": {
     "slide_type": "subslide"
    }
   },
   "source": [
    "1.3 Extensions"
   ]
  },
  {
   "cell_type": "code",
   "execution_count": null,
   "metadata": {
    "slideshow": {
     "slide_type": "fragment"
    }
   },
   "outputs": [],
   "source": [
    "extensions = pd.ExcelFile(\"data/MR_HIOT_2011_v3_3_18_extensions.xlsx\")"
   ]
  },
  {
   "cell_type": "code",
   "execution_count": null,
   "metadata": {
    "slideshow": {
     "slide_type": "subslide"
    }
   },
   "outputs": [],
   "source": [
    "extensions.sheet_names"
   ]
  },
  {
   "cell_type": "markdown",
   "metadata": {
    "slideshow": {
     "slide_type": "subslide"
    }
   },
   "source": [
    "1.4 Resource extraction"
   ]
  },
  {
   "cell_type": "code",
   "execution_count": null,
   "metadata": {
    "slideshow": {
     "slide_type": "fragment"
    }
   },
   "outputs": [],
   "source": [
    "# Resource extraction matrix of Z\n",
    "RE = extensions.parse(sheet_name=\"resource_act\", index_col=[0,1], header=[0,1,2,3]) \n",
    "# Resource extraction matrix of Y\n",
    "RE_FD = extensions.parse(sheet_name=\"resource_FD\", index_col=[0,1], header=[0,1,2,3]) "
   ]
  },
  {
   "cell_type": "markdown",
   "metadata": {
    "slideshow": {
     "slide_type": "subslide"
    }
   },
   "source": [
    "1.5 Waste supply and use accounts"
   ]
  },
  {
   "cell_type": "code",
   "execution_count": null,
   "metadata": {
    "slideshow": {
     "slide_type": "fragment"
    }
   },
   "outputs": [],
   "source": [
    "# Waste supply matrix of Z\n",
    "WS = extensions.parse(sheet_name=\"waste_sup_act\", index_col=[0,1], header=[0,1,2,3]) \n",
    "# Waste supply matrix of Y\n",
    "WS_FD = extensions.parse(sheet_name=\"waste_sup_FD\", index_col=[0,1], header=[0,1,2,3]) \n",
    "\n",
    "# Waste use matrix of Z\n",
    "WU = extensions.parse(sheet_name=\"waste_use_act\", index_col=[0,1], header=[0,1,2,3]) \n",
    "# Waste use matrix of Y => This is all 0's so it can also be ignored\n",
    "WU_FD = extensions.parse(sheet_name=\"waste_use_FD\", index_col=[0,1], header=[0,1,2,3]) "
   ]
  },
  {
   "cell_type": "markdown",
   "metadata": {
    "slideshow": {
     "slide_type": "subslide"
    }
   },
   "source": [
    "1.6 Stock additions"
   ]
  },
  {
   "cell_type": "code",
   "execution_count": null,
   "metadata": {
    "slideshow": {
     "slide_type": "fragment"
    }
   },
   "outputs": [],
   "source": [
    "# Stock addition matrix of Z\n",
    "SA = extensions.parse(sheet_name=\"stock_addition_act\", index_col=[0,1], header=[0,1,2,3]) \n",
    "# Stock addition matrix of Y\n",
    "SA_FD = extensions.parse(sheet_name=\"stock_addition_fd\", index_col=[0,1], header=[0,1,2,3]) "
   ]
  },
  {
   "cell_type": "markdown",
   "metadata": {
    "slideshow": {
     "slide_type": "subslide"
    }
   },
   "source": [
    "1.7 Stock depletion matrix"
   ]
  },
  {
   "cell_type": "code",
   "execution_count": null,
   "metadata": {
    "slideshow": {
     "slide_type": "fragment"
    }
   },
   "outputs": [],
   "source": [
    "# Stock depletion matrix\n",
    "SD = extensions.parse(sheet_name=\"waste_from_stocks\", index_col=[0,1], header=[0,1,2,3])"
   ]
  },
  {
   "cell_type": "markdown",
   "metadata": {
    "slideshow": {
     "slide_type": "subslide"
    }
   },
   "source": [
    "1.8 Emissions"
   ]
  },
  {
   "cell_type": "code",
   "execution_count": null,
   "metadata": {
    "slideshow": {
     "slide_type": "fragment"
    }
   },
   "outputs": [],
   "source": [
    "EM = extensions.parse(sheet_name=\"Emiss_act\", index_col=[0,1,2], header=[0,1,2,3])\n",
    "EM_FD = extensions.parse(sheet_name=\"Emiss_FD\", index_col=[0,1,2], header=[0,1,2,3])"
   ]
  },
  {
   "attachments": {},
   "cell_type": "markdown",
   "metadata": {},
   "source": [
    "## Exercise 2: Calculate the MR EEIO variables"
   ]
  },
  {
   "attachments": {},
   "cell_type": "markdown",
   "metadata": {},
   "source": [
    "### 2.1  Product total output and its diagonal inverse"
   ]
  },
  {
   "cell_type": "code",
   "execution_count": null,
   "metadata": {},
   "outputs": [],
   "source": [
    "x = Z.sum(axis=1) + Y.sum(axis=1)\n",
    "\n",
    "# we make a copy of our product output vector\n",
    "x_ = x.copy() \n",
    "\n",
    "# we divide 1 by the values that are non-0\n",
    "x_[x_!=0] = 1/x_[x_!=0]\n",
    "\n",
    "# We diagolize the resulting vector\n",
    "inv_diag_x = np.diag(x_)"
   ]
  },
  {
   "attachments": {},
   "cell_type": "markdown",
   "metadata": {},
   "source": [
    "### 2.2 Technical coefficient matrix and the Leontief inverse"
   ]
  },
  {
   "cell_type": "code",
   "execution_count": null,
   "metadata": {},
   "outputs": [],
   "source": [
    "A = Z @ inv_diag_x\n",
    "\n",
    "I = np.eye(A.shape[0])\n",
    "\n",
    "L = np.linalg.inv(I-A)"
   ]
  },
  {
   "cell_type": "code",
   "execution_count": null,
   "metadata": {},
   "outputs": [],
   "source": [
    "pd.concat([pd.Series(L@Y.sum(axis=1), index=x.index), x],axis=1, ignore_index=True).groupby(level=1).sum()"
   ]
  },
  {
   "attachments": {},
   "cell_type": "markdown",
   "metadata": {},
   "source": [
    "### 2.3 Calculate extension intensity"
   ]
  },
  {
   "attachments": {},
   "cell_type": "markdown",
   "metadata": {},
   "source": [
    "#### 2.3.1 First we sum the following items along their rows\n",
    "- $W_{sup}$ is the global waste supply\n",
    "- $W_{rec}$ is the global waste use/recovery \n",
    "- $S_{dep}$ is the global stock depletation "
   ]
  },
  {
   "cell_type": "code",
   "execution_count": null,
   "metadata": {},
   "outputs": [],
   "source": [
    "WS_ind_sum = WS.sum(axis=0)\n",
    "WS_FD_cat_sum = WS_FD.sum(axis=0)\n",
    "\n",
    "WU_ind_sum = WU.sum(axis=0)\n",
    "WU_FD_cat_sum = WU_FD.sum(axis=0)\n",
    "\n",
    "SD_col_sum = SD.sum(axis=0)"
   ]
  },
  {
   "attachments": {},
   "cell_type": "markdown",
   "metadata": {},
   "source": [
    "### 2.3.2 Calculate the intensity of the summed variables"
   ]
  },
  {
   "cell_type": "code",
   "execution_count": null,
   "metadata": {},
   "outputs": [],
   "source": [
    "WS_f = WS_ind_sum @ inv_diag_x\n",
    "WU_f = WU_ind_sum @ inv_diag_x"
   ]
  },
  {
   "attachments": {},
   "cell_type": "markdown",
   "metadata": {},
   "source": [
    "### 2.3.3 Calculate the intensity of total resource extraction\n",
    "N.b. disregard the last 4 rows i.e., oxigen and water items"
   ]
  },
  {
   "cell_type": "code",
   "execution_count": null,
   "metadata": {},
   "outputs": [],
   "source": [
    "RE_f = RE.iloc[:-4].sum(axis=0) @ inv_diag_x"
   ]
  },
  {
   "attachments": {},
   "cell_type": "markdown",
   "metadata": {},
   "source": [
    "## Exercise 3: Create a scenario (i.e., counterfactual IO system) based on your chosen circularity intervention "
   ]
  },
  {
   "cell_type": "code",
   "execution_count": null,
   "metadata": {},
   "outputs": [],
   "source": [
    "# Insert here a copy of the matrix you want to modify (e.g., Y_ct = Y.copy())\n",
    "\n",
    "# Mock change \n",
    "\n",
    "# Primary change\n",
    "# Technical change coefficient (e.g., )\n",
    "kt_pc = None\n",
    "# Market penetration\n",
    "kp_pc = None\n",
    "# implement primary change\n",
    "\n",
    "\n",
    "# Secondary change\n",
    "# Technical change coefficient\n",
    "kt_pc = None\n",
    "# Market penetration\n",
    "kp_pc = None\n",
    "# implement secondary change\n",
    "\n"
   ]
  },
  {
   "cell_type": "code",
   "execution_count": 1,
   "metadata": {},
   "outputs": [],
   "source": [
    "# Calculate the counterfactual total product output\n",
    "x_ct = None"
   ]
  },
  {
   "attachments": {},
   "cell_type": "markdown",
   "metadata": {
    "slideshow": {
     "slide_type": "slide"
    }
   },
   "source": [
    "## Exercise 4: Calculate the global circularity gap and resource extraction of the counterfactual and compare it to the baseline\n",
    "\n",
    "Circularity gap in absolute terms\n",
    "\n",
    "$ CG = W_{sup} + S_{dep} - W_{rec}$\n",
    "\n",
    "Where:\n",
    "- $CG$ is the circularity gap\n",
    "- $W_{sup}$ is the global waste supply\n",
    "- $S_{dep}$ is the global stock depletation \n",
    "- $W_{rec}$ is the global waste use/recovery \n",
    "\n",
    "\n",
    "Circularity gap index\n",
    "\n",
    "$ CGI = \\frac{CG}{W_{sup} + S_{dep}} \\times 100$\n",
    "\n",
    "\n",
    "\n",
    "Methods from:\n",
    " \n",
    "Aguilar-Hernandez, G. A., Sigüenza-Sanchez, C. P., Donati, F., Merciai, S., Schmidt, J., Rodrigues, J. F., & Tukker, A. (2019). The circularity gap of nations: A multiregional analysis of waste generation, recovery, and stock depletion in 2011. Resources, Conservation and Recycling, 151, 104452."
   ]
  },
  {
   "cell_type": "markdown",
   "metadata": {
    "slideshow": {
     "slide_type": "subslide"
    }
   },
   "source": [
    "### 2.1: Calculate the global total waste generation"
   ]
  },
  {
   "cell_type": "code",
   "execution_count": null,
   "metadata": {
    "slideshow": {
     "slide_type": "fragment"
    }
   },
   "outputs": [],
   "source": [
    "# Baseline WS\n",
    "WS_tot = WS.sum().sum() + WS_FD.sum().sum()\n",
    "\n",
    "# Counterfactual\n",
    "# intensity vector of WS\n",
    "f_WS = WS.sum() @ inv_diag_x\n",
    "# counterfactual WS\n",
    "WS_ct_tot = f_WS @ x_ct + WS_FD.sum().sum()\n",
    "\n",
    "WS_tot, WS_ct_tot"
   ]
  },
  {
   "cell_type": "markdown",
   "metadata": {
    "slideshow": {
     "slide_type": "subslide"
    }
   },
   "source": [
    "### 2.2: Calculate global total waste use (i.e., recovery)"
   ]
  },
  {
   "cell_type": "code",
   "execution_count": null,
   "metadata": {
    "slideshow": {
     "slide_type": "fragment"
    }
   },
   "outputs": [],
   "source": [
    "# Baseline WU\n",
    "WU_tot = WU.sum().sum() + WU_FD.sum().sum()\n",
    "\n",
    "# Counterfactual\n",
    "# intensity vector of WU\n",
    "f_WU = WU.sum() @ inv_diag_x\n",
    "# counterfactual WU\n",
    "WU_ct_tot = f_WU @ x_ct + WU_FD.sum().sum()\n",
    "\n",
    "WU_tot, WU_ct_tot"
   ]
  },
  {
   "cell_type": "markdown",
   "metadata": {
    "slideshow": {
     "slide_type": "subslide"
    }
   },
   "source": [
    "### 2.3: Calculate global total stock degradation"
   ]
  },
  {
   "cell_type": "code",
   "execution_count": null,
   "metadata": {
    "slideshow": {
     "slide_type": "fragment"
    }
   },
   "outputs": [],
   "source": [
    "SD_tot = SD.sum().sum()\n",
    "SD_tot"
   ]
  },
  {
   "cell_type": "markdown",
   "metadata": {
    "slideshow": {
     "slide_type": "subslide"
    }
   },
   "source": [
    "### 2.4: Circularity gap calculations\n"
   ]
  },
  {
   "cell_type": "code",
   "execution_count": null,
   "metadata": {
    "slideshow": {
     "slide_type": "fragment"
    }
   },
   "outputs": [],
   "source": [
    "# CIRCULARITY GAP CALCULATION\n",
    "circularity_gap = WS_tot + SD_tot - WU_tot\n",
    "circularity_gap_ct = WS_ct_tot + SD_tot - WU_ct_tot\n",
    "\n",
    "print(f\"Global Circularity Gap: {round(circularity_gap/(WS_tot + SD_tot)*100, 1)} %\")\n",
    "print(f\"Global Circularity Gap counterfactual: {round(circularity_gap_ct/(WS_ct_tot + SD_tot)*100, 1)} %\")"
   ]
  },
  {
   "attachments": {},
   "cell_type": "markdown",
   "metadata": {},
   "source": [
    "## Exercise 5: Let's compare now the total resource use"
   ]
  },
  {
   "cell_type": "code",
   "execution_count": null,
   "metadata": {},
   "outputs": [],
   "source": [
    "# Baseline\n",
    "RE_base = RE.iloc[:-3].sum().sum() + RE_FD.iloc[:-3].sum().sum()\n",
    "\n",
    "# Counterfactual\n",
    "# intensity vector of RE\n",
    "f_RE = RE.iloc[:-3].sum() @ inv_diag_x\n",
    "# counterfactual WU\n",
    "RE_ct_tot = f_RE @ x_ct + RE_FD.iloc[:-3].sum().sum()\n",
    "\n",
    "f\"Change in resource use: {round((RE_ct_tot-RE_base)/RE_base*100,1)} %\"\n"
   ]
  },
  {
   "attachments": {},
   "cell_type": "markdown",
   "metadata": {},
   "source": [
    "## Exercise 6: Reflect on your scenario, what does an improvement in circularity index tells us about sustainability? "
   ]
  }
 ],
 "metadata": {
  "celltoolbar": "Slideshow",
  "kernelspec": {
   "display_name": "Python 3 (ipykernel)",
   "language": "python",
   "name": "python3"
  },
  "language_info": {
   "codemirror_mode": {
    "name": "ipython",
    "version": 3
   },
   "file_extension": ".py",
   "mimetype": "text/x-python",
   "name": "python",
   "nbconvert_exporter": "python",
   "pygments_lexer": "ipython3",
   "version": "3.9.16"
  }
 },
 "nbformat": 4,
 "nbformat_minor": 2
}
