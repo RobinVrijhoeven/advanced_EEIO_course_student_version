{
 "cells": [
  {
   "cell_type": "markdown",
   "metadata": {},
   "source": [
    "# Practical 2: Supply and use tables\n",
    "\n",
    "## Learning objectives\n",
    "- Calculate product outputs in different valuations\n",
    "- Understand the structure of supply and use tables in practice\n",
    "- Distinguish valuations and types of productions"
   ]
  },
  {
   "cell_type": "code",
<<<<<<< HEAD
<<<<<<< HEAD
   "execution_count": 22,
=======
   "execution_count": 2,
>>>>>>> e859a672af8175038d5955b089a06ae2f6db47d6
=======
   "execution_count": 2,
>>>>>>> 125400a86d1b8868928350dd46b15d1f5b52dfbe
   "metadata": {},
   "outputs": [],
   "source": [
    "# import modules\n",
    "import pandas as pd\n",
    "\n",
    "# Import data\n",
    "supply_ = pd.read_excel(\"data/modified_supply_basic_price_AT_OECD_2015.xlsx\", engine=\"openpyxl\", skipfooter=3)"
   ]
  },
  {
   "cell_type": "code",
<<<<<<< HEAD
<<<<<<< HEAD
   "execution_count": 53,
=======
   "execution_count": 3,
>>>>>>> e859a672af8175038d5955b089a06ae2f6db47d6
=======
   "execution_count": 3,
>>>>>>> 125400a86d1b8868928350dd46b15d1f5b52dfbe
   "metadata": {},
   "outputs": [
    {
     "name": "stdout",
     "output_type": "stream",
     "text": [
      "Index(['Crop and animal production, hunting and related service activities',\n",
      "       'Forestry and logging', 'Fishing and aquaculture',\n",
      "       'Mining and quarrying',\n",
      "       'Manufacture of food products, beverages and tobacco products',\n",
      "       'Manufacture of textiles, wearing apparel, leather and related products',\n",
      "       'Manufacture of wood and of products of wood and cork,etc.',\n",
      "       'Manufacture of paper and paper products',\n",
      "       'Printing and reproduction of recorded media',\n",
      "       'Manufacture of coke and refined petroleum products',\n",
      "       'Manufacture of chemicals and chemical products',\n",
      "       'Manufacture of basic pharmaceutical products and preparations',\n",
      "       'Manufacture of rubber and plastics products',\n",
      "       'Manufacture of other non-metallic mineral products',\n",
      "       'Manufacture of basic metals',\n",
      "       'Manufacture of fabricated metal products, except machinery & equipment',\n",
      "       'Manufacture of computer, electronic and optical products',\n",
      "       'Manufacture of electrical equipment',\n",
      "       'Manufacture of machinery and equipment n.e.c.',\n",
      "       'Manufacture of motor vehicles, trailers and semi-trailers',\n",
      "       'Manufacture of other transport equipment',\n",
      "       'Manufacture of furniture, other manufacturing',\n",
      "       'Repair and installation of machinery and equipment',\n",
      "       'Electricity, gas, steam and air conditioning supply',\n",
      "       'Water collection, treatment and supply',\n",
      "       'Sewerage, waste collection and management services', 'Construction',\n",
      "       'Wholesale and retail trade and repair of motor vehicles and motorcycles',\n",
      "       'Wholesale trade, except of motor vehicles and motorcycles',\n",
      "       'Retail trade, except of motor vehicles and motorcycles',\n",
      "       'Land transport and transport via pipelines', 'Water transport',\n",
      "       'Air transport',\n",
      "       'Warehousing and support activities for transportation',\n",
      "       'Postal and courier activities',\n",
      "       'Accommodation and food service activities', 'Publishing activities',\n",
      "       'Audiovisual and broadcasting activities', 'Telecommunications',\n",
      "       'IT and other information services',\n",
      "       'Financial service activities, except insurance and pension funding',\n",
      "       'Insurance, reinsurance and pension funding, except compulsory S.S.',\n",
      "       'Activities auxiliary to financial service and insurance activities',\n",
      "       'Imputed rents of owner-occupied dwellings',\n",
      "       'Real estate activities excluding imputed rents',\n",
      "       'Legal, accounting, head offices, management consultancy activities',\n",
      "       'Architectural and engineering activ., technical testing and analysis',\n",
      "       'Scientific research and development',\n",
      "       'Advertising and market research',\n",
      "       'Other professional, scientific and tech. activities, veterinary activ.',\n",
      "       'Rental and leasing activities', 'Employment activities',\n",
      "       'Travel agency, tour operator, reservation service & related activities',\n",
      "       'Security, services to buildings and other business support activities',\n",
      "       'Public administration and defence, compulsory social security',\n",
      "       'Education', 'Human health activities',\n",
      "       'Residential care and social work activities',\n",
      "       'Arts, cultural activities, gambling and betting activities',\n",
      "       'Sports activities and amusement and recreation activities',\n",
      "       'Activities of membership organizations',\n",
      "       'Repair of computers and personal and household goods',\n",
      "       'Other personal service activities',\n",
      "       'Act. of HH as employers, undif. G&S-producing activities of HH for own',\n",
      "       'Activities of extraterritorial organizations and bodies',\n",
      "       'Imports, cif', 'Direct purchases abroad by residents',\n",
      "       'cif/fob adjustment on imports', 'Trade and transport margins',\n",
      "       'Taxes less subsidies on products'],\n",
      "      dtype='object')\n"
     ]
    }
   ],
   "source": [
    "# organize you row and column labels\n",
    "supply_col_lb = supply_.iloc[9,7:].to_list()\n",
    "supply_row_lb = supply_.iloc[11:, 2].to_list()\n",
    "\n",
    "# isolate array with only values\n",
    "supply = supply_.iloc[11:,7:]\n",
    "\n",
    "# assign clean labels to columns and row\n",
    "supply.columns = supply_col_lb\n",
<<<<<<< HEAD
<<<<<<< HEAD
    "supply.index = supply_row_lb\n",
    "use.columns = use_col_lb\n",
    "use.index = use_row_lb"
=======
    "supply.index = supply_row_lb"
>>>>>>> e859a672af8175038d5955b089a06ae2f6db47d6
=======
    "supply.index = supply_row_lb"
>>>>>>> 125400a86d1b8868928350dd46b15d1f5b52dfbe
   ]
  },
  {
   "cell_type": "markdown",
   "metadata": {},
   "source": [
    "## Exercise 1\n",
    "\n",
    "1. Look at the product list and select two products"
   ]
  },
  {
   "cell_type": "code",
   "execution_count": 24,
   "metadata": {},
   "outputs": [
    {
     "name": "stdout",
     "output_type": "stream",
     "text": [
      "Index(['Products of agriculture, hunting and related services', 'Products of forestry, logging and related services'], dtype='object')\n",
      "Index(['Products of agriculture, hunting and related services', 'Products of forestry, logging and related services'], dtype='object')\n"
     ]
    }
   ],
   "source": [
    "# Print product list (i.e., the index of your table)\n",
    "print(supply.index[0:2])\n",
    "print(use.index[0:2])"
   ]
  },
  {
   "cell_type": "code",
   "execution_count": 43,
   "metadata": {},
   "outputs": [],
   "source": [
    "# Select two products\n",
    "products = [\"Products of agriculture, hunting and related services\", \"Products of forestry, logging and related services\"]"
   ]
  },
  {
   "cell_type": "markdown",
   "metadata": {},
   "source": [
    "2. Can you quantify their total supply, import, and which industries supply them?"
   ]
  },
  {
   "cell_type": "code",
   "execution_count": 80,
   "metadata": {},
   "outputs": [
    {
     "name": "stdout",
     "output_type": "stream",
     "text": [
      "Products of agriculture, hunting and related services:\n",
      "\n",
      "Crop and animal production, hunting and related service activities    5847.714\n",
      "Imports, cif                                                          2918.461\n",
      "Trade and transport margins                                           1882.033\n",
      "Taxes less subsidies on products                                       355.052\n",
      "Name: Products of agriculture, hunting and related services, dtype: object\n",
      "\n",
      "Products of forestry, logging and related services:\n",
      "\n",
      "Forestry and logging                2405.276\n",
      "Imports, cif                         750.908\n",
      "Trade and transport margins          545.606\n",
      "Taxes less subsidies on products      46.059\n",
      "Name: Products of forestry, logging and related services, dtype: object\n"
     ]
    }
   ],
   "source": [
    "# Slice your data\n",
    "# replace none with your function\n",
    "p_1_supply = supply.loc[\"Products of agriculture, hunting and related services\"]\n",
    "p_2_supply = supply.loc[\"Products of forestry, logging and related services\"]\n",
    "\n",
    "# Isolate non zero values \n",
    "p_1_supply = p_1_supply[p_1_supply!=0]\n",
    "p_1_supply = p_1_supply.dropna()\n",
    "p_2_supply = p_2_supply[p_2_supply!=0]\n",
    "p_2_supply = p_2_supply.dropna()\n",
    "\n",
    "#Print results\n",
    "print(f\"{products[0]}:\\n\\n{p_1_supply}\\n\\n{products[1]}:\\n\\n{p_2_supply}\")\n"
   ]
  },
  {
   "cell_type": "markdown",
   "metadata": {},
   "source": [
    "3. What is the total product output at basic price and at purchaser price?\n",
    "\n",
    "    N.b. in the Supply and Use table Non-Deductible VAT is included in the Taxes less subsidies on products (see also page 86 Eurostat Manual of Supply, Use and Input-Output Tables)\n",
    "\n",
    "Tip: in the file \"modified_supply_basic_price_AT_OECD_2015.xlsx\" you can check whether the calculations are right in the columns \"Total supply at purchasers' prices\" and \"Total supply at basic prices\"\n",
    "\n",
    "Tip: you can use p_1_supply.loc[] to select the right rows"
   ]
  },
  {
   "cell_type": "code",
   "execution_count": 64,
   "metadata": {},
   "outputs": [
    {
     "name": "stdout",
     "output_type": "stream",
     "text": [
      "Products of agriculture, hunting and related services: \n",
      "\tBasic price: 5847.714\n",
      "\tPurchaser price: 11003.259999999998\n",
      "Products of forestry, logging and related services: \n",
      "\tBasic price: 2405.276\n",
      "\tPurchaser price: 3747.849\n"
     ]
    }
   ],
   "source": [
<<<<<<< HEAD
<<<<<<< HEAD
    "# Basic and purchaser prices for product 1\n",
    "basic_price_p_1 = p_1_supply[:-3].sum()\n",
    "purchaser_price_p_1 = p_1_supply[:].sum()\n",
    "\n",
    "# Basic and purchaser prices for product 2\n",
    "basic_price_p_2 = p_2_supply[:-3].sum()\n",
    "purchaser_price_p_2 = p_2_supply[:].sum()\n",
=======
    "# Total supply at basic and purchaser prices for product 1\n",
    "p_1_basic_price = None\n",
    "\n",
=======
    "# Total supply at basic and purchaser prices for product 1\n",
    "p_1_basic_price = None\n",
    "\n",
>>>>>>> 125400a86d1b8868928350dd46b15d1f5b52dfbe
    "p_1_taxes_less_subsidies = None\n",
    "p_1_trade_n_transport_margins = None\n",
    "\n",
    "p_1_purchaser_price = None\n",
    "\n",
    "# Total supply at basic and purchaser prices for product 2\n",
    "p_2_basic_price = None\n",
    "\n",
    "p_2_taxes_less_subsidies = None\n",
    "p_2_trade_n_transport_margins = None\n",
    "\n",
    "p_2_purchaser_price = None\n",
<<<<<<< HEAD
>>>>>>> e859a672af8175038d5955b089a06ae2f6db47d6
=======
>>>>>>> 125400a86d1b8868928350dd46b15d1f5b52dfbe
    "\n",
    "# basic and purchase prices for product 1\n",
    "print(f\"{products[0]}: \\n\\tBasic price: {p_1_basic_price}\\n\\tPurchaser price: {p_1_purchaser_price}\")\n",
    "\n",
    "# basic and purchase prices for product 2\n",
    "print(f\"{products[1]}: \\n\\tBasic price: {p_2_basic_price}\\n\\tPurchaser price: {p_2_purchaser_price}\")\n"
   ]
  },
  {
   "cell_type": "markdown",
   "metadata": {},
   "source": [
    "## Exercise 2\n",
    "1. Look at the list of industries (i.e., columns of the supply table) and select two industries"
   ]
  },
  {
   "cell_type": "code",
   "execution_count": 65,
   "metadata": {},
   "outputs": [
    {
     "data": {
      "text/plain": [
       "Index(['Crop and animal production, hunting and related service activities',\n",
       "       'Forestry and logging', 'Fishing and aquaculture',\n",
       "       'Mining and quarrying',\n",
       "       'Manufacture of food products, beverages and tobacco products',\n",
       "       'Manufacture of textiles, wearing apparel, leather and related products',\n",
       "       'Manufacture of wood and of products of wood and cork,etc.',\n",
       "       'Manufacture of paper and paper products',\n",
       "       'Printing and reproduction of recorded media',\n",
       "       'Manufacture of coke and refined petroleum products',\n",
       "       'Manufacture of chemicals and chemical products',\n",
       "       'Manufacture of basic pharmaceutical products and preparations',\n",
       "       'Manufacture of rubber and plastics products',\n",
       "       'Manufacture of other non-metallic mineral products',\n",
       "       'Manufacture of basic metals',\n",
       "       'Manufacture of fabricated metal products, except machinery & equipment',\n",
       "       'Manufacture of computer, electronic and optical products',\n",
       "       'Manufacture of electrical equipment',\n",
       "       'Manufacture of machinery and equipment n.e.c.',\n",
       "       'Manufacture of motor vehicles, trailers and semi-trailers',\n",
       "       'Manufacture of other transport equipment',\n",
       "       'Manufacture of furniture, other manufacturing',\n",
       "       'Repair and installation of machinery and equipment',\n",
       "       'Electricity, gas, steam and air conditioning supply',\n",
       "       'Water collection, treatment and supply',\n",
       "       'Sewerage, waste collection and management services', 'Construction',\n",
       "       'Wholesale and retail trade and repair of motor vehicles and motorcycles',\n",
       "       'Wholesale trade, except of motor vehicles and motorcycles',\n",
       "       'Retail trade, except of motor vehicles and motorcycles',\n",
       "       'Land transport and transport via pipelines', 'Water transport',\n",
       "       'Air transport',\n",
       "       'Warehousing and support activities for transportation',\n",
       "       'Postal and courier activities',\n",
       "       'Accommodation and food service activities', 'Publishing activities',\n",
       "       'Audiovisual and broadcasting activities', 'Telecommunications',\n",
       "       'IT and other information services',\n",
       "       'Financial service activities, except insurance and pension funding',\n",
       "       'Insurance, reinsurance and pension funding, except compulsory S.S.',\n",
       "       'Activities auxiliary to financial service and insurance activities',\n",
       "       'Imputed rents of owner-occupied dwellings',\n",
       "       'Real estate activities excluding imputed rents',\n",
       "       'Legal, accounting, head offices, management consultancy activities',\n",
       "       'Architectural and engineering activ., technical testing and analysis',\n",
       "       'Scientific research and development',\n",
       "       'Advertising and market research',\n",
       "       'Other professional, scientific and tech. activities, veterinary activ.',\n",
       "       'Rental and leasing activities', 'Employment activities',\n",
       "       'Travel agency, tour operator, reservation service & related activities',\n",
       "       'Security, services to buildings and other business support activities',\n",
       "       'Public administration and defence, compulsory social security',\n",
       "       'Education', 'Human health activities',\n",
       "       'Residential care and social work activities',\n",
       "       'Arts, cultural activities, gambling and betting activities',\n",
       "       'Sports activities and amusement and recreation activities',\n",
       "       'Activities of membership organizations',\n",
       "       'Repair of computers and personal and household goods',\n",
       "       'Other personal service activities',\n",
       "       'Act. of HH as employers, undif. G&S-producing activities of HH for own',\n",
       "       'Activities of extraterritorial organizations and bodies',\n",
       "       'Imports, cif', 'Direct purchases abroad by residents',\n",
       "       'cif/fob adjustment on imports', 'Trade and transport margins',\n",
       "       'Taxes less subsidies on products'],\n",
       "      dtype='object')"
      ]
     },
     "execution_count": 65,
     "metadata": {},
     "output_type": "execute_result"
    }
   ],
   "source": [
    "# Print list of industries (i.e., columns of your table)\n",
    "supply.columns"
   ]
  },
  {
   "cell_type": "code",
   "execution_count": 74,
   "metadata": {},
   "outputs": [],
   "source": [
<<<<<<< HEAD
<<<<<<< HEAD
    "# Select two products\n",
    "industries = [\"Activities of extraterritorial organizations and bodies\",\"Repair of computers and personal and household goods\"]"
=======
=======
>>>>>>> 125400a86d1b8868928350dd46b15d1f5b52dfbe
    "# Select two industries\n",
    "industries = []"
>>>>>>> e859a672af8175038d5955b089a06ae2f6db47d6
   ]
  },
  {
   "cell_type": "markdown",
   "metadata": {},
   "source": [
    "2. Can you identify the main products and secondary products? "
   ]
  },
  {
   "cell_type": "code",
   "execution_count": 83,
   "metadata": {},
   "outputs": [
    {
     "name": "stdout",
     "output_type": "stream",
     "text": [
      "Activities of extraterritorial organizations and bodies:\n",
      "\n",
      "Series([], Name: Activities of extraterritorial organizations and bodies, dtype: object)\n",
      "\n",
      "Repair of computers and personal and household goods:\n",
      "\n",
      "Repair and installation services of machinery and equipment                      0.079\n",
      "Wholesale trade services, except of motor vehicles and motorcycles               3.218\n",
      "Retail trade services, except of motor vehicles and motorcycles                 11.833\n",
      "Accommodation and food services                                                  0.002\n",
      "Publishing services                                                              0.009\n",
      "Computer programming, consultancy and related serv., Information serv.          27.611\n",
      "Real estate services excluding imputed rents                                      0.14\n",
      "Legal, accounting, head offices services, management consultancy serv.            8.14\n",
      "Architectural and engineering services, tech. testing & analysis services        0.389\n",
      "Scientific research and development services                                     0.053\n",
      "Other professional, scientific and tech. services and veterinary services        0.179\n",
      "Rental and leasing services                                                      1.541\n",
      "Employment services                                                              0.167\n",
      "Security & investigation serv., serv. to buildings & other business support      0.198\n",
      "Repair services of computers and personal and household goods                  279.148\n",
      "Name: Repair of computers and personal and household goods, dtype: object\n"
     ]
    }
   ],
   "source": [
    "# Slice your data\n",
    "i_1_supply = supply.loc[:,\"Activities of extraterritorial organizations and bodies\"]\n",
    "i_2_supply = supply.loc[:,\"Repair of computers and personal and household goods\"]\n",
    "\n",
    "# Isolate non zero values and sort them from biggest to smallest\n",
    "i_1_supply = i_1_supply[i_1_supply != 0]\n",
    "i_2_supply = i_2_supply[i_2_supply != 0]\n",
    "\n",
    "# Print results\n",
    "print(f\"{industries[0]}:\\n\\n{i_1_supply}\\n\\n{industries[1]}:\\n\\n{i_2_supply}\")"
   ]
  },
  {
   "cell_type": "code",
   "execution_count": null,
   "metadata": {},
   "outputs": [],
   "source": [
    "primary_services = [\"Repair and installation services of machinery and equipment\", \"Wholesale trade services, except of motor vehicles and motorcycles\", \"Retail trade services, except of motor vehicles and motorcycles\"\n",
    "secondary_services = [\"Accommodation and food services\", \"Publishing services\""
   ]
  }
 ],
 "metadata": {
  "kernelspec": {
   "display_name": "Python 3 (ipykernel)",
   "language": "python",
   "name": "python3"
  },
  "language_info": {
   "codemirror_mode": {
    "name": "ipython",
    "version": 3
   },
   "file_extension": ".py",
   "mimetype": "text/x-python",
   "name": "python",
   "nbconvert_exporter": "python",
   "pygments_lexer": "ipython3",
   "version": "3.9.16"
  },
  "vscode": {
   "interpreter": {
    "hash": "a0de1fb450ee5e26d734f0aa5b4c4b29e20575809e5e66472467df7627fd957d"
   }
  }
 },
 "nbformat": 4,
 "nbformat_minor": 4
}
