{
 "cells": [
  {
   "cell_type": "markdown",
   "id": "93ed8f12-cfff-4c86-8a77-0d0870a7be97",
   "metadata": {},
   "source": [
    "# Practical 1: IOT and National Accounts\n",
    "In this exercise, you will practice how to apply the three methods to calculate national GDP, using different databases and years.  \n",
    "While the exercise is quantitive, try to reason about differences and implications of the methods as well as results from the method application."
   ]
  },
  {
   "cell_type": "markdown",
   "id": "06dfb2a3-8454-4cab-9137-0f0cc247b4d3",
   "metadata": {},
   "source": [
    "### Learning goals\n",
    "\n",
    "- Analysing GDP trends\n",
    "- Implementing GDP calculation methods in different contexts\n",
    "- Understanding the data structure difference between SNA and IO tables \n",
    "- Understanding the implications of quantitative results"
   ]
  },
  {
   "cell_type": "markdown",
   "id": "8ee1b689-c727-4b94-9c06-8212dc47c246",
   "metadata": {},
   "source": [
    "### Instructions\n",
    "\n",
    "Data should be downloaded into a data/ folder in the same directory your module is, then it should be loaded and plotted in python\n",
    "\n",
    "- Data source 1: eurostat, national accounts, main GDP aggregates https://ec.europa.eu/eurostat/databrowser/explore/all/economy?lang=en&display=list&sort=category\n",
    "\n",
    "- Data source 2: CBS https://www.cbs.nl/-/media/_excel/2022/27/83-inputoutput-tables-20152021.xlsx\n",
    "\n",
    "Obtain, plot, and analyze the GDP time series for all years available"
   ]
  },
  {
   "cell_type": "markdown",
   "id": "1aaeffd1-b07a-41d1-8c07-f5e346518176",
   "metadata": {},
   "source": [
    "## Exercise 1\n",
    "Using the EUROSTAT data plot a graph showing the yearly GDP change using the following approaches\n",
    "\n",
    "- expenditure perspective (GDP = Consumption + Investment + Government Spending + Net Export)\n",
    "- production perspective (GDP = Sum of all value added of all production activities)\n",
    "- income perspective (GDP = Total National Income + Sales Taxes + Depreciation + Net Foreign Factor Income)\n",
    "\n",
    "Make sure to use the metadata accompanying the data to help you understand all data available within the CSV file and the GDP elements https://ec.europa.eu/eurostat/cache/metadata/en/nama10_esms.htm\n",
    "\n",
    "Tip: if you download csv.gz data this is CSV data that has been compressed. You can import it directly into python by using the \"compression\" argument in the method pd.read_csv()     "
   ]
  },
  {
   "cell_type": "code",
   "execution_count": 35,
   "id": "89a776a4-3fd8-46c1-9940-53765b5dcbad",
   "metadata": {},
   "outputs": [
    {
     "ename": "BadGzipFile",
     "evalue": "Not a gzipped file (b'DA')",
     "output_type": "error",
     "traceback": [
      "\u001b[1;31m---------------------------------------------------------------------------\u001b[0m",
      "\u001b[1;31mBadGzipFile\u001b[0m                               Traceback (most recent call last)",
      "Cell \u001b[1;32mIn[35], line 10\u001b[0m\n\u001b[0;32m      6\u001b[0m plt\u001b[38;5;241m.\u001b[39mstyle\u001b[38;5;241m.\u001b[39muse(\u001b[38;5;124m'\u001b[39m\u001b[38;5;124mbmh\u001b[39m\u001b[38;5;124m'\u001b[39m)\n\u001b[0;32m      8\u001b[0m \u001b[38;5;66;03m# Import data\u001b[39;00m\n\u001b[0;32m      9\u001b[0m \u001b[38;5;66;03m# replace None with the rest of the function to load the data \u001b[39;00m\n\u001b[1;32m---> 10\u001b[0m GDP_data \u001b[38;5;241m=\u001b[39m \u001b[43mpd\u001b[49m\u001b[38;5;241;43m.\u001b[39;49m\u001b[43mread_csv\u001b[49m\u001b[43m(\u001b[49m\u001b[38;5;124;43m\"\u001b[39;49m\u001b[38;5;124;43mnama_10_gdp_linear.csv\u001b[39;49m\u001b[38;5;124;43m\"\u001b[39;49m\u001b[43m,\u001b[49m\u001b[43m \u001b[49m\u001b[43mcompression\u001b[49m\u001b[43m \u001b[49m\u001b[38;5;241;43m=\u001b[39;49m\u001b[43m \u001b[49m\u001b[38;5;124;43m\"\u001b[39;49m\u001b[38;5;124;43mgzip\u001b[39;49m\u001b[38;5;124;43m\"\u001b[39;49m\u001b[43m)\u001b[49m\n\u001b[0;32m     12\u001b[0m \u001b[38;5;66;03m# We are only interested in data in euros so make sure you slice the right currency\u001b[39;00m\n\u001b[0;32m     13\u001b[0m GDP_data \u001b[38;5;241m=\u001b[39m GDP_data[GDP_data\u001b[38;5;241m.\u001b[39munit \u001b[38;5;241m==\u001b[39m \u001b[38;5;124m\"\u001b[39m\u001b[38;5;124mCP_MEUR\u001b[39m\u001b[38;5;124m\"\u001b[39m] \n",
      "File \u001b[1;32m~\\anaconda\\envs\\EEIO\\lib\\site-packages\\pandas\\util\\_decorators.py:211\u001b[0m, in \u001b[0;36mdeprecate_kwarg.<locals>._deprecate_kwarg.<locals>.wrapper\u001b[1;34m(*args, **kwargs)\u001b[0m\n\u001b[0;32m    209\u001b[0m     \u001b[38;5;28;01melse\u001b[39;00m:\n\u001b[0;32m    210\u001b[0m         kwargs[new_arg_name] \u001b[38;5;241m=\u001b[39m new_arg_value\n\u001b[1;32m--> 211\u001b[0m \u001b[38;5;28;01mreturn\u001b[39;00m func(\u001b[38;5;241m*\u001b[39margs, \u001b[38;5;241m*\u001b[39m\u001b[38;5;241m*\u001b[39mkwargs)\n",
      "File \u001b[1;32m~\\anaconda\\envs\\EEIO\\lib\\site-packages\\pandas\\util\\_decorators.py:331\u001b[0m, in \u001b[0;36mdeprecate_nonkeyword_arguments.<locals>.decorate.<locals>.wrapper\u001b[1;34m(*args, **kwargs)\u001b[0m\n\u001b[0;32m    325\u001b[0m \u001b[38;5;28;01mif\u001b[39;00m \u001b[38;5;28mlen\u001b[39m(args) \u001b[38;5;241m>\u001b[39m num_allow_args:\n\u001b[0;32m    326\u001b[0m     warnings\u001b[38;5;241m.\u001b[39mwarn(\n\u001b[0;32m    327\u001b[0m         msg\u001b[38;5;241m.\u001b[39mformat(arguments\u001b[38;5;241m=\u001b[39m_format_argument_list(allow_args)),\n\u001b[0;32m    328\u001b[0m         \u001b[38;5;167;01mFutureWarning\u001b[39;00m,\n\u001b[0;32m    329\u001b[0m         stacklevel\u001b[38;5;241m=\u001b[39mfind_stack_level(),\n\u001b[0;32m    330\u001b[0m     )\n\u001b[1;32m--> 331\u001b[0m \u001b[38;5;28;01mreturn\u001b[39;00m func(\u001b[38;5;241m*\u001b[39margs, \u001b[38;5;241m*\u001b[39m\u001b[38;5;241m*\u001b[39mkwargs)\n",
      "File \u001b[1;32m~\\anaconda\\envs\\EEIO\\lib\\site-packages\\pandas\\io\\parsers\\readers.py:950\u001b[0m, in \u001b[0;36mread_csv\u001b[1;34m(filepath_or_buffer, sep, delimiter, header, names, index_col, usecols, squeeze, prefix, mangle_dupe_cols, dtype, engine, converters, true_values, false_values, skipinitialspace, skiprows, skipfooter, nrows, na_values, keep_default_na, na_filter, verbose, skip_blank_lines, parse_dates, infer_datetime_format, keep_date_col, date_parser, dayfirst, cache_dates, iterator, chunksize, compression, thousands, decimal, lineterminator, quotechar, quoting, doublequote, escapechar, comment, encoding, encoding_errors, dialect, error_bad_lines, warn_bad_lines, on_bad_lines, delim_whitespace, low_memory, memory_map, float_precision, storage_options)\u001b[0m\n\u001b[0;32m    935\u001b[0m kwds_defaults \u001b[38;5;241m=\u001b[39m _refine_defaults_read(\n\u001b[0;32m    936\u001b[0m     dialect,\n\u001b[0;32m    937\u001b[0m     delimiter,\n\u001b[1;32m   (...)\u001b[0m\n\u001b[0;32m    946\u001b[0m     defaults\u001b[38;5;241m=\u001b[39m{\u001b[38;5;124m\"\u001b[39m\u001b[38;5;124mdelimiter\u001b[39m\u001b[38;5;124m\"\u001b[39m: \u001b[38;5;124m\"\u001b[39m\u001b[38;5;124m,\u001b[39m\u001b[38;5;124m\"\u001b[39m},\n\u001b[0;32m    947\u001b[0m )\n\u001b[0;32m    948\u001b[0m kwds\u001b[38;5;241m.\u001b[39mupdate(kwds_defaults)\n\u001b[1;32m--> 950\u001b[0m \u001b[38;5;28;01mreturn\u001b[39;00m \u001b[43m_read\u001b[49m\u001b[43m(\u001b[49m\u001b[43mfilepath_or_buffer\u001b[49m\u001b[43m,\u001b[49m\u001b[43m \u001b[49m\u001b[43mkwds\u001b[49m\u001b[43m)\u001b[49m\n",
      "File \u001b[1;32m~\\anaconda\\envs\\EEIO\\lib\\site-packages\\pandas\\io\\parsers\\readers.py:605\u001b[0m, in \u001b[0;36m_read\u001b[1;34m(filepath_or_buffer, kwds)\u001b[0m\n\u001b[0;32m    602\u001b[0m _validate_names(kwds\u001b[38;5;241m.\u001b[39mget(\u001b[38;5;124m\"\u001b[39m\u001b[38;5;124mnames\u001b[39m\u001b[38;5;124m\"\u001b[39m, \u001b[38;5;28;01mNone\u001b[39;00m))\n\u001b[0;32m    604\u001b[0m \u001b[38;5;66;03m# Create the parser.\u001b[39;00m\n\u001b[1;32m--> 605\u001b[0m parser \u001b[38;5;241m=\u001b[39m TextFileReader(filepath_or_buffer, \u001b[38;5;241m*\u001b[39m\u001b[38;5;241m*\u001b[39mkwds)\n\u001b[0;32m    607\u001b[0m \u001b[38;5;28;01mif\u001b[39;00m chunksize \u001b[38;5;129;01mor\u001b[39;00m iterator:\n\u001b[0;32m    608\u001b[0m     \u001b[38;5;28;01mreturn\u001b[39;00m parser\n",
      "File \u001b[1;32m~\\anaconda\\envs\\EEIO\\lib\\site-packages\\pandas\\io\\parsers\\readers.py:1442\u001b[0m, in \u001b[0;36mTextFileReader.__init__\u001b[1;34m(self, f, engine, **kwds)\u001b[0m\n\u001b[0;32m   1439\u001b[0m     \u001b[38;5;28mself\u001b[39m\u001b[38;5;241m.\u001b[39moptions[\u001b[38;5;124m\"\u001b[39m\u001b[38;5;124mhas_index_names\u001b[39m\u001b[38;5;124m\"\u001b[39m] \u001b[38;5;241m=\u001b[39m kwds[\u001b[38;5;124m\"\u001b[39m\u001b[38;5;124mhas_index_names\u001b[39m\u001b[38;5;124m\"\u001b[39m]\n\u001b[0;32m   1441\u001b[0m \u001b[38;5;28mself\u001b[39m\u001b[38;5;241m.\u001b[39mhandles: IOHandles \u001b[38;5;241m|\u001b[39m \u001b[38;5;28;01mNone\u001b[39;00m \u001b[38;5;241m=\u001b[39m \u001b[38;5;28;01mNone\u001b[39;00m\n\u001b[1;32m-> 1442\u001b[0m \u001b[38;5;28mself\u001b[39m\u001b[38;5;241m.\u001b[39m_engine \u001b[38;5;241m=\u001b[39m \u001b[38;5;28;43mself\u001b[39;49m\u001b[38;5;241;43m.\u001b[39;49m\u001b[43m_make_engine\u001b[49m\u001b[43m(\u001b[49m\u001b[43mf\u001b[49m\u001b[43m,\u001b[49m\u001b[43m \u001b[49m\u001b[38;5;28;43mself\u001b[39;49m\u001b[38;5;241;43m.\u001b[39;49m\u001b[43mengine\u001b[49m\u001b[43m)\u001b[49m\n",
      "File \u001b[1;32m~\\anaconda\\envs\\EEIO\\lib\\site-packages\\pandas\\io\\parsers\\readers.py:1753\u001b[0m, in \u001b[0;36mTextFileReader._make_engine\u001b[1;34m(self, f, engine)\u001b[0m\n\u001b[0;32m   1750\u001b[0m     \u001b[38;5;28;01mraise\u001b[39;00m \u001b[38;5;167;01mValueError\u001b[39;00m(msg)\n\u001b[0;32m   1752\u001b[0m \u001b[38;5;28;01mtry\u001b[39;00m:\n\u001b[1;32m-> 1753\u001b[0m     \u001b[38;5;28;01mreturn\u001b[39;00m mapping[engine](f, \u001b[38;5;241m*\u001b[39m\u001b[38;5;241m*\u001b[39m\u001b[38;5;28mself\u001b[39m\u001b[38;5;241m.\u001b[39moptions)\n\u001b[0;32m   1754\u001b[0m \u001b[38;5;28;01mexcept\u001b[39;00m \u001b[38;5;167;01mException\u001b[39;00m:\n\u001b[0;32m   1755\u001b[0m     \u001b[38;5;28;01mif\u001b[39;00m \u001b[38;5;28mself\u001b[39m\u001b[38;5;241m.\u001b[39mhandles \u001b[38;5;129;01mis\u001b[39;00m \u001b[38;5;129;01mnot\u001b[39;00m \u001b[38;5;28;01mNone\u001b[39;00m:\n",
      "File \u001b[1;32m~\\anaconda\\envs\\EEIO\\lib\\site-packages\\pandas\\io\\parsers\\c_parser_wrapper.py:79\u001b[0m, in \u001b[0;36mCParserWrapper.__init__\u001b[1;34m(self, src, **kwds)\u001b[0m\n\u001b[0;32m     76\u001b[0m     kwds\u001b[38;5;241m.\u001b[39mpop(key, \u001b[38;5;28;01mNone\u001b[39;00m)\n\u001b[0;32m     78\u001b[0m kwds[\u001b[38;5;124m\"\u001b[39m\u001b[38;5;124mdtype\u001b[39m\u001b[38;5;124m\"\u001b[39m] \u001b[38;5;241m=\u001b[39m ensure_dtype_objs(kwds\u001b[38;5;241m.\u001b[39mget(\u001b[38;5;124m\"\u001b[39m\u001b[38;5;124mdtype\u001b[39m\u001b[38;5;124m\"\u001b[39m, \u001b[38;5;28;01mNone\u001b[39;00m))\n\u001b[1;32m---> 79\u001b[0m \u001b[38;5;28mself\u001b[39m\u001b[38;5;241m.\u001b[39m_reader \u001b[38;5;241m=\u001b[39m parsers\u001b[38;5;241m.\u001b[39mTextReader(src, \u001b[38;5;241m*\u001b[39m\u001b[38;5;241m*\u001b[39mkwds)\n\u001b[0;32m     81\u001b[0m \u001b[38;5;28mself\u001b[39m\u001b[38;5;241m.\u001b[39munnamed_cols \u001b[38;5;241m=\u001b[39m \u001b[38;5;28mself\u001b[39m\u001b[38;5;241m.\u001b[39m_reader\u001b[38;5;241m.\u001b[39munnamed_cols\n\u001b[0;32m     83\u001b[0m \u001b[38;5;66;03m# error: Cannot determine type of 'names'\u001b[39;00m\n",
      "File \u001b[1;32m~\\anaconda\\envs\\EEIO\\lib\\site-packages\\pandas\\_libs\\parsers.pyx:547\u001b[0m, in \u001b[0;36mpandas._libs.parsers.TextReader.__cinit__\u001b[1;34m()\u001b[0m\n",
      "File \u001b[1;32m~\\anaconda\\envs\\EEIO\\lib\\site-packages\\pandas\\_libs\\parsers.pyx:636\u001b[0m, in \u001b[0;36mpandas._libs.parsers.TextReader._get_header\u001b[1;34m()\u001b[0m\n",
      "File \u001b[1;32m~\\anaconda\\envs\\EEIO\\lib\\site-packages\\pandas\\_libs\\parsers.pyx:852\u001b[0m, in \u001b[0;36mpandas._libs.parsers.TextReader._tokenize_rows\u001b[1;34m()\u001b[0m\n",
      "File \u001b[1;32m~\\anaconda\\envs\\EEIO\\lib\\site-packages\\pandas\\_libs\\parsers.pyx:1965\u001b[0m, in \u001b[0;36mpandas._libs.parsers.raise_parser_error\u001b[1;34m()\u001b[0m\n",
      "File \u001b[1;32m~\\anaconda\\envs\\EEIO\\lib\\_compression.py:68\u001b[0m, in \u001b[0;36mDecompressReader.readinto\u001b[1;34m(self, b)\u001b[0m\n\u001b[0;32m     66\u001b[0m \u001b[38;5;28;01mdef\u001b[39;00m \u001b[38;5;21mreadinto\u001b[39m(\u001b[38;5;28mself\u001b[39m, b):\n\u001b[0;32m     67\u001b[0m     \u001b[38;5;28;01mwith\u001b[39;00m \u001b[38;5;28mmemoryview\u001b[39m(b) \u001b[38;5;28;01mas\u001b[39;00m view, view\u001b[38;5;241m.\u001b[39mcast(\u001b[38;5;124m\"\u001b[39m\u001b[38;5;124mB\u001b[39m\u001b[38;5;124m\"\u001b[39m) \u001b[38;5;28;01mas\u001b[39;00m byte_view:\n\u001b[1;32m---> 68\u001b[0m         data \u001b[38;5;241m=\u001b[39m \u001b[38;5;28;43mself\u001b[39;49m\u001b[38;5;241;43m.\u001b[39;49m\u001b[43mread\u001b[49m\u001b[43m(\u001b[49m\u001b[38;5;28;43mlen\u001b[39;49m\u001b[43m(\u001b[49m\u001b[43mbyte_view\u001b[49m\u001b[43m)\u001b[49m\u001b[43m)\u001b[49m\n\u001b[0;32m     69\u001b[0m         byte_view[:\u001b[38;5;28mlen\u001b[39m(data)] \u001b[38;5;241m=\u001b[39m data\n\u001b[0;32m     70\u001b[0m     \u001b[38;5;28;01mreturn\u001b[39;00m \u001b[38;5;28mlen\u001b[39m(data)\n",
      "File \u001b[1;32m~\\anaconda\\envs\\EEIO\\lib\\gzip.py:487\u001b[0m, in \u001b[0;36m_GzipReader.read\u001b[1;34m(self, size)\u001b[0m\n\u001b[0;32m    483\u001b[0m \u001b[38;5;28;01mif\u001b[39;00m \u001b[38;5;28mself\u001b[39m\u001b[38;5;241m.\u001b[39m_new_member:\n\u001b[0;32m    484\u001b[0m     \u001b[38;5;66;03m# If the _new_member flag is set, we have to\u001b[39;00m\n\u001b[0;32m    485\u001b[0m     \u001b[38;5;66;03m# jump to the next member, if there is one.\u001b[39;00m\n\u001b[0;32m    486\u001b[0m     \u001b[38;5;28mself\u001b[39m\u001b[38;5;241m.\u001b[39m_init_read()\n\u001b[1;32m--> 487\u001b[0m     \u001b[38;5;28;01mif\u001b[39;00m \u001b[38;5;129;01mnot\u001b[39;00m \u001b[38;5;28;43mself\u001b[39;49m\u001b[38;5;241;43m.\u001b[39;49m\u001b[43m_read_gzip_header\u001b[49m\u001b[43m(\u001b[49m\u001b[43m)\u001b[49m:\n\u001b[0;32m    488\u001b[0m         \u001b[38;5;28mself\u001b[39m\u001b[38;5;241m.\u001b[39m_size \u001b[38;5;241m=\u001b[39m \u001b[38;5;28mself\u001b[39m\u001b[38;5;241m.\u001b[39m_pos\n\u001b[0;32m    489\u001b[0m         \u001b[38;5;28;01mreturn\u001b[39;00m \u001b[38;5;124mb\u001b[39m\u001b[38;5;124m\"\u001b[39m\u001b[38;5;124m\"\u001b[39m\n",
      "File \u001b[1;32m~\\anaconda\\envs\\EEIO\\lib\\gzip.py:435\u001b[0m, in \u001b[0;36m_GzipReader._read_gzip_header\u001b[1;34m(self)\u001b[0m\n\u001b[0;32m    432\u001b[0m     \u001b[38;5;28;01mreturn\u001b[39;00m \u001b[38;5;28;01mFalse\u001b[39;00m\n\u001b[0;32m    434\u001b[0m \u001b[38;5;28;01mif\u001b[39;00m magic \u001b[38;5;241m!=\u001b[39m \u001b[38;5;124mb\u001b[39m\u001b[38;5;124m'\u001b[39m\u001b[38;5;130;01m\\037\u001b[39;00m\u001b[38;5;130;01m\\213\u001b[39;00m\u001b[38;5;124m'\u001b[39m:\n\u001b[1;32m--> 435\u001b[0m     \u001b[38;5;28;01mraise\u001b[39;00m BadGzipFile(\u001b[38;5;124m'\u001b[39m\u001b[38;5;124mNot a gzipped file (\u001b[39m\u001b[38;5;132;01m%r\u001b[39;00m\u001b[38;5;124m)\u001b[39m\u001b[38;5;124m'\u001b[39m \u001b[38;5;241m%\u001b[39m magic)\n\u001b[0;32m    437\u001b[0m (method, flag,\n\u001b[0;32m    438\u001b[0m  \u001b[38;5;28mself\u001b[39m\u001b[38;5;241m.\u001b[39m_last_mtime) \u001b[38;5;241m=\u001b[39m struct\u001b[38;5;241m.\u001b[39munpack(\u001b[38;5;124m\"\u001b[39m\u001b[38;5;124m<BBIxx\u001b[39m\u001b[38;5;124m\"\u001b[39m, \u001b[38;5;28mself\u001b[39m\u001b[38;5;241m.\u001b[39m_read_exact(\u001b[38;5;241m8\u001b[39m))\n\u001b[0;32m    439\u001b[0m \u001b[38;5;28;01mif\u001b[39;00m method \u001b[38;5;241m!=\u001b[39m \u001b[38;5;241m8\u001b[39m:\n",
      "\u001b[1;31mBadGzipFile\u001b[0m: Not a gzipped file (b'DA')"
     ]
    }
   ],
   "source": [
    "# import modules\n",
    "import pandas as pd\n",
    "import numpy as np\n",
    "import matplotlib.pyplot as plt\n",
    "from matplotlib import style\n",
    "plt.style.use('bmh')\n",
    "\n",
    "# Import data\n",
    "# replace None with the rest of the function to load the data \n",
    "GDP_data = pd.read_csv(\"nama_10_gdp_linear.csv\", compression = \"gzip\")\n",
    "\n",
    "# We are only interested in data in euros so make sure you slice the right currency\n",
    "GDP_data = GDP_data[GDP_data.unit == \"CP_MEUR\"] \n",
    "# print the columns, it will help you understand how you can proceed in selecting the data\n",
    "print(GDP_data.columns)"
   ]
  },
  {
   "cell_type": "markdown",
   "id": "e0d6d14b-0df0-43a8-85ed-3757dafa5cc7",
   "metadata": {},
   "source": [
    "**Print all unique values in the National Account Item column (na_item) to use as a reference**\n",
    "\n",
    "You can investigate what each code means by checking the vocabulary on the European Environment Agency website \n",
    "\n",
    "https://dd.eionet.europa.eu/vocabulary/eurostat/na_item/view\n",
    "\n",
    "or you can check the statistical terms glossary for full definitions\n",
    "\n",
    "https://data.un.org/Glossary.aspx"
   ]
  },
  {
   "cell_type": "code",
   "execution_count": 36,
   "id": "de4aa089-5c9d-4f22-92c8-90d1f73e45bf",
   "metadata": {},
   "outputs": [
    {
     "name": "stdout",
     "output_type": "stream",
     "text": [
      "['B11' 'B111' 'B112' 'B1G' 'B1GQ' 'B2A3G' 'D1' 'D11' 'D12' 'D2' 'D21'\n",
      " 'D21X31' 'D2X3' 'D3' 'D31' 'P3' 'P31_S13' 'P31_S14' 'P31_S14_S15'\n",
      " 'P31_S15' 'P32_S13' 'P3_P5' 'P3_P6' 'P3_S13' 'P41' 'P51G' 'P52' 'P52_P53'\n",
      " 'P53' 'P5G' 'P6' 'P61' 'P62' 'P7' 'P71' 'P72' 'YA0' 'YA1' 'YA2']\n"
     ]
    }
   ],
   "source": [
    "print(GDP_data.na_item.unique())"
   ]
  },
  {
   "cell_type": "markdown",
   "id": "1742f376",
   "metadata": {},
   "source": [
    "#### Create a dictionary in which you will store your GDP results for comparison"
   ]
  },
  {
   "cell_type": "code",
   "execution_count": 37,
   "id": "6b6d5aaa",
   "metadata": {},
   "outputs": [],
   "source": [
    "NA_GDP_approaches_results = {\"income\": None, \"expenditure\": None, \"production\": None}"
   ]
  },
  {
   "cell_type": "markdown",
   "id": "d43256af",
   "metadata": {},
   "source": [
    "#### Income approach\n",
    "\n",
    "Isolate all data for the income approach:\n",
    "- comp_employees = \"D1\"\n",
    "- Gross operating surplus and mixed income = \"B2A3G\" \n",
    "    - gross_operating_surplus = \"B2G\"\n",
    "    - mixed_income = \"B3G\"\n",
    "- taxes less subsidies on production and imports (D2X3)\n",
    "    - taxes_less_subsidies = \"D2\"\n",
    "    - imports = \"D3\"\n"
   ]
  },
  {
   "cell_type": "code",
   "execution_count": 50,
   "id": "342a2a9e",
   "metadata": {},
   "outputs": [],
   "source": [
    "# select national account codes to be isolated in the data \n",
    "breakdown_income = [\"D1\", \"B2A3G\", \"D2X3\"]\n",
    "#selecting data from the cells \n",
    "GDP_breakdown = GDP_data[GDP_data.na_item.isin(breakdown_income)]\n",
    "\n",
    "# Check wether all the items are available in the GDP breakdown csv\n",
    "for bi in breakdown_income:\n",
    "    if bi not in GDP_data.na_item.unique():\n",
    "        print(bi)"
   ]
  },
  {
   "cell_type": "code",
   "execution_count": 1,
   "id": "adcdf780",
   "metadata": {},
   "outputs": [],
   "source": [
    "# organize and plot your results for the income approach\n",
    "\n",
    "GDP_breakdown = GDP_data[GDP_data.na_item.isin(breakdown_income)]\n",
    "plt.figure \n"
   ]
  },
  {
   "cell_type": "markdown",
   "id": "0e13244c",
   "metadata": {
    "slideshow": {
     "slide_type": "slide"
    }
   },
   "source": [
    "#### Expenditure approach\n",
    "Isolate all data for the expenditure approach:\n",
    "- final_consumption = \"P3\"\n",
    "- gross_fixed_capital_form = \"P51\"\n",
    "- changes_in_inventories = \"P52\"\n",
    "- acquisition_less_disposal_of_val = \"P53\"\n",
    "- exports = \"P6\"\n",
    "- imports = \"P7\""
   ]
  },
  {
   "cell_type": "code",
   "execution_count": null,
   "id": "febb2ccf",
   "metadata": {},
   "outputs": [],
   "source": [
    "# select national account codes to be isolated in the data \n",
    "\n",
    "\n",
    "# Check wether all the items are available in the GDP breakdown csv"
   ]
  },
  {
   "cell_type": "code",
   "execution_count": null,
   "id": "00a59880",
   "metadata": {},
   "outputs": [],
   "source": [
    "\n",
    "# organize and plot your results for the expenditure approach\n"
   ]
  },
  {
   "cell_type": "markdown",
   "id": "c954b3de",
   "metadata": {},
   "source": [
    "#### Production approach\n",
    "\n",
    "Isolate all data for the production approach:\n",
    "- total_gross_value_added = \"B1G\"\n",
    "- taxes_on_products = \"D21\"\n",
    "- subsidies = \"D31\"\n"
   ]
  },
  {
   "cell_type": "code",
   "execution_count": null,
   "id": "2d8c9bae",
   "metadata": {},
   "outputs": [],
   "source": [
    "# select national account codes to be isolated in the data \n",
    "\n",
    "\n",
    "# Check wether all the items are available in the GDP breakdown csv\n",
    "\n"
   ]
  },
  {
   "cell_type": "code",
   "execution_count": null,
   "id": "20d14d57",
   "metadata": {},
   "outputs": [],
   "source": [
    "\n",
    "# organize and plot your results for the production approach\n",
    "\n",
    "    "
   ]
  },
  {
   "cell_type": "markdown",
   "id": "6b504c1d",
   "metadata": {},
   "source": [
    "#### Check your results\n",
    "You don't have to check every single entry, just select one country for each approach, \"NL\" is fine too "
   ]
  },
  {
   "cell_type": "code",
   "execution_count": null,
   "id": "bce4aa27",
   "metadata": {},
   "outputs": [],
   "source": []
  },
  {
   "cell_type": "markdown",
   "id": "2f0fdec0-964b-442a-9689-32403f186e87",
   "metadata": {},
   "source": [
    "## Exercise 2\n",
    "\n",
    "Using the CBS data calculate the total GDP total and its composition using the three approaches\n",
    "\n",
    "Methods can be found using the following link in the file \"2 Macroeconomic totals.xlsx\" \n",
    "\n",
    "https://www.cbs.nl/en-gb/custom/2022/27/national-accounts-2021-tables\n",
    "\n",
    "Tip: once you download the data have a good look at how it is structure, how the labels are organized.\n",
    "\n",
    "In order to better understand how GDP can be calculated in IOTs, use the EUROSTAT manual table 11.6 on page 305\n",
    "\n",
    "\n",
    "![image](./figures/IOT_basic_price.PNG)\n"
   ]
  },
  {
   "cell_type": "code",
   "execution_count": null,
   "id": "f4158925-2d16-4901-a5f1-08c422e976aa",
   "metadata": {},
   "outputs": [],
   "source": [
    "# Load the IO data\n",
    "CBS_IO = None\n",
    "\n",
    "# Print the list of sheets that are available in the xlsx file so that you can investigate what options you have\n"
   ]
  },
  {
   "cell_type": "markdown",
   "id": "38883649",
   "metadata": {},
   "source": [
    "#### Parse your data"
   ]
  },
  {
   "cell_type": "code",
   "execution_count": null,
   "id": "9a38df65",
   "metadata": {},
   "outputs": [],
   "source": [
    "# Parse the sheet for 2021 in current prices\n",
    "IO_2021_cp = None\n",
    "# Fill nan values\n",
    "\n",
    "# Labels sometimes have leading and trailing white spaces which makes it difficult to then slice the dataframe\n",
    "\n",
    "# There could also be errors in labels, always check. It won't matter for this exercise but keep in mind for the future. \n",
    "# Examples of mistakes are typos, wrong translaction, encoding issues \n",
    "\n",
    "# Negative items\n",
    "# Makes sure that the items marked with a negative sign in their labels are indeed negative\n",
    "\n",
    "\n",
    "# Print the columns and index to understand how the data is structured\n"
   ]
  },
  {
   "cell_type": "markdown",
   "id": "1bccece1",
   "metadata": {},
   "source": [
    "#### Perfom some checks\n",
    "Before we begin working with the data, we typically want to perform some data sanity checks. \n",
    "We will only perform one check in this exercise, keeping in mind, however, that in most cases one needs to perform quite thorough cleaning (e.g., check for NaNs, decimal separators). \n",
    "\n",
    "\n",
    "Check that the total inputs are equal to the total outputs"
   ]
  },
  {
   "cell_type": "code",
   "execution_count": null,
   "id": "8a282134",
   "metadata": {},
   "outputs": [],
   "source": [
    "# Check inputs and outputs\n",
    "total_inputs = None\n",
    "total_outputs = None\n",
    "\n",
    "print(f\"Inputs and Outputs match: {total_inputs/total_outputs*100}%\")"
   ]
  },
  {
   "cell_type": "markdown",
   "id": "d8a79623",
   "metadata": {},
   "source": [
    "#### Create a dictionary in which you will store your results to be later compared"
   ]
  },
  {
   "cell_type": "code",
   "execution_count": null,
   "id": "1f5fc6ef",
   "metadata": {},
   "outputs": [],
   "source": [
    "IO_GDP_approaches_results = {\"production\": None, \"income\": None, \"expenditure\": None}"
   ]
  },
  {
   "cell_type": "code",
   "execution_count": null,
   "id": "f30c17da-c367-4094-9b51-86ad2756dee9",
   "metadata": {},
   "outputs": [],
   "source": [
    "# Production perspective\n",
    "\n",
    "production_items = None\n",
    "\n",
    "prod_approach_breakdown = None\n",
    "\n",
    "IO_GDP_approaches_results[\"production\"] = prod_approach_breakdown.values.sum()\n",
    "IO_GDP_approaches_results[\"production\"]\n"
   ]
  },
  {
   "cell_type": "markdown",
   "id": "324fa8c8",
   "metadata": {},
   "source": [
    "**But wait! What is the value that we obtained from Eurostat and that we see in the macro economic totals documentation of CBS?**"
   ]
  },
  {
   "cell_type": "markdown",
   "id": "86140cd0",
   "metadata": {},
   "source": [
    "In the CBS IOTs, value added is reported at basic price. We need to add taxes and subtract subsidies to obtain the actual GDP"
   ]
  },
  {
   "cell_type": "code",
   "execution_count": null,
   "id": "96dae8ff",
   "metadata": {},
   "outputs": [],
   "source": [
    "# From value added at basic price to actual GDP\n",
    "taxes_less_subsidies_items = None\n",
    "\n",
    "taxes_less_subsidies = None\n",
    "\n",
    "# Add taxes less subsidies\n",
    "IO_GDP_approaches_results[\"production\"] = None\n",
    "IO_GDP_approaches_results[\"production\"]"
   ]
  },
  {
   "cell_type": "code",
   "execution_count": null,
   "id": "7a386c66-b7a8-4be5-8c33-713c682ebb99",
   "metadata": {},
   "outputs": [],
   "source": [
    "# Income perspective\n",
    "\n",
    "income_items = None\n",
    "\n",
    "income_breakdown = IO_2021_cp.loc[income_items]\n",
    "\n",
    "# We need to drop the aggregate and totals so that we don't double count \n",
    "income_breakdown = None\n",
    "\n",
    "IO_GDP_approaches_results[\"income\"] = income_breakdown.values.sum()\n",
    "\n",
    "IO_GDP_approaches_results[\"income\"]"
   ]
  },
  {
   "cell_type": "code",
   "execution_count": null,
   "id": "cac67f38",
   "metadata": {},
   "outputs": [],
   "source": [
    "# Expenditure perspective\n",
    "\n",
    "expenditure_items = None\n",
    "\n",
    "imports_items = None\n",
    "\n",
    "expenditure_breakdown = IO_2021_cp.loc[:, expenditure_items]\n",
    "\n",
    "# we eliminate the rows with aggregates and totals\n",
    "expenditure_breakdown = expenditure_breakdown.drop([\"Total of rows (1–81)\", \"Total intermediate consumption (82–90)\", \"Total\", \"Value added at basic prices (92–96)\"], axis=0)\n",
    "\n",
    "# We sum all imports to be substracted\n",
    "imports_Z = None\n",
    "imports_Y = None\n",
    "tot_imports = imports_Z + imports_Y\n",
    "\n",
    "# Subtract imports from expenditure\n",
    "IO_GDP_approaches_results[\"expenditure\"] = None\n",
    "IO_GDP_approaches_results[\"expenditure\"]\n"
   ]
  },
  {
   "cell_type": "code",
   "execution_count": null,
   "id": "36be71bb",
   "metadata": {},
   "outputs": [],
   "source": [
    "# Calculate the production perspective use the Value added row\n",
    "# we use the value added row provided by the table as a reference to see whether our calculations are correct\n",
    "value_added = IO_2021_cp.loc[\"Value added at basic prices (92–96)\" , :\"Goods and services n.e.c.\"]\n",
    "VA_total = value_added.values.sum() + taxes_less_subsidies.values.sum()\n",
    "\n",
    "for l in IO_GDP_approaches_results:\n",
    "    print(f\"{l} approach results: {IO_GDP_approaches_results[l]} results are off by {round((1-VA_total/IO_GDP_approaches_results[l])*100)}%\")\n"
   ]
  }
 ],
 "metadata": {
  "kernelspec": {
   "display_name": "Python 3 (ipykernel)",
   "language": "python",
   "name": "python3"
  },
  "language_info": {
   "codemirror_mode": {
    "name": "ipython",
    "version": 3
   },
   "file_extension": ".py",
   "mimetype": "text/x-python",
   "name": "python",
   "nbconvert_exporter": "python",
   "pygments_lexer": "ipython3",
   "version": "3.9.16"
  },
  "vscode": {
   "interpreter": {
    "hash": "a0de1fb450ee5e26d734f0aa5b4c4b29e20575809e5e66472467df7627fd957d"
   }
  }
 },
 "nbformat": 4,
 "nbformat_minor": 5
}
