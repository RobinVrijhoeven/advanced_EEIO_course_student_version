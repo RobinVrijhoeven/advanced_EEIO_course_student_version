{
 "cells": [
  {
   "cell_type": "markdown",
   "metadata": {
    "slideshow": {
     "slide_type": "slide"
    }
   },
   "source": [
    "# Practical 10: Technology adjusted Carbon Based Accounting\n",
    "\n",
    "Objectives\n",
    "- Calculate TCBA\n",
    "- Calculate Scope 1, 2, 3 emissions\n",
    "- Visualize results\n",
    "\n",
    "**Technology adjusted consumption-based accounting**\n",
    "\n",
    "- In the [supplementary Information](https://static-content.springer.com/esm/art%3A10.1038%2Fnclimate2555/MediaObjects/41558_2015_BFnclimate2555_MOESM453_ESM.xlsx) file of [Kander et al. (2015), *National greenhouse-gas accounting for effective climate policy on international trade*](https://www.nature.com/articles/nclimate2555#Tab1), the authors illustrated the TCBA calculation and results in a spreadsheet.\n",
    "\n",
    "- Download and go through the spreadsheet example to further understand the TCBA calculations. \n",
    "\n",
    "- Implement the same calculations in Python\n"
   ]
  },
  {
   "cell_type": "code",
   "execution_count": 1,
   "metadata": {
    "slideshow": {
     "slide_type": "slide"
    }
   },
   "outputs": [],
   "source": [
    "# Import packages\n",
    "import pandas as pd\n",
    "import numpy as np\n",
    "import matplotlib.pyplot as plt"
   ]
  },
  {
   "cell_type": "markdown",
   "metadata": {
    "slideshow": {
     "slide_type": "slide"
    }
   },
   "source": [
    "## Exercise 1: Calculate and visualize CBA vs TCBA"
   ]
  },
  {
   "cell_type": "markdown",
   "metadata": {
    "slideshow": {
     "slide_type": "subslide"
    }
   },
   "source": [
    "### 1.1 Import the downloaded data"
   ]
  },
  {
   "cell_type": "code",
   "execution_count": 2,
   "metadata": {
    "slideshow": {
     "slide_type": "fragment"
    }
   },
   "outputs": [],
   "source": [
    "# Import exiobase\n",
    "data_file = 'data/41558_2015_BFnclimate2555_MOESM453_ESM.xlsx'    # add name of folder where data is stored\n",
    "\n",
    "Z_df = pd.read_excel(data_file, sheet_name='TCBA Example', header = 2, usecols='C:N', nrows=12)\n",
    "Z = Z_df.values\n",
    "\n",
    "Y_df = pd.read_excel(data_file, sheet_name='TCBA Example', header = 2, usecols='P:R', nrows=12)\n",
    "Y = Y_df.values\n",
    "\n",
    "V_df = pd.read_excel(data_file, sheet_name='TCBA Example', header = 15, usecols='C:N', nrows=3)\n",
    "V_df = V_df.fillna(0)\n",
    "V = V_df.values\n",
    "\n",
    "F_df = pd.read_excel(data_file, sheet_name='TCBA Example', header = 21, usecols='C:N', nrows=1)\n",
    "F = F_df.values\n"
   ]
  },
  {
   "cell_type": "markdown",
   "metadata": {
    "slideshow": {
     "slide_type": "subslide"
    }
   },
   "source": [
    "### 1.2 Calculate other IO variables"
   ]
  },
  {
   "cell_type": "code",
   "execution_count": 3,
   "metadata": {
    "slideshow": {
     "slide_type": "fragment"
    }
   },
   "outputs": [],
   "source": [
    "r = 3                                  # number of regions\n",
    "s = 4                                  # number of sectors\n",
    "x = np.sum(Z,1) + np.sum(Y,1)\n",
    "f = F/x.transpose()\n",
    "A = Z/x.transpose()\n",
    "I = np.eye(r*s)\n",
    "L = np.linalg.inv(I - A)"
   ]
  },
  {
   "cell_type": "markdown",
   "metadata": {
    "slideshow": {
     "slide_type": "subslide"
    }
   },
   "source": [
    "### 1.3 TCBA calculations"
   ]
  },
  {
   "cell_type": "markdown",
   "metadata": {
    "slideshow": {
     "slide_type": "fragment"
    }
   },
   "source": [
    "#### 1.3.1 Export-related output"
   ]
  },
  {
   "cell_type": "code",
   "execution_count": 4,
   "metadata": {
    "slideshow": {
     "slide_type": "fragment"
    }
   },
   "outputs": [],
   "source": [
    "x_mult = L@Y                          # output multiplier\n",
    "ex = x_mult.copy()\n",
    "for i in range(0,r):                  # 3 regions\n",
    "    ex[i*s : (i+1)*s,i] = 0           # remove domestic trasactions\n",
    "ex = ex.sum(1)"
   ]
  },
  {
   "cell_type": "markdown",
   "metadata": {
    "slideshow": {
     "slide_type": "subslide"
    }
   },
   "source": [
    "#### 1.3.2 Export-related emissions"
   ]
  },
  {
   "cell_type": "code",
   "execution_count": 5,
   "metadata": {
    "slideshow": {
     "slide_type": "fragment"
    }
   },
   "outputs": [],
   "source": [
    "# Export-related emissions    \n",
    "F_ex = f*ex"
   ]
  },
  {
   "cell_type": "markdown",
   "metadata": {
    "slideshow": {
     "slide_type": "subslide"
    }
   },
   "source": [
    "#### 1.3.3 Calculate 'World market average emissions multiplier'"
   ]
  },
  {
   "cell_type": "code",
   "execution_count": 6,
   "metadata": {
    "slideshow": {
     "slide_type": "fragment"
    }
   },
   "outputs": [],
   "source": [
    "f_wa = np.zeros((1,s))\n",
    "for j in range(0,s):                   # 4 sectors\n",
    "    ex_j = 0                           # export-related output of sector j\n",
    "    F_ex_j = 0                         # export-related emissions of sector j\n",
    "    for i in range(0,r):               # 3 regions\n",
    "        ex_j += ex[i*s+j]\n",
    "        F_ex_j += F_ex[0,i*s+j]\n",
    "    f_wa[0,j] = F_ex_j/ex_j\n",
    "f_wa = np.tile(f_wa,3)                  # replicate 3 times to build the new f for TCBA"
   ]
  },
  {
   "cell_type": "markdown",
   "metadata": {
    "slideshow": {
     "slide_type": "subslide"
    }
   },
   "source": [
    "#### 1.3.4 Export-related emissions by TCBA"
   ]
  },
  {
   "cell_type": "code",
   "execution_count": 7,
   "metadata": {
    "slideshow": {
     "slide_type": "fragment"
    }
   },
   "outputs": [],
   "source": [
    "# Export-related emissions by TCBA  \n",
    "F_ex_TCBA = f_wa*ex"
   ]
  },
  {
   "cell_type": "markdown",
   "metadata": {
    "slideshow": {
     "slide_type": "subslide"
    }
   },
   "source": [
    "#### 1.3.5 Adjust export-related emissions (i.e. TCBA)"
   ]
  },
  {
   "cell_type": "code",
   "execution_count": 8,
   "metadata": {
    "slideshow": {
     "slide_type": "fragment"
    }
   },
   "outputs": [],
   "source": [
    "CBA = f @ L @ Y                                          # note F_hh is neglected in this example\n",
    "\n",
    "diff_ex = F_ex - F_ex_TCBA\n",
    "diff_ex_r = np.zeros((1,r))                              # aggregate by region\n",
    "for i in range(0,r):\n",
    "    diff_ex_r[0,i] = diff_ex[0,i*s:(i+1)*s].sum()\n",
    "\n",
    "TCBA = CBA + diff_ex_r"
   ]
  },
  {
   "cell_type": "markdown",
   "metadata": {
    "slideshow": {
     "slide_type": "subslide"
    }
   },
   "source": [
    "### 1.4 Visualize results"
   ]
  },
  {
   "cell_type": "code",
   "execution_count": 9,
   "metadata": {
    "slideshow": {
     "slide_type": "fragment"
    }
   },
   "outputs": [
    {
     "data": {
      "text/plain": [
       "<matplotlib.legend.Legend at 0x1deaaad03a0>"
      ]
     },
     "execution_count": 9,
     "metadata": {},
     "output_type": "execute_result"
    },
    {
     "data": {
      "image/png": "[encoded data removed]",
      "text/plain": [
       "<Figure size 640x480 with 1 Axes>"
      ]
     },
     "metadata": {},
     "output_type": "display_data"
    }
   ],
   "source": [
    "data = np.concatenate((CBA,TCBA))\n",
    "X_pos = np.arange(3)+0.15                        # x-axis position variable\n",
    "fig = plt.figure()\n",
    "#ax = fig.add_axes([0,0,1,1])\n",
    "plt.bar(X_pos - 0.15, data[0], color = 'b', width = 0.3)\n",
    "plt.bar(X_pos + 0.15, data[1], color = 'g', width = 0.3)\n",
    "plt.ylabel('Consumption-based Emissions, kg/year')\n",
    "plt.title('CBA vs. TCBA')\n",
    "plt.xticks(X_pos, ['R1', 'R2', 'R3'])\n",
    "plt.legend(labels=['CBA', 'TCBA'])"
   ]
  },
  {
   "cell_type": "markdown",
   "metadata": {
    "slideshow": {
     "slide_type": "slide"
    }
   },
   "source": [
    "## Exercise 2: Calculate emissions in the different scopes using exiobase"
   ]
  },
  {
   "cell_type": "markdown",
   "metadata": {
    "slideshow": {
     "slide_type": "subslide"
    }
   },
   "source": [
    "### 2.1 Import exiobase and calculate all the IO variables"
   ]
  },
  {
   "cell_type": "code",
   "execution_count": 10,
   "metadata": {
    "slideshow": {
     "slide_type": "fragment"
    }
   },
   "outputs": [],
   "source": [
    "# Import exiobase\n",
    "path = 'data/IOT_2019_pxp/'    # add name of folder where data is stored                                \n",
    "A = pd.read_csv(f'{path}A.txt', sep='\\t', index_col=[0, 1], header=[0, 1])  # A matrix\n",
    "Y = pd.read_csv(f'{path}Y.txt', sep='\\t', index_col=[0, 1], header=[0, 1])  # Y matrix\n",
    "F = pd.read_csv(f'{path}satellite/F.txt', sep='\\t', index_col=[0], header=[0, 1])  # satellite matrix\n",
    "F_hh = pd.read_csv(f'{path}satellite/F_Y.txt', sep='\\t', index_col=[0], header=[0, 1])  # satellite for FD matrix"
   ]
  },
  {
   "cell_type": "code",
   "execution_count": 11,
   "metadata": {
    "slideshow": {
     "slide_type": "subslide"
    }
   },
   "outputs": [],
   "source": [
    "# calculate the Leontief inverse\n",
    "I = np.identity(A.shape[0])\n",
    "L = np.linalg.inv(I - A)\n",
    "\n",
    "# Calculate total output vector (x)\n",
    "y_total = Y.sum(1)\n",
    "x = L @ y_total"
   ]
  },
  {
   "cell_type": "code",
   "execution_count": 12,
   "metadata": {
    "slideshow": {
     "slide_type": "subslide"
    }
   },
   "outputs": [],
   "source": [
    "# Get the CO2 emissions by combustion (\"CO2 - combustion - air\")\n",
    "F_CO2 = F.loc[\"CO2 - combustion - air\"]"
   ]
  },
  {
   "cell_type": "code",
   "execution_count": 13,
   "metadata": {
    "slideshow": {
     "slide_type": "subslide"
    }
   },
   "outputs": [],
   "source": [
    "# we make a copy of our product output vector\n",
    "x_ = x.copy() \n",
    "\n",
    "# we divide 1 by the values that are non-0\n",
    "x_[x_!=0] = 1/x_[x_!=0]\n",
    "\n",
    "# We diagolize the resulting vector\n",
    "inv_diag_x = np.diag(x_)\n"
   ]
  },
  {
   "cell_type": "code",
   "execution_count": 14,
   "metadata": {
    "slideshow": {
     "slide_type": "subslide"
    }
   },
   "outputs": [],
   "source": [
    "f_CO2 = F_CO2 @ inv_diag_x"
   ]
  },
  {
   "cell_type": "markdown",
   "metadata": {
    "slideshow": {
     "slide_type": "subslide"
    }
   },
   "source": [
    "#### 2.2 Calculate CO2 multiplier from exiobase data"
   ]
  },
  {
   "cell_type": "code",
   "execution_count": 15,
   "metadata": {
    "slideshow": {
     "slide_type": "fragment"
    }
   },
   "outputs": [],
   "source": [
    "f_CO2_mult = f_CO2 @ L"
   ]
  },
  {
   "cell_type": "code",
   "execution_count": 16,
   "metadata": {
    "slideshow": {
     "slide_type": "fragment"
    }
   },
   "outputs": [],
   "source": [
    "F_CO2_ind = f_CO2_mult @ A @ np.diag(x)"
   ]
  },
  {
   "cell_type": "markdown",
   "metadata": {
    "slideshow": {
     "slide_type": "subslide"
    }
   },
   "source": [
    "#### 2.3 Import IPCC data"
   ]
  },
  {
   "cell_type": "code",
   "execution_count": 17,
   "metadata": {
    "slideshow": {
     "slide_type": "fragment"
    }
   },
   "outputs": [
    {
     "data": {
      "text/html": [
       "<div>\n",
       "<style scoped>\n",
       "    .dataframe tbody tr th:only-of-type {\n",
       "        vertical-align: middle;\n",
       "    }\n",
       "\n",
       "    .dataframe tbody tr th {\n",
       "        vertical-align: top;\n",
       "    }\n",
       "\n",
       "    .dataframe thead th {\n",
       "        text-align: right;\n",
       "    }\n",
       "</style>\n",
       "<table border=\"1\" class=\"dataframe\">\n",
       "  <thead>\n",
       "    <tr style=\"text-align: right;\">\n",
       "      <th></th>\n",
       "      <th>Energy</th>\n",
       "      <th>Transport</th>\n",
       "      <th>Materials</th>\n",
       "      <th>Industry</th>\n",
       "      <th>Services</th>\n",
       "      <th>Buildings</th>\n",
       "      <th>AFOLU+</th>\n",
       "    </tr>\n",
       "  </thead>\n",
       "  <tbody>\n",
       "    <tr>\n",
       "      <th>\"Paddy rice\"</th>\n",
       "      <td>0.0</td>\n",
       "      <td>0.0</td>\n",
       "      <td>0.0</td>\n",
       "      <td>0.0</td>\n",
       "      <td>0.0</td>\n",
       "      <td>0.0</td>\n",
       "      <td>1.0</td>\n",
       "    </tr>\n",
       "    <tr>\n",
       "      <th>\"Wheat\"</th>\n",
       "      <td>0.0</td>\n",
       "      <td>0.0</td>\n",
       "      <td>0.0</td>\n",
       "      <td>0.0</td>\n",
       "      <td>0.0</td>\n",
       "      <td>0.0</td>\n",
       "      <td>1.0</td>\n",
       "    </tr>\n",
       "    <tr>\n",
       "      <th>\"Cereal grains nec\"</th>\n",
       "      <td>0.0</td>\n",
       "      <td>0.0</td>\n",
       "      <td>0.0</td>\n",
       "      <td>0.0</td>\n",
       "      <td>0.0</td>\n",
       "      <td>0.0</td>\n",
       "      <td>1.0</td>\n",
       "    </tr>\n",
       "    <tr>\n",
       "      <th>\"Vegetables, fruit, nuts\"</th>\n",
       "      <td>0.0</td>\n",
       "      <td>0.0</td>\n",
       "      <td>0.0</td>\n",
       "      <td>0.0</td>\n",
       "      <td>0.0</td>\n",
       "      <td>0.0</td>\n",
       "      <td>1.0</td>\n",
       "    </tr>\n",
       "    <tr>\n",
       "      <th>\"Oil seeds\"</th>\n",
       "      <td>0.0</td>\n",
       "      <td>0.0</td>\n",
       "      <td>0.0</td>\n",
       "      <td>0.0</td>\n",
       "      <td>0.0</td>\n",
       "      <td>0.0</td>\n",
       "      <td>1.0</td>\n",
       "    </tr>\n",
       "  </tbody>\n",
       "</table>\n",
       "</div>"
      ],
      "text/plain": [
       "                           Energy  Transport  Materials  Industry  Services  \\\n",
       "\"Paddy rice\"                  0.0        0.0        0.0       0.0       0.0   \n",
       "\"Wheat\"                       0.0        0.0        0.0       0.0       0.0   \n",
       "\"Cereal grains nec\"           0.0        0.0        0.0       0.0       0.0   \n",
       "\"Vegetables, fruit, nuts\"     0.0        0.0        0.0       0.0       0.0   \n",
       "\"Oil seeds\"                   0.0        0.0        0.0       0.0       0.0   \n",
       "\n",
       "                           Buildings  AFOLU+  \n",
       "\"Paddy rice\"                     0.0     1.0  \n",
       "\"Wheat\"                          0.0     1.0  \n",
       "\"Cereal grains nec\"              0.0     1.0  \n",
       "\"Vegetables, fruit, nuts\"        0.0     1.0  \n",
       "\"Oil seeds\"                      0.0     1.0  "
      ]
     },
     "execution_count": 17,
     "metadata": {},
     "output_type": "execute_result"
    }
   ],
   "source": [
    "ipcc_data = \"data/IPCCsec.xlsx\"\n",
    "# import the xio2detail data\n",
    "IPCCagg = pd.read_excel(ipcc_data, \"xio2detail\", header=0, usecols=\"A:H\")\n",
    "IPCCagg = IPCCagg.set_index(\"B2:H201\")  # Set the first column as the index.\n",
    "IPCCagg = IPCCagg.rename_axis(None, axis=0)  # Remove the 'B2:H201' name, this is only used for MATLAB code.\n",
    "IPCCagg = IPCCagg.fillna(0)  # Change NaN into 0.\n",
    "\n",
    "# This is what the data looks like:\n",
    "IPCCagg.head()"
   ]
  },
  {
   "cell_type": "code",
   "execution_count": 18,
   "metadata": {
    "slideshow": {
     "slide_type": "subslide"
    }
   },
   "outputs": [],
   "source": [
    "# Create the elec array.\n",
    "s = 200\n",
    "r = 49\n",
    "\n",
    "elec = np.zeros(r * s)\n",
    "\n",
    "for i in range(r):\n",
    "    elec[i * s + 127 : i * s + 140] = np.ones(140 - 127)"
   ]
  },
  {
   "cell_type": "markdown",
   "metadata": {
    "slideshow": {
     "slide_type": "subslide"
    }
   },
   "source": [
    "#### 2.4 Calculate scope 1 emissions"
   ]
  },
  {
   "cell_type": "code",
   "execution_count": 19,
   "metadata": {
    "slideshow": {
     "slide_type": "fragment"
    }
   },
   "outputs": [],
   "source": [
    "co2_x = np.reshape(np.multiply(f_CO2_mult, x.flatten()), (s, r), order=\"F\")\n",
    "co2_scope1 = co2_x.T @ IPCCagg.to_numpy()"
   ]
  },
  {
   "cell_type": "markdown",
   "metadata": {
    "slideshow": {
     "slide_type": "subslide"
    }
   },
   "source": [
    "#### 2.5 Calculate scope 2 emissions"
   ]
  },
  {
   "cell_type": "code",
   "execution_count": 20,
   "metadata": {
    "slideshow": {
     "slide_type": "fragment"
    }
   },
   "outputs": [],
   "source": [
    "co2_elec_z = np.reshape((f_CO2_mult @ np.diag(elec) @ A @ np.diag(x)), (s, r), order=\"F\")\n",
    "co2_scope2 = co2_elec_z.T @ IPCCagg.to_numpy()"
   ]
  },
  {
   "cell_type": "markdown",
   "metadata": {
    "slideshow": {
     "slide_type": "subslide"
    }
   },
   "source": [
    "#### 2.6 Calculate scope 3 emissions"
   ]
  },
  {
   "cell_type": "code",
   "execution_count": 21,
   "metadata": {
    "slideshow": {
     "slide_type": "fragment"
    }
   },
   "outputs": [],
   "source": [
    "co2_ind_shaped = np.reshape(F_CO2_ind, (s, r), order=\"F\")\n",
    "co2_scope3 = co2_ind_shaped.T @ IPCCagg.to_numpy() - co2_scope2"
   ]
  },
  {
   "cell_type": "markdown",
   "metadata": {
    "slideshow": {
     "slide_type": "subslide"
    }
   },
   "source": [
    "#### 2.7 Make a stacked bar plot of the results"
   ]
  },
  {
   "cell_type": "code",
   "execution_count": 22,
   "metadata": {
    "slideshow": {
     "slide_type": "fragment"
    }
   },
   "outputs": [
    {
     "data": {
      "text/plain": [
       "<AxesSubplot: title={'center': 'Scopes 2015'}, ylabel='Pg CO2 eq'>"
      ]
     },
     "execution_count": 22,
     "metadata": {},
     "output_type": "execute_result"
    },
    {
     "data": {
      "image/png": "[encoded data removed]",
      "text/plain": [
       "<Figure size 640x480 with 1 Axes>"
      ]
     },
     "metadata": {},
     "output_type": "display_data"
    }
   ],
   "source": [
    "df = pd.DataFrame(\n",
    "    data=[co2_scope1[20], co2_scope2[20], co2_scope3[20]],\n",
    "    columns=IPCCagg.columns,\n",
    "    index=[\"1\", \"2\", \"3\"],\n",
    ")\n",
    "df.T.plot(kind=\"bar\", stacked=True, ylabel=\"Pg CO2 eq\", title=\"Scopes 2015\")"
   ]
  }
 ],
 "metadata": {
  "celltoolbar": "Slideshow",
  "kernelspec": {
   "display_name": "Python 3 (ipykernel)",
   "language": "python",
   "name": "python3"
  },
  "language_info": {
   "codemirror_mode": {
    "name": "ipython",
    "version": 3
   },
   "file_extension": ".py",
   "mimetype": "text/x-python",
   "name": "python",
   "nbconvert_exporter": "python",
   "pygments_lexer": "ipython3",
   "version": "3.9.16"
  }
 },
 "nbformat": 4,
 "nbformat_minor": 2
}
