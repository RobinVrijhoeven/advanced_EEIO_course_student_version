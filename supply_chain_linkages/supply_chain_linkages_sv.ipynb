{
 "cells": [
  {
   "cell_type": "markdown",
   "metadata": {},
   "source": [
    "# Practical 3: Supply chain linkages\n",
    "\n",
    "### Objectives\n",
    "- Understand the format of input-output tables\n",
    "- Calculate the Leontief and Ghosh inverse\n",
    "- Apply demand and price driven models\n",
    "- Calculate backward and forward linkages"
   ]
  },
  {
   "cell_type": "markdown",
   "metadata": {},
   "source": [
    "### Exercise 1\n",
    "An IO system is provided with sectoral data aggregated in 3 sectors.\n",
    "Use this IO data to calculate total product output and input, the Leontief quantity and price models, and the Ghosh model"
   ]
  },
  {
   "cell_type": "code",
   "execution_count": null,
   "metadata": {},
   "outputs": [],
   "source": [
    "# import modules\n",
    "import pandas as pd\n",
    "import numpy as np"
   ]
  },
  {
   "cell_type": "markdown",
   "metadata": {},
   "source": [
    "1. Inter-industry transactions"
   ]
  },
  {
   "cell_type": "code",
   "execution_count": null,
   "metadata": {},
   "outputs": [],
   "source": [
    "labels = pd.Index([\"Agriculture\", \"Manufacturing\", \"Services\"])\n",
    "\n",
    "Z = pd.DataFrame([\n",
    "    [0.6,2.6,0.5],\n",
    "    [0.8, 30.6, 7.8],\n",
    "    [0.9,12.1,23]\n",
    "], index=labels, columns=labels)\n",
    "Z"
   ]
  },
  {
   "cell_type": "code",
   "execution_count": null,
   "metadata": {},
   "outputs": [],
   "source": [
    "# After having looked at the structure of Z, we turn it into a numpy array to facilitate calculations\n",
    "Z = Z.values"
   ]
  },
  {
   "cell_type": "markdown",
   "metadata": {},
   "source": [
    "2. Value added vector"
   ]
  },
  {
   "cell_type": "code",
   "execution_count": null,
   "metadata": {},
   "outputs": [],
   "source": [
    "# Value added (last row of the first table)\n",
<<<<<<< HEAD
    "v = np.array([3.30, 22.4, 52.5])\n",
    "v"
=======
    "V = np.array([3.30, 22.4, 52.5])\n",
    "V"
>>>>>>> 125400a86d1b8868928350dd46b15d1f5b52dfbe
   ]
  },
  {
   "cell_type": "markdown",
   "metadata": {},
   "source": [
    "3. Final demand vector of products purchased by final consumers"
   ]
  },
  {
   "cell_type": "code",
   "execution_count": null,
   "metadata": {},
   "outputs": [],
   "source": [
<<<<<<< HEAD
    "y = np.array([1.9, 28.5, 47.8])\n",
    "y"
=======
    "Y = np.array([1.9, 28.5, 47.8])\n",
    "Y"
>>>>>>> 125400a86d1b8868928350dd46b15d1f5b52dfbe
   ]
  },
  {
   "cell_type": "markdown",
   "metadata": {},
   "source": [
    "### 1.1 Calculate total product outputs and inputs"
   ]
  },
  {
<<<<<<< HEAD
=======
   "attachments": {},
>>>>>>> 125400a86d1b8868928350dd46b15d1f5b52dfbe
   "cell_type": "markdown",
   "metadata": {},
   "source": [
    "4. calculate total outputs: intermediate output + final product output\n",
    "\n",
<<<<<<< HEAD
    "    $x_i = \\sum_{i=0}^n Z_i + y_i$\n",
=======
    "    $x_i = \\sum_{i=0}^n Z_i + Y_i$\n",
>>>>>>> 125400a86d1b8868928350dd46b15d1f5b52dfbe
    "\n",
    "    tip: use the .sum() method and remember that axis=0 is columns and axis=1 is rows"
   ]
  },
  {
   "cell_type": "code",
   "execution_count": null,
   "metadata": {},
   "outputs": [],
   "source": [
    "Z_sum = None\n",
    "x_out = None\n",
    "x_out"
   ]
  },
  {
<<<<<<< HEAD
=======
   "attachments": {},
>>>>>>> 125400a86d1b8868928350dd46b15d1f5b52dfbe
   "cell_type": "markdown",
   "metadata": {},
   "source": [
    "5. calculate the total inputs: intermediate input + value added\n",
    "\n",
<<<<<<< HEAD
    "    $x_j = \\sum_{j=0}^n Z_j + v_j$"
=======
    "    $x_j = \\sum_{j=0}^n Z_j + V_j$"
>>>>>>> 125400a86d1b8868928350dd46b15d1f5b52dfbe
   ]
  },
  {
   "cell_type": "code",
   "execution_count": null,
   "metadata": {},
   "outputs": [],
   "source": [
    "Z_sum = None\n",
    "x_in = None\n",
    "x_in"
   ]
  },
  {
   "cell_type": "markdown",
   "metadata": {},
   "source": [
    "### 1.2 Calculate the Leontief quantity and price models"
   ]
  },
  {
   "cell_type": "markdown",
   "metadata": {},
   "source": [
    "1. Create a technical coefficient matrix and its identity matrix\n",
    "    \n",
    "   $\\mathbf{A} = \\mathbf{Z} \\hat{\\mathbf{x}}^{-1} $\n",
    "\n",
    "    tip: \n",
<<<<<<< HEAD
    "    - use the @ operand or np.matmult() method for multiplications\n",
=======
    "    - use the @ operand or np.matmul() method for multiplications\n",
>>>>>>> 125400a86d1b8868928350dd46b15d1f5b52dfbe
    "    - use the numpy diag() method to diagonalize a vector\n",
    "    - use numpy linalg.inv() method to perform inverses\n",
    "    - use numpy identity() method for the identity matrix, tip: use the number of columns between the brackets"
   ]
  },
  {
   "cell_type": "code",
   "execution_count": null,
   "metadata": {},
   "outputs": [],
   "source": [
    "# Create the technical coefficient matrix A first\n",
    "A = None\n",
    "\n",
    "# Create an identity matrix the same order (i.e., shape) as A\n",
    "I = None"
   ]
  },
  {
   "cell_type": "markdown",
   "metadata": {},
   "source": [
    "2. Calculate and verify the Leontief inverse\n",
    "\n",
    "    $\\mathbf{L} = (\\mathbf{I}-\\mathbf{A})^{-1}$\n",
    "\n",
    "    Steps: \n",
    "\n",
    "    - Calculate Leontief inverse using numpy.linalg.inv method\n",
    "\n",
    "    - multiply the Leontief inverse by final demand vector"
   ]
  },
  {
   "cell_type": "code",
   "execution_count": null,
   "metadata": {},
   "outputs": [],
   "source": [
    "# Calculate the leontief inverse matrix in the Demand-pull model\n",
    "# Use numpy linear algebra inverse function to get L = (I - A)^-1\n",
    "L = None\n",
    "L"
   ]
  },
  {
   "cell_type": "code",
   "execution_count": null,
   "metadata": {},
   "outputs": [],
   "source": [
<<<<<<< HEAD
    "# Check that the total product output is equal to the one we have already calculated x= Ly\n",
=======
    "# Check that the total product output is equal to the one we have already calculated x= LY\n",
>>>>>>> 125400a86d1b8868928350dd46b15d1f5b52dfbe
    "x = None\n",
    "x"
   ]
  },
  {
<<<<<<< HEAD
=======
   "attachments": {},
>>>>>>> 125400a86d1b8868928350dd46b15d1f5b52dfbe
   "cell_type": "markdown",
   "metadata": {},
   "source": [
    "3. Calculate the Leontief price model\n",
    "\n",
    "    $\\mathbf{L} = (\\mathbf{I}-\\mathbf{A}')^{-1}$\n",
    "\n",
    "    Steps: \n",
    "\n",
    "    - Transpose A\n",
    "\n",
    "    - Calculate Leontief inverse using numpy.linalg.inv method\n",
    "\n",
<<<<<<< HEAD
    "    - Calculate value added coeffients by dividing v by x\n",
=======
    "    - Calculate value added coefficients by dividing V by x\n",
>>>>>>> 125400a86d1b8868928350dd46b15d1f5b52dfbe
    "        \n",
    "    - multiply the Leontief inverse by the value added coefficients"
   ]
  },
  {
   "cell_type": "code",
   "execution_count": null,
   "metadata": {},
   "outputs": [],
   "source": [
    "# Transpose the direct requirement matrix A\n",
    "A_p = None\n",
    "# Calculate the leontief inverse matrix in the price model\n",
    "L_p = None"
   ]
  },
  {
   "cell_type": "code",
   "execution_count": null,
   "metadata": {},
   "outputs": [],
   "source": [
    "# calculate the value added coefficients by dividing the value added by total product output v= V/x\n",
    "v = None\n",
    "\n",
    "# Check that p=1\n",
    "p = None\n",
    "p"
   ]
  },
  {
   "cell_type": "markdown",
   "metadata": {},
   "source": [
    "### 1.3 Calculate the Ghosh quantity model"
   ]
  },
  {
   "cell_type": "markdown",
   "metadata": {},
   "source": [
    "1. Create a technical coefficient matrix B and its identity matrix\n",
    "\n",
    "    $\\mathbf{B} = \\hat{\\mathbf{x}}^{-1} \\mathbf{Z}$"
   ]
  },
  {
   "cell_type": "code",
   "execution_count": null,
   "metadata": {},
   "outputs": [],
   "source": [
    "# Calculate B\n",
    "B = None\n",
    "\n",
    "# Create an identity matrix the same order (i.e., shape) as B\n",
    "I = None"
   ]
  },
  {
   "cell_type": "markdown",
   "metadata": {},
   "source": [
    "2. Calculate and verify Ghosh inverse\n",
    "\n",
    "    $\\mathbf{G} = (\\mathbf{I}-\\mathbf{B})^{-1}$"
   ]
  },
  {
   "cell_type": "code",
   "execution_count": null,
   "metadata": {},
   "outputs": [],
   "source": [
    "# Calculate the Ghosh inverse matrix\n",
    "G = None"
   ]
  },
  {
   "cell_type": "code",
   "execution_count": null,
   "metadata": {},
   "outputs": [],
   "source": [
<<<<<<< HEAD
    "# Check that the total product input is equal to the one we have already calculated x=G'v\n",
=======
    "# Check that the total product input is equal to the one we have already calculated x=G'V\n",
>>>>>>> 125400a86d1b8868928350dd46b15d1f5b52dfbe
    "x_g = None\n",
    "x_g"
   ]
  },
  {
   "cell_type": "markdown",
   "metadata": {},
   "source": [
    "## Exercise 2\n",
    "Calculate backward and forward linkages"
   ]
  },
  {
   "cell_type": "markdown",
   "metadata": {},
   "source": [
    "### 2.1 Calculate backward linkages using A and L"
   ]
  },
  {
   "cell_type": "markdown",
   "metadata": {},
   "source": [
    "1. First assign all labels to the numpy array by turning them into pandas dataframes"
   ]
  },
  {
   "cell_type": "code",
   "execution_count": null,
   "metadata": {},
   "outputs": [],
   "source": [
    "# Labelling Leontief quantity model\n",
    "A = pd.DataFrame(A, index=labels, columns=labels)\n",
    "L = pd.DataFrame(L, index=labels, columns=labels)"
   ]
  },
  {
   "cell_type": "markdown",
   "metadata": {},
   "source": [
    "2. Column-wise sum of of A and L\n",
    "\n",
    "    tip: use .sum() method\n",
    "    \n",
    "    remember: in pandas axis=0 refers to columns axis=1 refers to rows"
   ]
  },
  {
   "cell_type": "code",
   "execution_count": null,
   "metadata": {},
   "outputs": [],
   "source": [
    "# Sum the sectors in A to obtain the direct backward linkages\n",
    "s_a_sum = None"
   ]
  },
  {
   "cell_type": "code",
   "execution_count": null,
   "metadata": {},
   "outputs": [],
   "source": [
    "# Sum the sectors in L to obtain the total backward linkages\n",
    "s_l_sum = None"
   ]
  },
  {
   "cell_type": "markdown",
   "metadata": {},
   "source": [
    "3. Normalize backward linkages results\n",
    "\n",
    "    steps:\n",
    "\n",
    "    - find the average value of the linkages by dividing their total sum by the number of sector/products\n",
    "    - divide the total linkages by the average value of the linkages "
   ]
  },
  {
   "cell_type": "code",
   "execution_count": null,
   "metadata": {},
   "outputs": [],
   "source": [
    "# Normalize direct backward linkages results \n",
    "no_sectors = len(s_a_sum)\n",
    "avg_a = None\n",
    "norm_dir_back_link = None"
   ]
  },
  {
   "cell_type": "code",
   "execution_count": null,
   "metadata": {},
   "outputs": [],
   "source": [
    "# Normalize total backward linkages results \n",
    "avg_l = None\n",
    "norm_tot_back_link = None"
   ]
  },
  {
   "cell_type": "code",
   "execution_count": null,
   "metadata": {},
   "outputs": [],
   "source": [
    "norm_backward_linkages = pd.concat([norm_dir_back_link, norm_tot_back_link], axis=1)\n",
    "norm_backward_linkages.columns = [\"direct_back_link\", \"total_back_link\"]\n",
    "norm_backward_linkages"
   ]
  },
  {
   "cell_type": "markdown",
   "metadata": {},
   "source": [
    "### 2.2 Calculate forward linkages using B and G"
   ]
  },
  {
   "cell_type": "markdown",
   "metadata": {},
   "source": [
    "1. Assign labels to B and G"
   ]
  },
  {
   "cell_type": "code",
   "execution_count": null,
   "metadata": {},
   "outputs": [],
   "source": [
    "# Labelling Ghosh quantity model\n",
    "B = pd.DataFrame(B, index=labels, columns=labels)\n",
    "G = pd.DataFrame(G, index=labels, columns=labels)"
   ]
  },
  {
   "cell_type": "markdown",
   "metadata": {},
   "source": [
    "2. Perform a row sum of B and G\n",
    "\n",
    "    tip: use .sum() method"
   ]
  },
  {
   "cell_type": "code",
   "execution_count": null,
   "metadata": {},
   "outputs": [],
   "source": [
    "# Sum the products in B to obtain the direct forward linkages\n",
    "s_b_sum = None\n",
    "s_b_sum"
   ]
  },
  {
   "cell_type": "code",
   "execution_count": null,
   "metadata": {},
   "outputs": [],
   "source": [
    "# Sum the products in G for the total forward linkages\n",
    "s_g_sum = None\n",
    "s_g_sum"
   ]
  },
  {
   "cell_type": "markdown",
   "metadata": {},
   "source": [
    "3. Normalize forward linkages results\n",
    "\n",
    "    steps:\n",
    "\n",
    "    - find the average value of the linkages by dividing their total sum by the number of sector/products\n",
    "    - divide the total linkages by the average value of the linkages "
   ]
  },
  {
   "cell_type": "code",
   "execution_count": null,
   "metadata": {},
   "outputs": [],
   "source": [
    "no_products = len(s_b_sum)\n",
    "\n",
    "# Normalize direct forward linkages results \n",
    "avg_b = None\n",
    "norm_dir_fwd_link = None"
   ]
  },
  {
   "cell_type": "code",
   "execution_count": null,
   "metadata": {},
   "outputs": [],
   "source": [
    "# Normalize total forward linkages results \n",
    "avg_g = None\n",
    "norm_tot_fwd_link = None"
   ]
  },
  {
   "cell_type": "code",
   "execution_count": null,
   "metadata": {},
   "outputs": [],
   "source": [
    "norm_forward_linkages = pd.concat([norm_dir_fwd_link, norm_tot_fwd_link], axis=1)\n",
    "norm_forward_linkages.columns = columns=[\"direct_fwd_link\", \"total_fwd_link\"]\n",
    "norm_forward_linkages"
   ]
  },
  {
   "cell_type": "markdown",
   "metadata": {},
   "source": [
    "#### 2.3  Concatenate the results into one table"
   ]
  },
  {
   "cell_type": "code",
   "execution_count": null,
   "metadata": {},
   "outputs": [],
   "source": [
    "# Print normalized results for backward and forward linkages\n",
    "pd.concat([norm_backward_linkages, norm_forward_linkages], axis=1)"
   ]
  },
  {
   "cell_type": "markdown",
   "metadata": {},
   "source": [
    "#### 2.4 Using the normalized results and the figure below, what can you tell about this IO system?\n",
    "\n",
    "![image](./figures/linkages.PNG)"
   ]
  },
  {
   "cell_type": "markdown",
   "metadata": {},
   "source": [
    "*Double click on the cell to replace this text with your answer*"
   ]
  }
 ],
 "metadata": {
  "kernelspec": {
   "display_name": "Python 3 (ipykernel)",
   "language": "python",
   "name": "python3"
  },
  "language_info": {
   "codemirror_mode": {
    "name": "ipython",
    "version": 3
   },
   "file_extension": ".py",
   "mimetype": "text/x-python",
   "name": "python",
   "nbconvert_exporter": "python",
   "pygments_lexer": "ipython3",
   "version": "3.9.16"
  },
  "vscode": {
   "interpreter": {
    "hash": "6d1f42742d8eeff3650217bec81eeb13815fa78739aef7423c986dc57d3645fd"
   }
  }
 },
 "nbformat": 4,
 "nbformat_minor": 4
}
